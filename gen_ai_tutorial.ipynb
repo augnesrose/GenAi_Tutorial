{
  "cells": [
    {
      "cell_type": "markdown",
      "metadata": {
        "id": "view-in-github",
        "colab_type": "text"
      },
      "source": [
        "<a href=\"https://colab.research.google.com/github/augnesrose/GenAi_Tutorial/blob/main/gen_ai_tutorial.ipynb\" target=\"_parent\"><img src=\"https://colab.research.google.com/assets/colab-badge.svg\" alt=\"Open In Colab\"/></a>"
      ]
    },
    {
      "cell_type": "code",
      "source": [
        "import pandas as pd\n"
      ],
      "metadata": {
        "id": "slmTFzpu8pCM"
      },
      "execution_count": null,
      "outputs": []
    },
    {
      "cell_type": "code",
      "source": [],
      "metadata": {
        "id": "ZSO_QV5T8uUA"
      },
      "execution_count": null,
      "outputs": []
    },
    {
      "cell_type": "code",
      "source": [
        "!pwd"
      ],
      "metadata": {
        "id": "j3uKFcXH8uW3",
        "outputId": "73aa866c-e81c-4b0b-92b0-cafdf4555975",
        "colab": {
          "base_uri": "https://localhost:8080/"
        }
      },
      "execution_count": null,
      "outputs": [
        {
          "output_type": "stream",
          "name": "stdout",
          "text": [
            "/content\n"
          ]
        }
      ]
    },
    {
      "cell_type": "code",
      "source": [
        "data_path=\"/content/IMDB Dataset.csv\""
      ],
      "metadata": {
        "id": "ELH9rEnU8uZf"
      },
      "execution_count": null,
      "outputs": []
    },
    {
      "cell_type": "code",
      "source": [
        "df = pd.read_csv(data_path)"
      ],
      "metadata": {
        "id": "imLCny4L8ub3"
      },
      "execution_count": null,
      "outputs": []
    },
    {
      "cell_type": "code",
      "source": [
        "from google.colab import drive\n",
        "drive.mount('/content/drive')"
      ],
      "metadata": {
        "id": "6gOF5Fnvsgmj",
        "colab": {
          "base_uri": "https://localhost:8080/"
        },
        "outputId": "e1939278-81b5-445f-87da-00edd46f65ca"
      },
      "execution_count": null,
      "outputs": [
        {
          "output_type": "stream",
          "name": "stdout",
          "text": [
            "Drive already mounted at /content/drive; to attempt to forcibly remount, call drive.mount(\"/content/drive\", force_remount=True).\n"
          ]
        }
      ]
    },
    {
      "cell_type": "code",
      "source": [
        "df.shape"
      ],
      "metadata": {
        "id": "0r-w5Wx88ueC",
        "outputId": "abb26e5c-da97-4c8d-cea8-056ba5c5ca42",
        "colab": {
          "base_uri": "https://localhost:8080/"
        }
      },
      "execution_count": null,
      "outputs": [
        {
          "output_type": "execute_result",
          "data": {
            "text/plain": [
              "(50000, 2)"
            ]
          },
          "metadata": {},
          "execution_count": 88
        }
      ]
    },
    {
      "cell_type": "code",
      "source": [
        "df.head()"
      ],
      "metadata": {
        "id": "fc1BQDJ18uhm",
        "outputId": "6cd13335-ef74-44bf-d6cb-f6b7b6ded302",
        "colab": {
          "base_uri": "https://localhost:8080/",
          "height": 206
        }
      },
      "execution_count": null,
      "outputs": [
        {
          "output_type": "execute_result",
          "data": {
            "text/plain": [
              "                                              review sentiment\n",
              "0  One of the other reviewers has mentioned that ...  positive\n",
              "1  A wonderful little production. <br /><br />The...  positive\n",
              "2  I thought this was a wonderful way to spend ti...  positive\n",
              "3  Basically there's a family where a little boy ...  negative\n",
              "4  Petter Mattei's \"Love in the Time of Money\" is...  positive"
            ],
            "text/html": [
              "\n",
              "  <div id=\"df-d3ed34da-ac27-4f6d-bf2f-0921044515df\" class=\"colab-df-container\">\n",
              "    <div>\n",
              "<style scoped>\n",
              "    .dataframe tbody tr th:only-of-type {\n",
              "        vertical-align: middle;\n",
              "    }\n",
              "\n",
              "    .dataframe tbody tr th {\n",
              "        vertical-align: top;\n",
              "    }\n",
              "\n",
              "    .dataframe thead th {\n",
              "        text-align: right;\n",
              "    }\n",
              "</style>\n",
              "<table border=\"1\" class=\"dataframe\">\n",
              "  <thead>\n",
              "    <tr style=\"text-align: right;\">\n",
              "      <th></th>\n",
              "      <th>review</th>\n",
              "      <th>sentiment</th>\n",
              "    </tr>\n",
              "  </thead>\n",
              "  <tbody>\n",
              "    <tr>\n",
              "      <th>0</th>\n",
              "      <td>One of the other reviewers has mentioned that ...</td>\n",
              "      <td>positive</td>\n",
              "    </tr>\n",
              "    <tr>\n",
              "      <th>1</th>\n",
              "      <td>A wonderful little production. &lt;br /&gt;&lt;br /&gt;The...</td>\n",
              "      <td>positive</td>\n",
              "    </tr>\n",
              "    <tr>\n",
              "      <th>2</th>\n",
              "      <td>I thought this was a wonderful way to spend ti...</td>\n",
              "      <td>positive</td>\n",
              "    </tr>\n",
              "    <tr>\n",
              "      <th>3</th>\n",
              "      <td>Basically there's a family where a little boy ...</td>\n",
              "      <td>negative</td>\n",
              "    </tr>\n",
              "    <tr>\n",
              "      <th>4</th>\n",
              "      <td>Petter Mattei's \"Love in the Time of Money\" is...</td>\n",
              "      <td>positive</td>\n",
              "    </tr>\n",
              "  </tbody>\n",
              "</table>\n",
              "</div>\n",
              "    <div class=\"colab-df-buttons\">\n",
              "\n",
              "  <div class=\"colab-df-container\">\n",
              "    <button class=\"colab-df-convert\" onclick=\"convertToInteractive('df-d3ed34da-ac27-4f6d-bf2f-0921044515df')\"\n",
              "            title=\"Convert this dataframe to an interactive table.\"\n",
              "            style=\"display:none;\">\n",
              "\n",
              "  <svg xmlns=\"http://www.w3.org/2000/svg\" height=\"24px\" viewBox=\"0 -960 960 960\">\n",
              "    <path d=\"M120-120v-720h720v720H120Zm60-500h600v-160H180v160Zm220 220h160v-160H400v160Zm0 220h160v-160H400v160ZM180-400h160v-160H180v160Zm440 0h160v-160H620v160ZM180-180h160v-160H180v160Zm440 0h160v-160H620v160Z\"/>\n",
              "  </svg>\n",
              "    </button>\n",
              "\n",
              "  <style>\n",
              "    .colab-df-container {\n",
              "      display:flex;\n",
              "      gap: 12px;\n",
              "    }\n",
              "\n",
              "    .colab-df-convert {\n",
              "      background-color: #E8F0FE;\n",
              "      border: none;\n",
              "      border-radius: 50%;\n",
              "      cursor: pointer;\n",
              "      display: none;\n",
              "      fill: #1967D2;\n",
              "      height: 32px;\n",
              "      padding: 0 0 0 0;\n",
              "      width: 32px;\n",
              "    }\n",
              "\n",
              "    .colab-df-convert:hover {\n",
              "      background-color: #E2EBFA;\n",
              "      box-shadow: 0px 1px 2px rgba(60, 64, 67, 0.3), 0px 1px 3px 1px rgba(60, 64, 67, 0.15);\n",
              "      fill: #174EA6;\n",
              "    }\n",
              "\n",
              "    .colab-df-buttons div {\n",
              "      margin-bottom: 4px;\n",
              "    }\n",
              "\n",
              "    [theme=dark] .colab-df-convert {\n",
              "      background-color: #3B4455;\n",
              "      fill: #D2E3FC;\n",
              "    }\n",
              "\n",
              "    [theme=dark] .colab-df-convert:hover {\n",
              "      background-color: #434B5C;\n",
              "      box-shadow: 0px 1px 3px 1px rgba(0, 0, 0, 0.15);\n",
              "      filter: drop-shadow(0px 1px 2px rgba(0, 0, 0, 0.3));\n",
              "      fill: #FFFFFF;\n",
              "    }\n",
              "  </style>\n",
              "\n",
              "    <script>\n",
              "      const buttonEl =\n",
              "        document.querySelector('#df-d3ed34da-ac27-4f6d-bf2f-0921044515df button.colab-df-convert');\n",
              "      buttonEl.style.display =\n",
              "        google.colab.kernel.accessAllowed ? 'block' : 'none';\n",
              "\n",
              "      async function convertToInteractive(key) {\n",
              "        const element = document.querySelector('#df-d3ed34da-ac27-4f6d-bf2f-0921044515df');\n",
              "        const dataTable =\n",
              "          await google.colab.kernel.invokeFunction('convertToInteractive',\n",
              "                                                    [key], {});\n",
              "        if (!dataTable) return;\n",
              "\n",
              "        const docLinkHtml = 'Like what you see? Visit the ' +\n",
              "          '<a target=\"_blank\" href=https://colab.research.google.com/notebooks/data_table.ipynb>data table notebook</a>'\n",
              "          + ' to learn more about interactive tables.';\n",
              "        element.innerHTML = '';\n",
              "        dataTable['output_type'] = 'display_data';\n",
              "        await google.colab.output.renderOutput(dataTable, element);\n",
              "        const docLink = document.createElement('div');\n",
              "        docLink.innerHTML = docLinkHtml;\n",
              "        element.appendChild(docLink);\n",
              "      }\n",
              "    </script>\n",
              "  </div>\n",
              "\n",
              "\n",
              "    <div id=\"df-2dec79c8-ab2b-4b69-bddb-8e477191c211\">\n",
              "      <button class=\"colab-df-quickchart\" onclick=\"quickchart('df-2dec79c8-ab2b-4b69-bddb-8e477191c211')\"\n",
              "                title=\"Suggest charts\"\n",
              "                style=\"display:none;\">\n",
              "\n",
              "<svg xmlns=\"http://www.w3.org/2000/svg\" height=\"24px\"viewBox=\"0 0 24 24\"\n",
              "     width=\"24px\">\n",
              "    <g>\n",
              "        <path d=\"M19 3H5c-1.1 0-2 .9-2 2v14c0 1.1.9 2 2 2h14c1.1 0 2-.9 2-2V5c0-1.1-.9-2-2-2zM9 17H7v-7h2v7zm4 0h-2V7h2v10zm4 0h-2v-4h2v4z\"/>\n",
              "    </g>\n",
              "</svg>\n",
              "      </button>\n",
              "\n",
              "<style>\n",
              "  .colab-df-quickchart {\n",
              "      --bg-color: #E8F0FE;\n",
              "      --fill-color: #1967D2;\n",
              "      --hover-bg-color: #E2EBFA;\n",
              "      --hover-fill-color: #174EA6;\n",
              "      --disabled-fill-color: #AAA;\n",
              "      --disabled-bg-color: #DDD;\n",
              "  }\n",
              "\n",
              "  [theme=dark] .colab-df-quickchart {\n",
              "      --bg-color: #3B4455;\n",
              "      --fill-color: #D2E3FC;\n",
              "      --hover-bg-color: #434B5C;\n",
              "      --hover-fill-color: #FFFFFF;\n",
              "      --disabled-bg-color: #3B4455;\n",
              "      --disabled-fill-color: #666;\n",
              "  }\n",
              "\n",
              "  .colab-df-quickchart {\n",
              "    background-color: var(--bg-color);\n",
              "    border: none;\n",
              "    border-radius: 50%;\n",
              "    cursor: pointer;\n",
              "    display: none;\n",
              "    fill: var(--fill-color);\n",
              "    height: 32px;\n",
              "    padding: 0;\n",
              "    width: 32px;\n",
              "  }\n",
              "\n",
              "  .colab-df-quickchart:hover {\n",
              "    background-color: var(--hover-bg-color);\n",
              "    box-shadow: 0 1px 2px rgba(60, 64, 67, 0.3), 0 1px 3px 1px rgba(60, 64, 67, 0.15);\n",
              "    fill: var(--button-hover-fill-color);\n",
              "  }\n",
              "\n",
              "  .colab-df-quickchart-complete:disabled,\n",
              "  .colab-df-quickchart-complete:disabled:hover {\n",
              "    background-color: var(--disabled-bg-color);\n",
              "    fill: var(--disabled-fill-color);\n",
              "    box-shadow: none;\n",
              "  }\n",
              "\n",
              "  .colab-df-spinner {\n",
              "    border: 2px solid var(--fill-color);\n",
              "    border-color: transparent;\n",
              "    border-bottom-color: var(--fill-color);\n",
              "    animation:\n",
              "      spin 1s steps(1) infinite;\n",
              "  }\n",
              "\n",
              "  @keyframes spin {\n",
              "    0% {\n",
              "      border-color: transparent;\n",
              "      border-bottom-color: var(--fill-color);\n",
              "      border-left-color: var(--fill-color);\n",
              "    }\n",
              "    20% {\n",
              "      border-color: transparent;\n",
              "      border-left-color: var(--fill-color);\n",
              "      border-top-color: var(--fill-color);\n",
              "    }\n",
              "    30% {\n",
              "      border-color: transparent;\n",
              "      border-left-color: var(--fill-color);\n",
              "      border-top-color: var(--fill-color);\n",
              "      border-right-color: var(--fill-color);\n",
              "    }\n",
              "    40% {\n",
              "      border-color: transparent;\n",
              "      border-right-color: var(--fill-color);\n",
              "      border-top-color: var(--fill-color);\n",
              "    }\n",
              "    60% {\n",
              "      border-color: transparent;\n",
              "      border-right-color: var(--fill-color);\n",
              "    }\n",
              "    80% {\n",
              "      border-color: transparent;\n",
              "      border-right-color: var(--fill-color);\n",
              "      border-bottom-color: var(--fill-color);\n",
              "    }\n",
              "    90% {\n",
              "      border-color: transparent;\n",
              "      border-bottom-color: var(--fill-color);\n",
              "    }\n",
              "  }\n",
              "</style>\n",
              "\n",
              "      <script>\n",
              "        async function quickchart(key) {\n",
              "          const quickchartButtonEl =\n",
              "            document.querySelector('#' + key + ' button');\n",
              "          quickchartButtonEl.disabled = true;  // To prevent multiple clicks.\n",
              "          quickchartButtonEl.classList.add('colab-df-spinner');\n",
              "          try {\n",
              "            const charts = await google.colab.kernel.invokeFunction(\n",
              "                'suggestCharts', [key], {});\n",
              "          } catch (error) {\n",
              "            console.error('Error during call to suggestCharts:', error);\n",
              "          }\n",
              "          quickchartButtonEl.classList.remove('colab-df-spinner');\n",
              "          quickchartButtonEl.classList.add('colab-df-quickchart-complete');\n",
              "        }\n",
              "        (() => {\n",
              "          let quickchartButtonEl =\n",
              "            document.querySelector('#df-2dec79c8-ab2b-4b69-bddb-8e477191c211 button');\n",
              "          quickchartButtonEl.style.display =\n",
              "            google.colab.kernel.accessAllowed ? 'block' : 'none';\n",
              "        })();\n",
              "      </script>\n",
              "    </div>\n",
              "\n",
              "    </div>\n",
              "  </div>\n"
            ],
            "application/vnd.google.colaboratory.intrinsic+json": {
              "type": "dataframe",
              "variable_name": "df",
              "summary": "{\n  \"name\": \"df\",\n  \"rows\": 50000,\n  \"fields\": [\n    {\n      \"column\": \"review\",\n      \"properties\": {\n        \"dtype\": \"string\",\n        \"num_unique_values\": 49582,\n        \"samples\": [\n          \"\\\"Soul Plane\\\" is a horrible attempt at comedy that only should appeal people with thick skulls, bloodshot eyes and furry pawns. <br /><br />The plot is not only incoherent but also non-existent, acting is mostly sub sub-par with a gang of highly moronic and dreadful characters thrown in for bad measure, jokes are often spotted miles ahead and almost never even a bit amusing. This movie lacks any structure and is full of racial stereotypes that must have seemed old even in the fifties, the only thing it really has going for it is some pretty ladies, but really, if you want that you can rent something from the \\\"Adult\\\" section. OK?<br /><br />I can hardly see anything here to recommend since you'll probably have a lot a better and productive time chasing rats with a sledgehammer or inventing waterproof teabags or whatever.<br /><br />2/10\",\n          \"Guest from the Future tells a fascinating story of time travel, friendship, battle of good and evil -- all with a small budget, child actors, and few special effects. Something for Spielberg and Lucas to learn from. ;) A sixth-grader Kolya \\\"Nick\\\" Gerasimov finds a time machine in the basement of a decrepit building and travels 100 years into the future. He discovers a near-perfect, utopian society where robots play guitars and write poetry, everyone is kind to each other and people enjoy everything technology has to offer. Alice is the daughter of a prominent scientist who invented a device called Mielophone that allows to read minds of humans and animals. The device can be put to both good and bad use, depending on whose hands it falls into. When two evil space pirates from Saturn who want to rule the universe attempt to steal Mielophone, it falls into the hands of 20th century school boy Nick. With the pirates hot on his tracks, he travels back to his time, followed by the pirates, and Alice. Chaos, confusion and funny situations follow as the luckless pirates try to blend in with the earthlings. Alice enrolls in the same school Nick goes to and demonstrates superhuman abilities in PE class. The catch is, Alice doesn't know what Nick looks like, while the pirates do. Also, the pirates are able to change their appearance and turn literally into anyone. (Hmm, I wonder if this is where James Cameron got the idea for Terminator...) Who gets to Nick -- and Mielophone -- first? Excellent plot, non-stop adventures, and great soundtrack. I wish Hollywood made kid movies like this one...\",\n          \"\\\"National Treasure\\\" (2004) is a thoroughly misguided hodge-podge of plot entanglements that borrow from nearly every cloak and dagger government conspiracy clich\\u00e9 that has ever been written. The film stars Nicholas Cage as Benjamin Franklin Gates (how precious is that, I ask you?); a seemingly normal fellow who, for no other reason than being of a lineage of like-minded misguided fortune hunters, decides to steal a 'national treasure' that has been hidden by the United States founding fathers. After a bit of subtext and background that plays laughably (unintentionally) like Indiana Jones meets The Patriot, the film degenerates into one misguided whimsy after another \\u0096 attempting to create a 'Stanley Goodspeed' regurgitation of Nicholas Cage and launch the whole convoluted mess forward with a series of high octane, but disconnected misadventures.<br /><br />The relevancy and logic to having George Washington and his motley crew of patriots burying a king's ransom someplace on native soil, and then, going through the meticulous plan of leaving clues scattered throughout U.S. currency art work, is something that director Jon Turteltaub never quite gets around to explaining. Couldn't Washington found better usage for such wealth during the start up of the country? Hence, we are left with a mystery built on top of an enigma that is already on shaky ground by the time Ben appoints himself the new custodian of this untold wealth. Ben's intentions are noble \\u0096 if confusing. He's set on protecting the treasure. For who and when?\\u0085your guess is as good as mine.<br /><br />But there are a few problems with Ben's crusade. First up, his friend, Ian Holmes (Sean Bean) decides that he can't wait for Ben to make up his mind about stealing the Declaration of Independence from the National Archives (oh, yeah \\u0096 brilliant idea!). Presumably, the back of that famous document holds the secret answer to the ultimate fortune. So Ian tries to kill Ben. The assassination attempt is, of course, unsuccessful, if overly melodramatic. It also affords Ben the opportunity to pick up, and pick on, the very sultry curator of the archives, Abigail Chase (Diane Kruger). She thinks Ben is clearly a nut \\u0096 at least at the beginning. But true to action/romance form, Abby's resolve melts quicker than you can say, \\\"is that the Hope Diamond?\\\" The film moves into full X-File-ish mode, as the FBI, mistakenly believing that Ben is behind the theft, retaliate in various benign ways that lead to a multi-layering of action sequences reminiscent of Mission Impossible meets The Fugitive. Honestly, don't those guys ever get 'intelligence' information that is correct? In the final analysis, \\\"National Treasure\\\" isn't great film making, so much as it's a patchwork rehash of tired old bits from other movies, woven together from scraps, the likes of which would make IL' Betsy Ross blush.<br /><br />The Buena Vista DVD delivers a far more generous treatment than this film is deserving of. The anamorphic widescreen picture exhibits a very smooth and finely detailed image with very rich colors, natural flesh tones, solid blacks and clean whites. The stylized image is also free of blemishes and digital enhancements. The audio is 5.1 and delivers a nice sonic boom to your side and rear speakers with intensity and realism. Extras include a host of promotional junket material that is rather deep and over the top in its explanation of how and why this film was made. If only, as an audience, we had had more clarification as to why Ben and co. were chasing after an illusive treasure, this might have been one good flick. Extras conclude with the theatrical trailer, audio commentary and deleted scenes. Not for the faint-hearted \\u0096 just the thick-headed.\"\n        ],\n        \"semantic_type\": \"\",\n        \"description\": \"\"\n      }\n    },\n    {\n      \"column\": \"sentiment\",\n      \"properties\": {\n        \"dtype\": \"category\",\n        \"num_unique_values\": 2,\n        \"samples\": [\n          \"negative\",\n          \"positive\"\n        ],\n        \"semantic_type\": \"\",\n        \"description\": \"\"\n      }\n    }\n  ]\n}"
            }
          },
          "metadata": {},
          "execution_count": 89
        }
      ]
    },
    {
      "cell_type": "code",
      "source": [
        "df=df.head(100)"
      ],
      "metadata": {
        "id": "S9jwy9Aw-pYY"
      },
      "execution_count": null,
      "outputs": []
    },
    {
      "cell_type": "code",
      "source": [
        "df.shape"
      ],
      "metadata": {
        "id": "dXei_iHD-paz",
        "outputId": "7ba4fe03-aea9-4b40-8607-23b124e672eb",
        "colab": {
          "base_uri": "https://localhost:8080/"
        }
      },
      "execution_count": null,
      "outputs": [
        {
          "output_type": "execute_result",
          "data": {
            "text/plain": [
              "(100, 2)"
            ]
          },
          "metadata": {},
          "execution_count": 91
        }
      ]
    },
    {
      "cell_type": "code",
      "source": [
        "df.head()"
      ],
      "metadata": {
        "id": "97h1qAaL-pdJ",
        "outputId": "3c29be01-b104-4349-9274-7f434bd02985",
        "colab": {
          "base_uri": "https://localhost:8080/",
          "height": 206
        }
      },
      "execution_count": null,
      "outputs": [
        {
          "output_type": "execute_result",
          "data": {
            "text/plain": [
              "                                              review sentiment\n",
              "0  One of the other reviewers has mentioned that ...  positive\n",
              "1  A wonderful little production. <br /><br />The...  positive\n",
              "2  I thought this was a wonderful way to spend ti...  positive\n",
              "3  Basically there's a family where a little boy ...  negative\n",
              "4  Petter Mattei's \"Love in the Time of Money\" is...  positive"
            ],
            "text/html": [
              "\n",
              "  <div id=\"df-1e682092-e5c8-44d5-a26c-e05b8234b1be\" class=\"colab-df-container\">\n",
              "    <div>\n",
              "<style scoped>\n",
              "    .dataframe tbody tr th:only-of-type {\n",
              "        vertical-align: middle;\n",
              "    }\n",
              "\n",
              "    .dataframe tbody tr th {\n",
              "        vertical-align: top;\n",
              "    }\n",
              "\n",
              "    .dataframe thead th {\n",
              "        text-align: right;\n",
              "    }\n",
              "</style>\n",
              "<table border=\"1\" class=\"dataframe\">\n",
              "  <thead>\n",
              "    <tr style=\"text-align: right;\">\n",
              "      <th></th>\n",
              "      <th>review</th>\n",
              "      <th>sentiment</th>\n",
              "    </tr>\n",
              "  </thead>\n",
              "  <tbody>\n",
              "    <tr>\n",
              "      <th>0</th>\n",
              "      <td>One of the other reviewers has mentioned that ...</td>\n",
              "      <td>positive</td>\n",
              "    </tr>\n",
              "    <tr>\n",
              "      <th>1</th>\n",
              "      <td>A wonderful little production. &lt;br /&gt;&lt;br /&gt;The...</td>\n",
              "      <td>positive</td>\n",
              "    </tr>\n",
              "    <tr>\n",
              "      <th>2</th>\n",
              "      <td>I thought this was a wonderful way to spend ti...</td>\n",
              "      <td>positive</td>\n",
              "    </tr>\n",
              "    <tr>\n",
              "      <th>3</th>\n",
              "      <td>Basically there's a family where a little boy ...</td>\n",
              "      <td>negative</td>\n",
              "    </tr>\n",
              "    <tr>\n",
              "      <th>4</th>\n",
              "      <td>Petter Mattei's \"Love in the Time of Money\" is...</td>\n",
              "      <td>positive</td>\n",
              "    </tr>\n",
              "  </tbody>\n",
              "</table>\n",
              "</div>\n",
              "    <div class=\"colab-df-buttons\">\n",
              "\n",
              "  <div class=\"colab-df-container\">\n",
              "    <button class=\"colab-df-convert\" onclick=\"convertToInteractive('df-1e682092-e5c8-44d5-a26c-e05b8234b1be')\"\n",
              "            title=\"Convert this dataframe to an interactive table.\"\n",
              "            style=\"display:none;\">\n",
              "\n",
              "  <svg xmlns=\"http://www.w3.org/2000/svg\" height=\"24px\" viewBox=\"0 -960 960 960\">\n",
              "    <path d=\"M120-120v-720h720v720H120Zm60-500h600v-160H180v160Zm220 220h160v-160H400v160Zm0 220h160v-160H400v160ZM180-400h160v-160H180v160Zm440 0h160v-160H620v160ZM180-180h160v-160H180v160Zm440 0h160v-160H620v160Z\"/>\n",
              "  </svg>\n",
              "    </button>\n",
              "\n",
              "  <style>\n",
              "    .colab-df-container {\n",
              "      display:flex;\n",
              "      gap: 12px;\n",
              "    }\n",
              "\n",
              "    .colab-df-convert {\n",
              "      background-color: #E8F0FE;\n",
              "      border: none;\n",
              "      border-radius: 50%;\n",
              "      cursor: pointer;\n",
              "      display: none;\n",
              "      fill: #1967D2;\n",
              "      height: 32px;\n",
              "      padding: 0 0 0 0;\n",
              "      width: 32px;\n",
              "    }\n",
              "\n",
              "    .colab-df-convert:hover {\n",
              "      background-color: #E2EBFA;\n",
              "      box-shadow: 0px 1px 2px rgba(60, 64, 67, 0.3), 0px 1px 3px 1px rgba(60, 64, 67, 0.15);\n",
              "      fill: #174EA6;\n",
              "    }\n",
              "\n",
              "    .colab-df-buttons div {\n",
              "      margin-bottom: 4px;\n",
              "    }\n",
              "\n",
              "    [theme=dark] .colab-df-convert {\n",
              "      background-color: #3B4455;\n",
              "      fill: #D2E3FC;\n",
              "    }\n",
              "\n",
              "    [theme=dark] .colab-df-convert:hover {\n",
              "      background-color: #434B5C;\n",
              "      box-shadow: 0px 1px 3px 1px rgba(0, 0, 0, 0.15);\n",
              "      filter: drop-shadow(0px 1px 2px rgba(0, 0, 0, 0.3));\n",
              "      fill: #FFFFFF;\n",
              "    }\n",
              "  </style>\n",
              "\n",
              "    <script>\n",
              "      const buttonEl =\n",
              "        document.querySelector('#df-1e682092-e5c8-44d5-a26c-e05b8234b1be button.colab-df-convert');\n",
              "      buttonEl.style.display =\n",
              "        google.colab.kernel.accessAllowed ? 'block' : 'none';\n",
              "\n",
              "      async function convertToInteractive(key) {\n",
              "        const element = document.querySelector('#df-1e682092-e5c8-44d5-a26c-e05b8234b1be');\n",
              "        const dataTable =\n",
              "          await google.colab.kernel.invokeFunction('convertToInteractive',\n",
              "                                                    [key], {});\n",
              "        if (!dataTable) return;\n",
              "\n",
              "        const docLinkHtml = 'Like what you see? Visit the ' +\n",
              "          '<a target=\"_blank\" href=https://colab.research.google.com/notebooks/data_table.ipynb>data table notebook</a>'\n",
              "          + ' to learn more about interactive tables.';\n",
              "        element.innerHTML = '';\n",
              "        dataTable['output_type'] = 'display_data';\n",
              "        await google.colab.output.renderOutput(dataTable, element);\n",
              "        const docLink = document.createElement('div');\n",
              "        docLink.innerHTML = docLinkHtml;\n",
              "        element.appendChild(docLink);\n",
              "      }\n",
              "    </script>\n",
              "  </div>\n",
              "\n",
              "\n",
              "    <div id=\"df-e59d5cb0-11e6-4121-a394-323364802945\">\n",
              "      <button class=\"colab-df-quickchart\" onclick=\"quickchart('df-e59d5cb0-11e6-4121-a394-323364802945')\"\n",
              "                title=\"Suggest charts\"\n",
              "                style=\"display:none;\">\n",
              "\n",
              "<svg xmlns=\"http://www.w3.org/2000/svg\" height=\"24px\"viewBox=\"0 0 24 24\"\n",
              "     width=\"24px\">\n",
              "    <g>\n",
              "        <path d=\"M19 3H5c-1.1 0-2 .9-2 2v14c0 1.1.9 2 2 2h14c1.1 0 2-.9 2-2V5c0-1.1-.9-2-2-2zM9 17H7v-7h2v7zm4 0h-2V7h2v10zm4 0h-2v-4h2v4z\"/>\n",
              "    </g>\n",
              "</svg>\n",
              "      </button>\n",
              "\n",
              "<style>\n",
              "  .colab-df-quickchart {\n",
              "      --bg-color: #E8F0FE;\n",
              "      --fill-color: #1967D2;\n",
              "      --hover-bg-color: #E2EBFA;\n",
              "      --hover-fill-color: #174EA6;\n",
              "      --disabled-fill-color: #AAA;\n",
              "      --disabled-bg-color: #DDD;\n",
              "  }\n",
              "\n",
              "  [theme=dark] .colab-df-quickchart {\n",
              "      --bg-color: #3B4455;\n",
              "      --fill-color: #D2E3FC;\n",
              "      --hover-bg-color: #434B5C;\n",
              "      --hover-fill-color: #FFFFFF;\n",
              "      --disabled-bg-color: #3B4455;\n",
              "      --disabled-fill-color: #666;\n",
              "  }\n",
              "\n",
              "  .colab-df-quickchart {\n",
              "    background-color: var(--bg-color);\n",
              "    border: none;\n",
              "    border-radius: 50%;\n",
              "    cursor: pointer;\n",
              "    display: none;\n",
              "    fill: var(--fill-color);\n",
              "    height: 32px;\n",
              "    padding: 0;\n",
              "    width: 32px;\n",
              "  }\n",
              "\n",
              "  .colab-df-quickchart:hover {\n",
              "    background-color: var(--hover-bg-color);\n",
              "    box-shadow: 0 1px 2px rgba(60, 64, 67, 0.3), 0 1px 3px 1px rgba(60, 64, 67, 0.15);\n",
              "    fill: var(--button-hover-fill-color);\n",
              "  }\n",
              "\n",
              "  .colab-df-quickchart-complete:disabled,\n",
              "  .colab-df-quickchart-complete:disabled:hover {\n",
              "    background-color: var(--disabled-bg-color);\n",
              "    fill: var(--disabled-fill-color);\n",
              "    box-shadow: none;\n",
              "  }\n",
              "\n",
              "  .colab-df-spinner {\n",
              "    border: 2px solid var(--fill-color);\n",
              "    border-color: transparent;\n",
              "    border-bottom-color: var(--fill-color);\n",
              "    animation:\n",
              "      spin 1s steps(1) infinite;\n",
              "  }\n",
              "\n",
              "  @keyframes spin {\n",
              "    0% {\n",
              "      border-color: transparent;\n",
              "      border-bottom-color: var(--fill-color);\n",
              "      border-left-color: var(--fill-color);\n",
              "    }\n",
              "    20% {\n",
              "      border-color: transparent;\n",
              "      border-left-color: var(--fill-color);\n",
              "      border-top-color: var(--fill-color);\n",
              "    }\n",
              "    30% {\n",
              "      border-color: transparent;\n",
              "      border-left-color: var(--fill-color);\n",
              "      border-top-color: var(--fill-color);\n",
              "      border-right-color: var(--fill-color);\n",
              "    }\n",
              "    40% {\n",
              "      border-color: transparent;\n",
              "      border-right-color: var(--fill-color);\n",
              "      border-top-color: var(--fill-color);\n",
              "    }\n",
              "    60% {\n",
              "      border-color: transparent;\n",
              "      border-right-color: var(--fill-color);\n",
              "    }\n",
              "    80% {\n",
              "      border-color: transparent;\n",
              "      border-right-color: var(--fill-color);\n",
              "      border-bottom-color: var(--fill-color);\n",
              "    }\n",
              "    90% {\n",
              "      border-color: transparent;\n",
              "      border-bottom-color: var(--fill-color);\n",
              "    }\n",
              "  }\n",
              "</style>\n",
              "\n",
              "      <script>\n",
              "        async function quickchart(key) {\n",
              "          const quickchartButtonEl =\n",
              "            document.querySelector('#' + key + ' button');\n",
              "          quickchartButtonEl.disabled = true;  // To prevent multiple clicks.\n",
              "          quickchartButtonEl.classList.add('colab-df-spinner');\n",
              "          try {\n",
              "            const charts = await google.colab.kernel.invokeFunction(\n",
              "                'suggestCharts', [key], {});\n",
              "          } catch (error) {\n",
              "            console.error('Error during call to suggestCharts:', error);\n",
              "          }\n",
              "          quickchartButtonEl.classList.remove('colab-df-spinner');\n",
              "          quickchartButtonEl.classList.add('colab-df-quickchart-complete');\n",
              "        }\n",
              "        (() => {\n",
              "          let quickchartButtonEl =\n",
              "            document.querySelector('#df-e59d5cb0-11e6-4121-a394-323364802945 button');\n",
              "          quickchartButtonEl.style.display =\n",
              "            google.colab.kernel.accessAllowed ? 'block' : 'none';\n",
              "        })();\n",
              "      </script>\n",
              "    </div>\n",
              "\n",
              "    </div>\n",
              "  </div>\n"
            ],
            "application/vnd.google.colaboratory.intrinsic+json": {
              "type": "dataframe",
              "variable_name": "df",
              "summary": "{\n  \"name\": \"df\",\n  \"rows\": 100,\n  \"fields\": [\n    {\n      \"column\": \"review\",\n      \"properties\": {\n        \"dtype\": \"string\",\n        \"num_unique_values\": 100,\n        \"samples\": [\n          \"\\\"Fate\\\" leads Walter Sparrow to come in possession of a mysterious novel that has eerie similarities and connections to his life, all based around the number 23. As the story unfolds in real life and fiction, Sparrow must figure out his connection to the book and how the story will eventually end.<br /><br />The Number 23 offers an intriguing premise that is undone by a weak execution. The film just failed on many different levels which is pretty disappointing because it held so much potential. The screenplay was probably the worst part about it. It was filled with silly sequences and laughable dialog that just killed the mood of the movie. It seemed like the screenwriter had a good idea, he just didn't know how to develop it to stretch over a ninety minute running time. The second half of the film was running low on ideas, the twist was pretty obvious and the ending was awful.<br /><br />Joel Schumacher is responsible for one of the worst movies ever and he did redeem himself a little with Phone Booth and a few other films but The Number 23 reminds me that he's still capable of making a stinker. He has the movie drenched in style but he just can't get a good focus. He moves the film at a clunky and slow pace. He switches from reality to what's actually happening in the book which quickly got annoying. The actual book in the film that's titled \\\"The Number 23\\\" is an awful detective story and the audience gets stuck listening to Carrey narrate it which just bored me to tears. When Carrey is finally done with book, we get stuck watching him run around trying to solve the mystery. At this point, the audience has lost interest and there is no real tension. We impatiently wait for the movie to reach it's horrible ending and unconvincing explanation before celebrating that film has finally finished.<br /><br />The acting was mostly average and pretty forgettable. Jim Carrey was clearly just sleepwalking through his performance and he didn't even seem to be trying. He was either completely over the top in some scenes or just very wooden. His narration was a complete bore to listen to and he put no life inside his character. Virginia Madsen did the best she could with a limited role but she needs to pick better scripts. Logan Lerman was pretty bland as was Danny Huston. Overall, The Number 23 was an awful thriller that offered more laughs than suspense or thrills. Rating 3/10\",\n          \"I cannot believe I enjoyed this as much as I did. The anthology stories were better than par, but the linking story and its surprise ending hooked me. Alot of familiar faces will keep you asking yourself \\\"where I have I seen them before?\\\" Forget the running time listed on New Line's tape, this ain't no 103 minutes, according to my VCR timer and IMDB. Space Maggot douses the campfire in his own special way and hikes this an 8.\",\n          \"Caddyshack Two is a good movie by itself but compared to the original it cant stack up. Robert Stack is a horrible replacement for Ted Knight and Jackie Mason, while funny just cant compete with Rodney Dangerfield. Ty Webb is funny, being the only character from the original. Most of the other characters in the movie lack the punch of the original (Henry Wilcoxon for example) except for the hystericly funny lawyer Peter Blunt, being played by Randy Quaid. Every line he says reminds me of the originals humor, especially the scene at his office (I don't go in for law suits or motions. I find out where you live and come to your house and beat down your door with a f***ing baseball bat, make a bonfire with the chippindale,maybe roast that golden retriever (arff arff arff) then eat it. And then I'm comin' upstairs junior, and I'm grabbing you by your brooks brothers pjs, and cramming your brand new BMW up your tight a**! Do we have an understanding?). Offsetting his small role however, is Dan Acroyd, who is obviously no replacement for Bill Murray. His voice is beyond irritating and everything he does isnt even funny, its just stupid. Overall Caddyshack II is a good movie, but in comparison to the awesome original it just cant cut it.\"\n        ],\n        \"semantic_type\": \"\",\n        \"description\": \"\"\n      }\n    },\n    {\n      \"column\": \"sentiment\",\n      \"properties\": {\n        \"dtype\": \"category\",\n        \"num_unique_values\": 2,\n        \"samples\": [\n          \"negative\",\n          \"positive\"\n        ],\n        \"semantic_type\": \"\",\n        \"description\": \"\"\n      }\n    }\n  ]\n}"
            }
          },
          "metadata": {},
          "execution_count": 92
        }
      ]
    },
    {
      "cell_type": "code",
      "source": [],
      "metadata": {
        "id": "WpB3i6XT-pfr"
      },
      "execution_count": null,
      "outputs": []
    },
    {
      "cell_type": "markdown",
      "source": [
        "# lower case operation\n"
      ],
      "metadata": {
        "id": "xk2U5_Nd_JFK"
      }
    },
    {
      "cell_type": "code",
      "source": [
        "df['review'][3]"
      ],
      "metadata": {
        "id": "24txnRif-piD",
        "outputId": "86bb29be-ce20-4c71-b470-5164c153768f",
        "colab": {
          "base_uri": "https://localhost:8080/",
          "height": 122
        }
      },
      "execution_count": null,
      "outputs": [
        {
          "output_type": "execute_result",
          "data": {
            "text/plain": [
              "\"Basically there's a family where a little boy (Jake) thinks there's a zombie in his closet & his parents are fighting all the time.<br /><br />This movie is slower than a soap opera... and suddenly, Jake decides to become Rambo and kill the zombie.<br /><br />OK, first of all when you're going to make a film you must Decide if its a thriller or a drama! As a drama the movie is watchable. Parents are divorcing & arguing like in real life. And then we have Jake with his closet which totally ruins all the film! I expected to see a BOOGEYMAN similar movie, and instead i watched a drama with some meaningless thriller spots.<br /><br />3 out of 10 just for the well playing parents & descent dialogs. As for the shots with Jake: just ignore them.\""
            ],
            "application/vnd.google.colaboratory.intrinsic+json": {
              "type": "string"
            }
          },
          "metadata": {},
          "execution_count": 93
        }
      ]
    },
    {
      "cell_type": "code",
      "source": [
        "df['review']=df['review'].str.lower()"
      ],
      "metadata": {
        "id": "1ZTUolOg-pkW",
        "colab": {
          "base_uri": "https://localhost:8080/"
        },
        "outputId": "ab188ca1-6565-4ed3-bdfa-77bb71c17bb6"
      },
      "execution_count": null,
      "outputs": [
        {
          "output_type": "stream",
          "name": "stderr",
          "text": [
            "<ipython-input-94-51eb50d5123d>:1: SettingWithCopyWarning: \n",
            "A value is trying to be set on a copy of a slice from a DataFrame.\n",
            "Try using .loc[row_indexer,col_indexer] = value instead\n",
            "\n",
            "See the caveats in the documentation: https://pandas.pydata.org/pandas-docs/stable/user_guide/indexing.html#returning-a-view-versus-a-copy\n",
            "  df['review']=df['review'].str.lower()\n"
          ]
        }
      ]
    },
    {
      "cell_type": "code",
      "source": [
        "df['review'][1]"
      ],
      "metadata": {
        "id": "ImYMFxn1-pmv",
        "outputId": "ab781d19-597e-4635-9703-d415bd9eac49",
        "colab": {
          "base_uri": "https://localhost:8080/",
          "height": 140
        }
      },
      "execution_count": null,
      "outputs": [
        {
          "output_type": "execute_result",
          "data": {
            "text/plain": [
              "'a wonderful little production. <br /><br />the filming technique is very unassuming- very old-time-bbc fashion and gives a comforting, and sometimes discomforting, sense of realism to the entire piece. <br /><br />the actors are extremely well chosen- michael sheen not only \"has got all the polari\" but he has all the voices down pat too! you can truly see the seamless editing guided by the references to williams\\' diary entries, not only is it well worth the watching but it is a terrificly written and performed piece. a masterful production about one of the great master\\'s of comedy and his life. <br /><br />the realism really comes home with the little things: the fantasy of the guard which, rather than use the traditional \\'dream\\' techniques remains solid then disappears. it plays on our knowledge and our senses, particularly with the scenes concerning orton and halliwell and the sets (particularly of their flat with halliwell\\'s murals decorating every surface) are terribly well done.'"
            ],
            "application/vnd.google.colaboratory.intrinsic+json": {
              "type": "string"
            }
          },
          "metadata": {},
          "execution_count": 95
        }
      ]
    },
    {
      "cell_type": "code",
      "source": [
        "df"
      ],
      "metadata": {
        "id": "X08Ox-9W-pq8",
        "outputId": "c320a445-f575-44d4-926b-92d13507eaa2",
        "colab": {
          "base_uri": "https://localhost:8080/",
          "height": 423
        }
      },
      "execution_count": null,
      "outputs": [
        {
          "output_type": "execute_result",
          "data": {
            "text/plain": [
              "                                               review sentiment\n",
              "0   one of the other reviewers has mentioned that ...  positive\n",
              "1   a wonderful little production. <br /><br />the...  positive\n",
              "2   i thought this was a wonderful way to spend ti...  positive\n",
              "3   basically there's a family where a little boy ...  negative\n",
              "4   petter mattei's \"love in the time of money\" is...  positive\n",
              "..                                                ...       ...\n",
              "95  daniel day-lewis is the most versatile actor a...  positive\n",
              "96  my guess would be this was originally going to...  negative\n",
              "97  well, i like to watch bad horror b-movies, cau...  negative\n",
              "98  this is the worst movie i have ever seen, as w...  negative\n",
              "99  i have been a mario fan for as long as i can r...  positive\n",
              "\n",
              "[100 rows x 2 columns]"
            ],
            "text/html": [
              "\n",
              "  <div id=\"df-e724b302-72c2-4838-a8cc-911d4d3b3790\" class=\"colab-df-container\">\n",
              "    <div>\n",
              "<style scoped>\n",
              "    .dataframe tbody tr th:only-of-type {\n",
              "        vertical-align: middle;\n",
              "    }\n",
              "\n",
              "    .dataframe tbody tr th {\n",
              "        vertical-align: top;\n",
              "    }\n",
              "\n",
              "    .dataframe thead th {\n",
              "        text-align: right;\n",
              "    }\n",
              "</style>\n",
              "<table border=\"1\" class=\"dataframe\">\n",
              "  <thead>\n",
              "    <tr style=\"text-align: right;\">\n",
              "      <th></th>\n",
              "      <th>review</th>\n",
              "      <th>sentiment</th>\n",
              "    </tr>\n",
              "  </thead>\n",
              "  <tbody>\n",
              "    <tr>\n",
              "      <th>0</th>\n",
              "      <td>one of the other reviewers has mentioned that ...</td>\n",
              "      <td>positive</td>\n",
              "    </tr>\n",
              "    <tr>\n",
              "      <th>1</th>\n",
              "      <td>a wonderful little production. &lt;br /&gt;&lt;br /&gt;the...</td>\n",
              "      <td>positive</td>\n",
              "    </tr>\n",
              "    <tr>\n",
              "      <th>2</th>\n",
              "      <td>i thought this was a wonderful way to spend ti...</td>\n",
              "      <td>positive</td>\n",
              "    </tr>\n",
              "    <tr>\n",
              "      <th>3</th>\n",
              "      <td>basically there's a family where a little boy ...</td>\n",
              "      <td>negative</td>\n",
              "    </tr>\n",
              "    <tr>\n",
              "      <th>4</th>\n",
              "      <td>petter mattei's \"love in the time of money\" is...</td>\n",
              "      <td>positive</td>\n",
              "    </tr>\n",
              "    <tr>\n",
              "      <th>...</th>\n",
              "      <td>...</td>\n",
              "      <td>...</td>\n",
              "    </tr>\n",
              "    <tr>\n",
              "      <th>95</th>\n",
              "      <td>daniel day-lewis is the most versatile actor a...</td>\n",
              "      <td>positive</td>\n",
              "    </tr>\n",
              "    <tr>\n",
              "      <th>96</th>\n",
              "      <td>my guess would be this was originally going to...</td>\n",
              "      <td>negative</td>\n",
              "    </tr>\n",
              "    <tr>\n",
              "      <th>97</th>\n",
              "      <td>well, i like to watch bad horror b-movies, cau...</td>\n",
              "      <td>negative</td>\n",
              "    </tr>\n",
              "    <tr>\n",
              "      <th>98</th>\n",
              "      <td>this is the worst movie i have ever seen, as w...</td>\n",
              "      <td>negative</td>\n",
              "    </tr>\n",
              "    <tr>\n",
              "      <th>99</th>\n",
              "      <td>i have been a mario fan for as long as i can r...</td>\n",
              "      <td>positive</td>\n",
              "    </tr>\n",
              "  </tbody>\n",
              "</table>\n",
              "<p>100 rows × 2 columns</p>\n",
              "</div>\n",
              "    <div class=\"colab-df-buttons\">\n",
              "\n",
              "  <div class=\"colab-df-container\">\n",
              "    <button class=\"colab-df-convert\" onclick=\"convertToInteractive('df-e724b302-72c2-4838-a8cc-911d4d3b3790')\"\n",
              "            title=\"Convert this dataframe to an interactive table.\"\n",
              "            style=\"display:none;\">\n",
              "\n",
              "  <svg xmlns=\"http://www.w3.org/2000/svg\" height=\"24px\" viewBox=\"0 -960 960 960\">\n",
              "    <path d=\"M120-120v-720h720v720H120Zm60-500h600v-160H180v160Zm220 220h160v-160H400v160Zm0 220h160v-160H400v160ZM180-400h160v-160H180v160Zm440 0h160v-160H620v160ZM180-180h160v-160H180v160Zm440 0h160v-160H620v160Z\"/>\n",
              "  </svg>\n",
              "    </button>\n",
              "\n",
              "  <style>\n",
              "    .colab-df-container {\n",
              "      display:flex;\n",
              "      gap: 12px;\n",
              "    }\n",
              "\n",
              "    .colab-df-convert {\n",
              "      background-color: #E8F0FE;\n",
              "      border: none;\n",
              "      border-radius: 50%;\n",
              "      cursor: pointer;\n",
              "      display: none;\n",
              "      fill: #1967D2;\n",
              "      height: 32px;\n",
              "      padding: 0 0 0 0;\n",
              "      width: 32px;\n",
              "    }\n",
              "\n",
              "    .colab-df-convert:hover {\n",
              "      background-color: #E2EBFA;\n",
              "      box-shadow: 0px 1px 2px rgba(60, 64, 67, 0.3), 0px 1px 3px 1px rgba(60, 64, 67, 0.15);\n",
              "      fill: #174EA6;\n",
              "    }\n",
              "\n",
              "    .colab-df-buttons div {\n",
              "      margin-bottom: 4px;\n",
              "    }\n",
              "\n",
              "    [theme=dark] .colab-df-convert {\n",
              "      background-color: #3B4455;\n",
              "      fill: #D2E3FC;\n",
              "    }\n",
              "\n",
              "    [theme=dark] .colab-df-convert:hover {\n",
              "      background-color: #434B5C;\n",
              "      box-shadow: 0px 1px 3px 1px rgba(0, 0, 0, 0.15);\n",
              "      filter: drop-shadow(0px 1px 2px rgba(0, 0, 0, 0.3));\n",
              "      fill: #FFFFFF;\n",
              "    }\n",
              "  </style>\n",
              "\n",
              "    <script>\n",
              "      const buttonEl =\n",
              "        document.querySelector('#df-e724b302-72c2-4838-a8cc-911d4d3b3790 button.colab-df-convert');\n",
              "      buttonEl.style.display =\n",
              "        google.colab.kernel.accessAllowed ? 'block' : 'none';\n",
              "\n",
              "      async function convertToInteractive(key) {\n",
              "        const element = document.querySelector('#df-e724b302-72c2-4838-a8cc-911d4d3b3790');\n",
              "        const dataTable =\n",
              "          await google.colab.kernel.invokeFunction('convertToInteractive',\n",
              "                                                    [key], {});\n",
              "        if (!dataTable) return;\n",
              "\n",
              "        const docLinkHtml = 'Like what you see? Visit the ' +\n",
              "          '<a target=\"_blank\" href=https://colab.research.google.com/notebooks/data_table.ipynb>data table notebook</a>'\n",
              "          + ' to learn more about interactive tables.';\n",
              "        element.innerHTML = '';\n",
              "        dataTable['output_type'] = 'display_data';\n",
              "        await google.colab.output.renderOutput(dataTable, element);\n",
              "        const docLink = document.createElement('div');\n",
              "        docLink.innerHTML = docLinkHtml;\n",
              "        element.appendChild(docLink);\n",
              "      }\n",
              "    </script>\n",
              "  </div>\n",
              "\n",
              "\n",
              "    <div id=\"df-fffddfa3-6b2c-4788-8896-6b0924465476\">\n",
              "      <button class=\"colab-df-quickchart\" onclick=\"quickchart('df-fffddfa3-6b2c-4788-8896-6b0924465476')\"\n",
              "                title=\"Suggest charts\"\n",
              "                style=\"display:none;\">\n",
              "\n",
              "<svg xmlns=\"http://www.w3.org/2000/svg\" height=\"24px\"viewBox=\"0 0 24 24\"\n",
              "     width=\"24px\">\n",
              "    <g>\n",
              "        <path d=\"M19 3H5c-1.1 0-2 .9-2 2v14c0 1.1.9 2 2 2h14c1.1 0 2-.9 2-2V5c0-1.1-.9-2-2-2zM9 17H7v-7h2v7zm4 0h-2V7h2v10zm4 0h-2v-4h2v4z\"/>\n",
              "    </g>\n",
              "</svg>\n",
              "      </button>\n",
              "\n",
              "<style>\n",
              "  .colab-df-quickchart {\n",
              "      --bg-color: #E8F0FE;\n",
              "      --fill-color: #1967D2;\n",
              "      --hover-bg-color: #E2EBFA;\n",
              "      --hover-fill-color: #174EA6;\n",
              "      --disabled-fill-color: #AAA;\n",
              "      --disabled-bg-color: #DDD;\n",
              "  }\n",
              "\n",
              "  [theme=dark] .colab-df-quickchart {\n",
              "      --bg-color: #3B4455;\n",
              "      --fill-color: #D2E3FC;\n",
              "      --hover-bg-color: #434B5C;\n",
              "      --hover-fill-color: #FFFFFF;\n",
              "      --disabled-bg-color: #3B4455;\n",
              "      --disabled-fill-color: #666;\n",
              "  }\n",
              "\n",
              "  .colab-df-quickchart {\n",
              "    background-color: var(--bg-color);\n",
              "    border: none;\n",
              "    border-radius: 50%;\n",
              "    cursor: pointer;\n",
              "    display: none;\n",
              "    fill: var(--fill-color);\n",
              "    height: 32px;\n",
              "    padding: 0;\n",
              "    width: 32px;\n",
              "  }\n",
              "\n",
              "  .colab-df-quickchart:hover {\n",
              "    background-color: var(--hover-bg-color);\n",
              "    box-shadow: 0 1px 2px rgba(60, 64, 67, 0.3), 0 1px 3px 1px rgba(60, 64, 67, 0.15);\n",
              "    fill: var(--button-hover-fill-color);\n",
              "  }\n",
              "\n",
              "  .colab-df-quickchart-complete:disabled,\n",
              "  .colab-df-quickchart-complete:disabled:hover {\n",
              "    background-color: var(--disabled-bg-color);\n",
              "    fill: var(--disabled-fill-color);\n",
              "    box-shadow: none;\n",
              "  }\n",
              "\n",
              "  .colab-df-spinner {\n",
              "    border: 2px solid var(--fill-color);\n",
              "    border-color: transparent;\n",
              "    border-bottom-color: var(--fill-color);\n",
              "    animation:\n",
              "      spin 1s steps(1) infinite;\n",
              "  }\n",
              "\n",
              "  @keyframes spin {\n",
              "    0% {\n",
              "      border-color: transparent;\n",
              "      border-bottom-color: var(--fill-color);\n",
              "      border-left-color: var(--fill-color);\n",
              "    }\n",
              "    20% {\n",
              "      border-color: transparent;\n",
              "      border-left-color: var(--fill-color);\n",
              "      border-top-color: var(--fill-color);\n",
              "    }\n",
              "    30% {\n",
              "      border-color: transparent;\n",
              "      border-left-color: var(--fill-color);\n",
              "      border-top-color: var(--fill-color);\n",
              "      border-right-color: var(--fill-color);\n",
              "    }\n",
              "    40% {\n",
              "      border-color: transparent;\n",
              "      border-right-color: var(--fill-color);\n",
              "      border-top-color: var(--fill-color);\n",
              "    }\n",
              "    60% {\n",
              "      border-color: transparent;\n",
              "      border-right-color: var(--fill-color);\n",
              "    }\n",
              "    80% {\n",
              "      border-color: transparent;\n",
              "      border-right-color: var(--fill-color);\n",
              "      border-bottom-color: var(--fill-color);\n",
              "    }\n",
              "    90% {\n",
              "      border-color: transparent;\n",
              "      border-bottom-color: var(--fill-color);\n",
              "    }\n",
              "  }\n",
              "</style>\n",
              "\n",
              "      <script>\n",
              "        async function quickchart(key) {\n",
              "          const quickchartButtonEl =\n",
              "            document.querySelector('#' + key + ' button');\n",
              "          quickchartButtonEl.disabled = true;  // To prevent multiple clicks.\n",
              "          quickchartButtonEl.classList.add('colab-df-spinner');\n",
              "          try {\n",
              "            const charts = await google.colab.kernel.invokeFunction(\n",
              "                'suggestCharts', [key], {});\n",
              "          } catch (error) {\n",
              "            console.error('Error during call to suggestCharts:', error);\n",
              "          }\n",
              "          quickchartButtonEl.classList.remove('colab-df-spinner');\n",
              "          quickchartButtonEl.classList.add('colab-df-quickchart-complete');\n",
              "        }\n",
              "        (() => {\n",
              "          let quickchartButtonEl =\n",
              "            document.querySelector('#df-fffddfa3-6b2c-4788-8896-6b0924465476 button');\n",
              "          quickchartButtonEl.style.display =\n",
              "            google.colab.kernel.accessAllowed ? 'block' : 'none';\n",
              "        })();\n",
              "      </script>\n",
              "    </div>\n",
              "\n",
              "  <div id=\"id_25a9a81f-831c-4778-ac6d-5698c7e11ca4\">\n",
              "    <style>\n",
              "      .colab-df-generate {\n",
              "        background-color: #E8F0FE;\n",
              "        border: none;\n",
              "        border-radius: 50%;\n",
              "        cursor: pointer;\n",
              "        display: none;\n",
              "        fill: #1967D2;\n",
              "        height: 32px;\n",
              "        padding: 0 0 0 0;\n",
              "        width: 32px;\n",
              "      }\n",
              "\n",
              "      .colab-df-generate:hover {\n",
              "        background-color: #E2EBFA;\n",
              "        box-shadow: 0px 1px 2px rgba(60, 64, 67, 0.3), 0px 1px 3px 1px rgba(60, 64, 67, 0.15);\n",
              "        fill: #174EA6;\n",
              "      }\n",
              "\n",
              "      [theme=dark] .colab-df-generate {\n",
              "        background-color: #3B4455;\n",
              "        fill: #D2E3FC;\n",
              "      }\n",
              "\n",
              "      [theme=dark] .colab-df-generate:hover {\n",
              "        background-color: #434B5C;\n",
              "        box-shadow: 0px 1px 3px 1px rgba(0, 0, 0, 0.15);\n",
              "        filter: drop-shadow(0px 1px 2px rgba(0, 0, 0, 0.3));\n",
              "        fill: #FFFFFF;\n",
              "      }\n",
              "    </style>\n",
              "    <button class=\"colab-df-generate\" onclick=\"generateWithVariable('df')\"\n",
              "            title=\"Generate code using this dataframe.\"\n",
              "            style=\"display:none;\">\n",
              "\n",
              "  <svg xmlns=\"http://www.w3.org/2000/svg\" height=\"24px\"viewBox=\"0 0 24 24\"\n",
              "       width=\"24px\">\n",
              "    <path d=\"M7,19H8.4L18.45,9,17,7.55,7,17.6ZM5,21V16.75L18.45,3.32a2,2,0,0,1,2.83,0l1.4,1.43a1.91,1.91,0,0,1,.58,1.4,1.91,1.91,0,0,1-.58,1.4L9.25,21ZM18.45,9,17,7.55Zm-12,3A5.31,5.31,0,0,0,4.9,8.1,5.31,5.31,0,0,0,1,6.5,5.31,5.31,0,0,0,4.9,4.9,5.31,5.31,0,0,0,6.5,1,5.31,5.31,0,0,0,8.1,4.9,5.31,5.31,0,0,0,12,6.5,5.46,5.46,0,0,0,6.5,12Z\"/>\n",
              "  </svg>\n",
              "    </button>\n",
              "    <script>\n",
              "      (() => {\n",
              "      const buttonEl =\n",
              "        document.querySelector('#id_25a9a81f-831c-4778-ac6d-5698c7e11ca4 button.colab-df-generate');\n",
              "      buttonEl.style.display =\n",
              "        google.colab.kernel.accessAllowed ? 'block' : 'none';\n",
              "\n",
              "      buttonEl.onclick = () => {\n",
              "        google.colab.notebook.generateWithVariable('df');\n",
              "      }\n",
              "      })();\n",
              "    </script>\n",
              "  </div>\n",
              "\n",
              "    </div>\n",
              "  </div>\n"
            ],
            "application/vnd.google.colaboratory.intrinsic+json": {
              "type": "dataframe",
              "variable_name": "df",
              "summary": "{\n  \"name\": \"df\",\n  \"rows\": 100,\n  \"fields\": [\n    {\n      \"column\": \"review\",\n      \"properties\": {\n        \"dtype\": \"string\",\n        \"num_unique_values\": 100,\n        \"samples\": [\n          \"\\\"fate\\\" leads walter sparrow to come in possession of a mysterious novel that has eerie similarities and connections to his life, all based around the number 23. as the story unfolds in real life and fiction, sparrow must figure out his connection to the book and how the story will eventually end.<br /><br />the number 23 offers an intriguing premise that is undone by a weak execution. the film just failed on many different levels which is pretty disappointing because it held so much potential. the screenplay was probably the worst part about it. it was filled with silly sequences and laughable dialog that just killed the mood of the movie. it seemed like the screenwriter had a good idea, he just didn't know how to develop it to stretch over a ninety minute running time. the second half of the film was running low on ideas, the twist was pretty obvious and the ending was awful.<br /><br />joel schumacher is responsible for one of the worst movies ever and he did redeem himself a little with phone booth and a few other films but the number 23 reminds me that he's still capable of making a stinker. he has the movie drenched in style but he just can't get a good focus. he moves the film at a clunky and slow pace. he switches from reality to what's actually happening in the book which quickly got annoying. the actual book in the film that's titled \\\"the number 23\\\" is an awful detective story and the audience gets stuck listening to carrey narrate it which just bored me to tears. when carrey is finally done with book, we get stuck watching him run around trying to solve the mystery. at this point, the audience has lost interest and there is no real tension. we impatiently wait for the movie to reach it's horrible ending and unconvincing explanation before celebrating that film has finally finished.<br /><br />the acting was mostly average and pretty forgettable. jim carrey was clearly just sleepwalking through his performance and he didn't even seem to be trying. he was either completely over the top in some scenes or just very wooden. his narration was a complete bore to listen to and he put no life inside his character. virginia madsen did the best she could with a limited role but she needs to pick better scripts. logan lerman was pretty bland as was danny huston. overall, the number 23 was an awful thriller that offered more laughs than suspense or thrills. rating 3/10\",\n          \"i cannot believe i enjoyed this as much as i did. the anthology stories were better than par, but the linking story and its surprise ending hooked me. alot of familiar faces will keep you asking yourself \\\"where i have i seen them before?\\\" forget the running time listed on new line's tape, this ain't no 103 minutes, according to my vcr timer and imdb. space maggot douses the campfire in his own special way and hikes this an 8.\",\n          \"caddyshack two is a good movie by itself but compared to the original it cant stack up. robert stack is a horrible replacement for ted knight and jackie mason, while funny just cant compete with rodney dangerfield. ty webb is funny, being the only character from the original. most of the other characters in the movie lack the punch of the original (henry wilcoxon for example) except for the hystericly funny lawyer peter blunt, being played by randy quaid. every line he says reminds me of the originals humor, especially the scene at his office (i don't go in for law suits or motions. i find out where you live and come to your house and beat down your door with a f***ing baseball bat, make a bonfire with the chippindale,maybe roast that golden retriever (arff arff arff) then eat it. and then i'm comin' upstairs junior, and i'm grabbing you by your brooks brothers pjs, and cramming your brand new bmw up your tight a**! do we have an understanding?). offsetting his small role however, is dan acroyd, who is obviously no replacement for bill murray. his voice is beyond irritating and everything he does isnt even funny, its just stupid. overall caddyshack ii is a good movie, but in comparison to the awesome original it just cant cut it.\"\n        ],\n        \"semantic_type\": \"\",\n        \"description\": \"\"\n      }\n    },\n    {\n      \"column\": \"sentiment\",\n      \"properties\": {\n        \"dtype\": \"category\",\n        \"num_unique_values\": 2,\n        \"samples\": [\n          \"negative\",\n          \"positive\"\n        ],\n        \"semantic_type\": \"\",\n        \"description\": \"\"\n      }\n    }\n  ]\n}"
            }
          },
          "metadata": {},
          "execution_count": 96
        }
      ]
    },
    {
      "cell_type": "markdown",
      "source": [
        "# Remove HTML tags\n"
      ],
      "metadata": {
        "id": "hu6clQ3XNZJ_"
      }
    },
    {
      "cell_type": "code",
      "source": [
        "import re\n",
        "def remove_html_tags(text):\n",
        "  pattern = re.compile('<.*?>')\n",
        "  return pattern.sub(r'',text)"
      ],
      "metadata": {
        "id": "lK32Zn7i-ptd"
      },
      "execution_count": null,
      "outputs": []
    },
    {
      "cell_type": "code",
      "source": [
        "text=\"a wonderful little production. <br /><br />the filming technique is very unassuming- very old-time-bbc fashion and gives a comforting, and sometimes discomforting, sense of realism to the entire piece. <br /><br />the actors are extremely well chosen- michael sheen not only\""
      ],
      "metadata": {
        "id": "SIA4nksV-pwA"
      },
      "execution_count": null,
      "outputs": []
    },
    {
      "cell_type": "code",
      "source": [
        "remove_html_tags(text)"
      ],
      "metadata": {
        "id": "2HcTIKWD-pyh",
        "outputId": "8c601069-ac82-4773-f455-e9f7d41ef526",
        "colab": {
          "base_uri": "https://localhost:8080/",
          "height": 53
        }
      },
      "execution_count": null,
      "outputs": [
        {
          "output_type": "execute_result",
          "data": {
            "text/plain": [
              "'a wonderful little production. the filming technique is very unassuming- very old-time-bbc fashion and gives a comforting, and sometimes discomforting, sense of realism to the entire piece. the actors are extremely well chosen- michael sheen not only'"
            ],
            "application/vnd.google.colaboratory.intrinsic+json": {
              "type": "string"
            }
          },
          "metadata": {},
          "execution_count": 99
        }
      ]
    },
    {
      "cell_type": "code",
      "source": [
        "df['review'] = df['review'].apply(remove_html_tags)"
      ],
      "metadata": {
        "id": "sMzdrUeZ-p0x"
      },
      "execution_count": null,
      "outputs": []
    },
    {
      "cell_type": "code",
      "source": [
        "df['review'][10]"
      ],
      "metadata": {
        "id": "hqhve2D--p3K",
        "outputId": "10f5e40e-7e34-4894-d5a3-7f72920432d4",
        "colab": {
          "base_uri": "https://localhost:8080/",
          "height": 88
        }
      },
      "execution_count": null,
      "outputs": [
        {
          "output_type": "execute_result",
          "data": {
            "text/plain": [
              "'phil the alien is one of those quirky films where the humour is based around the oddness of everything rather than actual punchlines.at first it was very odd and pretty funny but as the movie progressed i didn\\'t find the jokes or oddness funny anymore.its a low budget film (thats never a problem in itself), there were some pretty interesting characters, but eventually i just lost interest.i imagine this film would appeal to a stoner who is currently partaking.for something similar but better try \"brother from another planet\"'"
            ],
            "application/vnd.google.colaboratory.intrinsic+json": {
              "type": "string"
            }
          },
          "metadata": {},
          "execution_count": 101
        }
      ]
    },
    {
      "cell_type": "markdown",
      "source": [
        "# Remove URL\n"
      ],
      "metadata": {
        "id": "xk9mkc1EQlyh"
      }
    },
    {
      "cell_type": "code",
      "source": [
        "def remove_url(text):\n",
        "  pattern = re.compile(r'https?://\\S+|www\\.\\S+')\n",
        "  return pattern.sub(r'',text)"
      ],
      "metadata": {
        "id": "GkpHlZjh-p5i"
      },
      "execution_count": null,
      "outputs": []
    },
    {
      "cell_type": "code",
      "source": [
        "text1='Thanks for visiting https://colab.research.google.com/notebooks/intro.ipynb#scrollTo=O0_aksiJ-p8E'\n",
        "text2='Google search here www.google.com'\n",
        "text3='Visit us and let us know your requirements https://www.w3schools.com/python/pandas/pandas_intro.asp'"
      ],
      "metadata": {
        "id": "O0_aksiJ-p8E"
      },
      "execution_count": null,
      "outputs": []
    },
    {
      "cell_type": "code",
      "source": [
        "remove_url(text3)\n"
      ],
      "metadata": {
        "id": "1QAdOCai-p_c",
        "outputId": "eea49ff5-c477-455e-de5f-b4c8cf05b805",
        "colab": {
          "base_uri": "https://localhost:8080/",
          "height": 36
        }
      },
      "execution_count": null,
      "outputs": [
        {
          "output_type": "execute_result",
          "data": {
            "text/plain": [
              "'Visit us and let us know your requirements '"
            ],
            "application/vnd.google.colaboratory.intrinsic+json": {
              "type": "string"
            }
          },
          "metadata": {},
          "execution_count": 104
        }
      ]
    },
    {
      "cell_type": "markdown",
      "source": [
        "# Punctuation Handling'\n"
      ],
      "metadata": {
        "id": "ZwSDbX0iSjzB"
      }
    },
    {
      "cell_type": "code",
      "source": [
        "import string,time\n",
        "string.punctuation"
      ],
      "metadata": {
        "id": "U9869-2cSg46",
        "outputId": "5a23d0a9-5679-4901-bde6-4d3a91cbe2a0",
        "colab": {
          "base_uri": "https://localhost:8080/",
          "height": 36
        }
      },
      "execution_count": null,
      "outputs": [
        {
          "output_type": "execute_result",
          "data": {
            "text/plain": [
              "'!\"#$%&\\'()*+,-./:;<=>?@[\\\\]^_`{|}~'"
            ],
            "application/vnd.google.colaboratory.intrinsic+json": {
              "type": "string"
            }
          },
          "metadata": {},
          "execution_count": 105
        }
      ]
    },
    {
      "cell_type": "code",
      "source": [
        "exclude = string.punctuation\n",
        "exclude"
      ],
      "metadata": {
        "id": "AXV2E9maSg7i",
        "outputId": "20c778c9-d8a9-47fb-c7d4-8b82077282bf",
        "colab": {
          "base_uri": "https://localhost:8080/",
          "height": 36
        }
      },
      "execution_count": null,
      "outputs": [
        {
          "output_type": "execute_result",
          "data": {
            "text/plain": [
              "'!\"#$%&\\'()*+,-./:;<=>?@[\\\\]^_`{|}~'"
            ],
            "application/vnd.google.colaboratory.intrinsic+json": {
              "type": "string"
            }
          },
          "metadata": {},
          "execution_count": 106
        }
      ]
    },
    {
      "cell_type": "code",
      "source": [
        "def remove_punc(text):\n",
        "  for char in exclude:\n",
        "    text= text.replace(char,' ')\n",
        "  return text\n"
      ],
      "metadata": {
        "id": "thmbRwEdSg-u"
      },
      "execution_count": null,
      "outputs": []
    },
    {
      "cell_type": "code",
      "source": [
        "text1=\"String is so good!hi...right?.\"\n"
      ],
      "metadata": {
        "id": "fkSdX3gQShCO"
      },
      "execution_count": null,
      "outputs": []
    },
    {
      "cell_type": "code",
      "source": [
        "start=time.time()\n",
        "print(remove_punc(text1))\n",
        "time1 = time.time()-start\n",
        "print(time1*50000)"
      ],
      "metadata": {
        "id": "eBFDns5SUAVT",
        "outputId": "84ea429c-23ca-438f-ab0b-8982827f7cb3",
        "colab": {
          "base_uri": "https://localhost:8080/"
        }
      },
      "execution_count": null,
      "outputs": [
        {
          "output_type": "stream",
          "name": "stdout",
          "text": [
            "String is so good hi   right  \n",
            "21.827220916748047\n"
          ]
        }
      ]
    },
    {
      "cell_type": "code",
      "source": [
        "def remove_punc1(text):\n",
        "  return text.translate(str.maketrans(' ',' ',exclude))"
      ],
      "metadata": {
        "id": "W7s-qEylUAg7"
      },
      "execution_count": null,
      "outputs": []
    },
    {
      "cell_type": "code",
      "source": [
        "start=time.time()\n",
        "print(remove_punc1(text1))\n",
        "time2 = time.time()-start\n",
        "print(time2*50000)"
      ],
      "metadata": {
        "id": "y1Tmr7_aUAjp",
        "outputId": "5c8819fd-74cc-4072-8d38-1f23f270fabb",
        "colab": {
          "base_uri": "https://localhost:8080/"
        }
      },
      "execution_count": null,
      "outputs": [
        {
          "output_type": "stream",
          "name": "stdout",
          "text": [
            "String is so goodhiright\n",
            "79.98943328857422\n"
          ]
        }
      ]
    },
    {
      "cell_type": "code",
      "source": [
        "time1/time2"
      ],
      "metadata": {
        "id": "XQgyjXSdUAmJ",
        "outputId": "fc238162-123f-4d44-a4d9-6bb878991b10",
        "colab": {
          "base_uri": "https://localhost:8080/"
        }
      },
      "execution_count": null,
      "outputs": [
        {
          "output_type": "execute_result",
          "data": {
            "text/plain": [
              "0.272876304023845"
            ]
          },
          "metadata": {},
          "execution_count": 112
        }
      ]
    },
    {
      "cell_type": "code",
      "source": [
        "df['review'][1]"
      ],
      "metadata": {
        "id": "ja8FF2v2UAop",
        "outputId": "8cfa29f6-5b38-4442-9fe0-28c784d1ab78",
        "colab": {
          "base_uri": "https://localhost:8080/",
          "height": 140
        }
      },
      "execution_count": null,
      "outputs": [
        {
          "output_type": "execute_result",
          "data": {
            "text/plain": [
              "'a wonderful little production. the filming technique is very unassuming- very old-time-bbc fashion and gives a comforting, and sometimes discomforting, sense of realism to the entire piece. the actors are extremely well chosen- michael sheen not only \"has got all the polari\" but he has all the voices down pat too! you can truly see the seamless editing guided by the references to williams\\' diary entries, not only is it well worth the watching but it is a terrificly written and performed piece. a masterful production about one of the great master\\'s of comedy and his life. the realism really comes home with the little things: the fantasy of the guard which, rather than use the traditional \\'dream\\' techniques remains solid then disappears. it plays on our knowledge and our senses, particularly with the scenes concerning orton and halliwell and the sets (particularly of their flat with halliwell\\'s murals decorating every surface) are terribly well done.'"
            ],
            "application/vnd.google.colaboratory.intrinsic+json": {
              "type": "string"
            }
          },
          "metadata": {},
          "execution_count": 113
        }
      ]
    },
    {
      "cell_type": "code",
      "source": [
        "df['review']=df['review'].apply(remove_punc1)"
      ],
      "metadata": {
        "id": "1nnoUIaxUArP"
      },
      "execution_count": null,
      "outputs": []
    },
    {
      "cell_type": "code",
      "source": [
        "df['review'][5]"
      ],
      "metadata": {
        "id": "gKDNVPtLUAt4",
        "outputId": "946fe986-e70c-4173-de2e-1eb079fc33e2",
        "colab": {
          "base_uri": "https://localhost:8080/",
          "height": 105
        }
      },
      "execution_count": null,
      "outputs": [
        {
          "output_type": "execute_result",
          "data": {
            "text/plain": [
              "'probably my alltime favorite movie a story of selflessness sacrifice and dedication to a noble cause but its not preachy or boring it just never gets old despite my having seen it some 15 or more times in the last 25 years paul lukas performance brings tears to my eyes and bette davis in one of her very few truly sympathetic roles is a delight the kids are as grandma says more like dressedup midgets than children but that only makes them more fun to watch and the mothers slow awakening to whats happening in the world and under her own roof is believable and startling if i had a dozen thumbs theyd all be up for this movie'"
            ],
            "application/vnd.google.colaboratory.intrinsic+json": {
              "type": "string"
            }
          },
          "metadata": {},
          "execution_count": 115
        }
      ]
    },
    {
      "cell_type": "markdown",
      "source": [
        "# Chat Conversation\n"
      ],
      "metadata": {
        "id": "ERG1ZJGjxkBL"
      }
    },
    {
      "cell_type": "code",
      "source": [
        "chat_words={\n",
        "    \"AFAIK\":\"As Far As I Know\",\n",
        "    \"AFK\":\"Away From Keyboard\",\n",
        "    \"ASAP\":\"As Soon As Possible\",\n",
        "    \"ATK\":\"At The Keyboard\",\n",
        "    \"ATM\":\"At The Moment\",\n",
        "    \"A3\":\"Anytime, Anywhere, Anyplace\",\n",
        "    \"BAK\":\"Back At Keyboard\",\n",
        "    \"BBL\":\"Be Back Later\",\n",
        "    \"BBS\":\"Be Back Soon\",\n",
        "    \"BFN\":\"Bye For Now\",\n",
        "    \"B4N\":\"Bye For Now\",\n",
        "    \"BRB\":\"Be Right Back\",\n",
        "    \"BRT\":\"Be Right There\",\n",
        "    \"BTW\":\"By The Way\",\n",
        "    \"B4\":\"Before\",\n",
        "    \"B4N\":\"Bye For Now\",\n",
        "    \"CU\":\"See You\",\n",
        "    \"CUL8R\":\"See You Later\",\n",
        "    \"CYA\":\"See You\",\n",
        "    \"FAQ\":\"Frequently Asked Questions\",\n",
        "    \"FC\":\"Fingers Crossed\",\n",
        "    \"FWIW\":\"For What It's Worth\",\n",
        "    \"FYI\":\"For Your Information\",\n",
        "    \"GAL\":\"Get A Life\",\n",
        "    \"GG\":\"Good Game\",\n",
        "    \"GN\":\"Good Night\",\n",
        "    \"GMTA\":\"Great Minds Think Alike\",\n",
        "    \"GR8\":\"Great!\",\n",
        "    \"G9\":\"Genius\",\n",
        "    \"IC\":\"I See\",\n",
        "    \"ICQ\":\"I Seek you\",\n",
        "    \"ILU\":\"I Love You\",\n",
        "    \"IMHO\":\"In My Honest/Humble Opinion\",\n",
        "    \"IMO\":\"In My Opinion\",\n",
        "    \"IOW\":\"In Other Words\",\n",
        "    \"IRL\":\"In Real Life\",\n",
        "    \"KISS\":\"Kill Yourself\",\n",
        "    \"KK\":\"Good Kyle\",\n",
        "    \"L8R\":\"Later\",\n",
        "    \"MTE\":\"My Thoughts Exactly\",\n",
        "    \"M8\":\"Mate\",\n",
        "    \"NRN\":\"No Reply Necessary\",\n",
        "    \"OIC\":\"Oh I See\",\n",
        "    \"OMG\":\"Oh My God\",\n",
        "    \"PITA\":\"Pain In The Ass\",\n",
        "    \"PRT\":\"Party\",\n",
        "    \"PRW\":\"Parents Are Watching\",\n",
        "    \"QPSA\":\"Que Pasa?\",\n",
        "    \"ROFL\":\"Rolling On The Floor Laughing\",\n",
        "    \"ROFLOL\":\"Rolling On The Floor Laughing Out Loud\",\n",
        "    \"ROTFLMAO\":\"Rolling On The Floor Laughing My Ass Off\",\n",
        "    \"SK8\":\"Skate\",\n",
        "    \"STATS\":\"Your sex and age\",\n",
        "    \"ASL\":\"Age, Sex, Location\",\n",
        "    \"THX\":\"Thank You\",\n",
        "    \"TTFN\":\"Ta-Ta For Now!\",\n",
        "    \"TTYL\":\"Talk To You Later\",\n",
        "    \"TRW\":\"Tomorrow\",\n",
        "    \"U\":\"You\",\n",
        "    \"U2\":\"You Too\",\n",
        "    \"U4E\":\"Yours For Ever\",\n",
        "    \"WB\":\"Welcome Back\",\n",
        "    \"WTF\":\"What The F*ck\",\n",
        "    \"WTG\":\"Way To Go!\",\n",
        "    \"WUF\":\"Where Are You From?\",\n",
        "    \"W8\":\"Wait...\",\n",
        "    \"7K\":\"Sick:-D Laugher\",\n",
        "\n",
        "}"
      ],
      "metadata": {
        "id": "OrsA_04tUAwj"
      },
      "execution_count": null,
      "outputs": []
    },
    {
      "cell_type": "code",
      "source": [
        "chat_words"
      ],
      "metadata": {
        "id": "lObEqvoxUAy-",
        "outputId": "b971c609-e14d-44e6-f2b8-cf3c357be5d6",
        "colab": {
          "base_uri": "https://localhost:8080/"
        }
      },
      "execution_count": null,
      "outputs": [
        {
          "output_type": "execute_result",
          "data": {
            "text/plain": [
              "{'AFAIK': 'As Far As I Know',\n",
              " 'AFK': 'Away From Keyboard',\n",
              " 'ASAP': 'As Soon As Possible',\n",
              " 'ATK': 'At The Keyboard',\n",
              " 'ATM': 'At The Moment',\n",
              " 'A3': 'Anytime, Anywhere, Anyplace',\n",
              " 'BAK': 'Back At Keyboard',\n",
              " 'BBL': 'Be Back Later',\n",
              " 'BBS': 'Be Back Soon',\n",
              " 'BFN': 'Bye For Now',\n",
              " 'B4N': 'Bye For Now',\n",
              " 'BRB': 'Be Right Back',\n",
              " 'BRT': 'Be Right There',\n",
              " 'BTW': 'By The Way',\n",
              " 'B4': 'Before',\n",
              " 'CU': 'See You',\n",
              " 'CUL8R': 'See You Later',\n",
              " 'CYA': 'See You',\n",
              " 'FAQ': 'Frequently Asked Questions',\n",
              " 'FC': 'Fingers Crossed',\n",
              " 'FWIW': \"For What It's Worth\",\n",
              " 'FYI': 'For Your Information',\n",
              " 'GAL': 'Get A Life',\n",
              " 'GG': 'Good Game',\n",
              " 'GN': 'Good Night',\n",
              " 'GMTA': 'Great Minds Think Alike',\n",
              " 'GR8': 'Great!',\n",
              " 'G9': 'Genius',\n",
              " 'IC': 'I See',\n",
              " 'ICQ': 'I Seek you',\n",
              " 'ILU': 'I Love You',\n",
              " 'IMHO': 'In My Honest/Humble Opinion',\n",
              " 'IMO': 'In My Opinion',\n",
              " 'IOW': 'In Other Words',\n",
              " 'IRL': 'In Real Life',\n",
              " 'KISS': 'Kill Yourself',\n",
              " 'KK': 'Good Kyle',\n",
              " 'L8R': 'Later',\n",
              " 'MTE': 'My Thoughts Exactly',\n",
              " 'M8': 'Mate',\n",
              " 'NRN': 'No Reply Necessary',\n",
              " 'OIC': 'Oh I See',\n",
              " 'OMG': 'Oh My God',\n",
              " 'PITA': 'Pain In The Ass',\n",
              " 'PRT': 'Party',\n",
              " 'PRW': 'Parents Are Watching',\n",
              " 'QPSA': 'Que Pasa?',\n",
              " 'ROFL': 'Rolling On The Floor Laughing',\n",
              " 'ROFLOL': 'Rolling On The Floor Laughing Out Loud',\n",
              " 'ROTFLMAO': 'Rolling On The Floor Laughing My Ass Off',\n",
              " 'SK8': 'Skate',\n",
              " 'STATS': 'Your sex and age',\n",
              " 'ASL': 'Age, Sex, Location',\n",
              " 'THX': 'Thank You',\n",
              " 'TTFN': 'Ta-Ta For Now!',\n",
              " 'TTYL': 'Talk To You Later',\n",
              " 'TRW': 'Tomorrow',\n",
              " 'U': 'You',\n",
              " 'U2': 'You Too',\n",
              " 'U4E': 'Yours For Ever',\n",
              " 'WB': 'Welcome Back',\n",
              " 'WTF': 'What The F*ck',\n",
              " 'WTG': 'Way To Go!',\n",
              " 'WUF': 'Where Are You From?',\n",
              " 'W8': 'Wait...',\n",
              " '7K': 'Sick:-D Laugher'}"
            ]
          },
          "metadata": {},
          "execution_count": 117
        }
      ]
    },
    {
      "cell_type": "code",
      "source": [
        "def remove_chat_conversation(text):\n",
        "  new_text=[]\n",
        "  for w in text.split():\n",
        "    if w.upper() in chat_words:\n",
        "      new_text.append(chat_words[w.upper()])\n",
        "    else:\n",
        "      new_text.append(w)\n",
        "\n",
        "  return \" \".join(new_text)"
      ],
      "metadata": {
        "id": "3Cyq5lTMUA1P"
      },
      "execution_count": null,
      "outputs": []
    },
    {
      "cell_type": "code",
      "source": [
        "convert=\"Do it ASAP . FYI I need to submit the information TRW\""
      ],
      "metadata": {
        "id": "H59zqno4UA34"
      },
      "execution_count": null,
      "outputs": []
    },
    {
      "cell_type": "code",
      "source": [
        "remove_chat_conversation(convert)"
      ],
      "metadata": {
        "id": "GB94RvAjUA6Y",
        "outputId": "b0502544-4012-49bc-83fa-4241e80eefd6",
        "colab": {
          "base_uri": "https://localhost:8080/",
          "height": 36
        }
      },
      "execution_count": null,
      "outputs": [
        {
          "output_type": "execute_result",
          "data": {
            "text/plain": [
              "'Do it As Soon As Possible . For Your Information I need to submit the information Tomorrow'"
            ],
            "application/vnd.google.colaboratory.intrinsic+json": {
              "type": "string"
            }
          },
          "metadata": {},
          "execution_count": 120
        }
      ]
    },
    {
      "cell_type": "code",
      "source": [
        "from textblob import TextBlob"
      ],
      "metadata": {
        "id": "7R5nwTIKUA8-"
      },
      "execution_count": null,
      "outputs": []
    },
    {
      "cell_type": "code",
      "source": [
        "incorrect_text= \"this iis aa tedt\"\n",
        "\n"
      ],
      "metadata": {
        "id": "iZkk0UlFUA_l"
      },
      "execution_count": null,
      "outputs": []
    },
    {
      "cell_type": "code",
      "source": [
        "txt_blb=TextBlob(incorrect_text)\n",
        "txt_blb.correct().string"
      ],
      "metadata": {
        "id": "hr8iYkoPUBCK",
        "outputId": "940ea213-ab82-4287-cf65-68b96d03ac94",
        "colab": {
          "base_uri": "https://localhost:8080/",
          "height": 36
        }
      },
      "execution_count": null,
      "outputs": [
        {
          "output_type": "execute_result",
          "data": {
            "text/plain": [
              "'this his a test'"
            ],
            "application/vnd.google.colaboratory.intrinsic+json": {
              "type": "string"
            }
          },
          "metadata": {},
          "execution_count": 123
        }
      ]
    },
    {
      "cell_type": "markdown",
      "source": [
        "# Removing Stopwords"
      ],
      "metadata": {
        "id": "I-tZboA7AnUt"
      }
    },
    {
      "cell_type": "code",
      "source": [
        "from nltk.corpus import stopwords\n",
        "import nltk\n",
        "nltk.download('stopwords')\n",
        "# nltk.download('hindi')"
      ],
      "metadata": {
        "id": "0N37E13HUBEn",
        "colab": {
          "base_uri": "https://localhost:8080/"
        },
        "outputId": "974a9af6-9953-43d3-ff20-552bd4fb694e"
      },
      "execution_count": null,
      "outputs": [
        {
          "output_type": "stream",
          "name": "stderr",
          "text": [
            "[nltk_data] Downloading package stopwords to /root/nltk_data...\n",
            "[nltk_data]   Package stopwords is already up-to-date!\n"
          ]
        },
        {
          "output_type": "execute_result",
          "data": {
            "text/plain": [
              "True"
            ]
          },
          "metadata": {},
          "execution_count": 124
        }
      ]
    },
    {
      "cell_type": "code",
      "source": [
        "sw_english=[]\n",
        "sw_english=stopwords.words('english')"
      ],
      "metadata": {
        "id": "DkXWZCMlUBHE"
      },
      "execution_count": null,
      "outputs": []
    },
    {
      "cell_type": "code",
      "source": [
        "sw_english"
      ],
      "metadata": {
        "id": "DXFbluWzUBKB",
        "colab": {
          "base_uri": "https://localhost:8080/"
        },
        "outputId": "27402130-da4d-44c5-92ac-3f5d96a7bca2",
        "collapsed": true
      },
      "execution_count": null,
      "outputs": [
        {
          "output_type": "execute_result",
          "data": {
            "text/plain": [
              "['a',\n",
              " 'about',\n",
              " 'above',\n",
              " 'after',\n",
              " 'again',\n",
              " 'against',\n",
              " 'ain',\n",
              " 'all',\n",
              " 'am',\n",
              " 'an',\n",
              " 'and',\n",
              " 'any',\n",
              " 'are',\n",
              " 'aren',\n",
              " \"aren't\",\n",
              " 'as',\n",
              " 'at',\n",
              " 'be',\n",
              " 'because',\n",
              " 'been',\n",
              " 'before',\n",
              " 'being',\n",
              " 'below',\n",
              " 'between',\n",
              " 'both',\n",
              " 'but',\n",
              " 'by',\n",
              " 'can',\n",
              " 'couldn',\n",
              " \"couldn't\",\n",
              " 'd',\n",
              " 'did',\n",
              " 'didn',\n",
              " \"didn't\",\n",
              " 'do',\n",
              " 'does',\n",
              " 'doesn',\n",
              " \"doesn't\",\n",
              " 'doing',\n",
              " 'don',\n",
              " \"don't\",\n",
              " 'down',\n",
              " 'during',\n",
              " 'each',\n",
              " 'few',\n",
              " 'for',\n",
              " 'from',\n",
              " 'further',\n",
              " 'had',\n",
              " 'hadn',\n",
              " \"hadn't\",\n",
              " 'has',\n",
              " 'hasn',\n",
              " \"hasn't\",\n",
              " 'have',\n",
              " 'haven',\n",
              " \"haven't\",\n",
              " 'having',\n",
              " 'he',\n",
              " \"he'd\",\n",
              " \"he'll\",\n",
              " 'her',\n",
              " 'here',\n",
              " 'hers',\n",
              " 'herself',\n",
              " \"he's\",\n",
              " 'him',\n",
              " 'himself',\n",
              " 'his',\n",
              " 'how',\n",
              " 'i',\n",
              " \"i'd\",\n",
              " 'if',\n",
              " \"i'll\",\n",
              " \"i'm\",\n",
              " 'in',\n",
              " 'into',\n",
              " 'is',\n",
              " 'isn',\n",
              " \"isn't\",\n",
              " 'it',\n",
              " \"it'd\",\n",
              " \"it'll\",\n",
              " \"it's\",\n",
              " 'its',\n",
              " 'itself',\n",
              " \"i've\",\n",
              " 'just',\n",
              " 'll',\n",
              " 'm',\n",
              " 'ma',\n",
              " 'me',\n",
              " 'mightn',\n",
              " \"mightn't\",\n",
              " 'more',\n",
              " 'most',\n",
              " 'mustn',\n",
              " \"mustn't\",\n",
              " 'my',\n",
              " 'myself',\n",
              " 'needn',\n",
              " \"needn't\",\n",
              " 'no',\n",
              " 'nor',\n",
              " 'not',\n",
              " 'now',\n",
              " 'o',\n",
              " 'of',\n",
              " 'off',\n",
              " 'on',\n",
              " 'once',\n",
              " 'only',\n",
              " 'or',\n",
              " 'other',\n",
              " 'our',\n",
              " 'ours',\n",
              " 'ourselves',\n",
              " 'out',\n",
              " 'over',\n",
              " 'own',\n",
              " 're',\n",
              " 's',\n",
              " 'same',\n",
              " 'shan',\n",
              " \"shan't\",\n",
              " 'she',\n",
              " \"she'd\",\n",
              " \"she'll\",\n",
              " \"she's\",\n",
              " 'should',\n",
              " 'shouldn',\n",
              " \"shouldn't\",\n",
              " \"should've\",\n",
              " 'so',\n",
              " 'some',\n",
              " 'such',\n",
              " 't',\n",
              " 'than',\n",
              " 'that',\n",
              " \"that'll\",\n",
              " 'the',\n",
              " 'their',\n",
              " 'theirs',\n",
              " 'them',\n",
              " 'themselves',\n",
              " 'then',\n",
              " 'there',\n",
              " 'these',\n",
              " 'they',\n",
              " \"they'd\",\n",
              " \"they'll\",\n",
              " \"they're\",\n",
              " \"they've\",\n",
              " 'this',\n",
              " 'those',\n",
              " 'through',\n",
              " 'to',\n",
              " 'too',\n",
              " 'under',\n",
              " 'until',\n",
              " 'up',\n",
              " 've',\n",
              " 'very',\n",
              " 'was',\n",
              " 'wasn',\n",
              " \"wasn't\",\n",
              " 'we',\n",
              " \"we'd\",\n",
              " \"we'll\",\n",
              " \"we're\",\n",
              " 'were',\n",
              " 'weren',\n",
              " \"weren't\",\n",
              " \"we've\",\n",
              " 'what',\n",
              " 'when',\n",
              " 'where',\n",
              " 'which',\n",
              " 'while',\n",
              " 'who',\n",
              " 'whom',\n",
              " 'why',\n",
              " 'will',\n",
              " 'with',\n",
              " 'won',\n",
              " \"won't\",\n",
              " 'wouldn',\n",
              " \"wouldn't\",\n",
              " 'y',\n",
              " 'you',\n",
              " \"you'd\",\n",
              " \"you'll\",\n",
              " 'your',\n",
              " \"you're\",\n",
              " 'yours',\n",
              " 'yourself',\n",
              " 'yourselves',\n",
              " \"you've\"]"
            ]
          },
          "metadata": {},
          "execution_count": 126
        }
      ]
    },
    {
      "cell_type": "code",
      "source": [
        "# sw_hindi=stopwords.words('hindi')\n",
        "# print(sw_hindi)"
      ],
      "metadata": {
        "id": "b3VowHdoUBMR"
      },
      "execution_count": null,
      "outputs": []
    },
    {
      "cell_type": "code",
      "source": [
        "def remove_stopWords(text):\n",
        "  new_text=[]\n",
        "  for word in text.split():\n",
        "    if word in sw_english:\n",
        "      new_text.append('')\n",
        "    else:\n",
        "      new_text.append(word)\n",
        "  x=new_text[:]\n",
        "  print(x)\n",
        "  new_text.clear()\n",
        "  return \" \".join(x)\n",
        "\n"
      ],
      "metadata": {
        "id": "ek96k64QUBO-"
      },
      "execution_count": null,
      "outputs": []
    },
    {
      "cell_type": "code",
      "source": [
        "sample=\"I am happy.I love icecream, it is so tasty , yummy .\""
      ],
      "metadata": {
        "id": "sWJQOM6qUBRy"
      },
      "execution_count": null,
      "outputs": []
    },
    {
      "cell_type": "code",
      "source": [
        "print(remove_stopWords(sample))"
      ],
      "metadata": {
        "id": "YW9u-m5NUBUV",
        "colab": {
          "base_uri": "https://localhost:8080/"
        },
        "outputId": "12f33234-f998-426e-ed0c-7159a026f577"
      },
      "execution_count": null,
      "outputs": [
        {
          "output_type": "stream",
          "name": "stdout",
          "text": [
            "['I', '', 'happy.I', 'love', 'icecream,', '', '', '', 'tasty', ',', 'yummy', '.']\n",
            "I  happy.I love icecream,    tasty , yummy .\n"
          ]
        }
      ]
    },
    {
      "cell_type": "code",
      "source": [
        "df['review']"
      ],
      "metadata": {
        "id": "AjMH-DWcUBW9",
        "colab": {
          "base_uri": "https://localhost:8080/",
          "height": 458
        },
        "outputId": "71ae4ae2-9f59-4aa9-a750-44dd33604000"
      },
      "execution_count": null,
      "outputs": [
        {
          "output_type": "execute_result",
          "data": {
            "text/plain": [
              "0     one of the other reviewers has mentioned that ...\n",
              "1     a wonderful little production the filming tech...\n",
              "2     i thought this was a wonderful way to spend ti...\n",
              "3     basically theres a family where a little boy j...\n",
              "4     petter matteis love in the time of money is a ...\n",
              "                            ...                        \n",
              "95    daniel daylewis is the most versatile actor al...\n",
              "96    my guess would be this was originally going to...\n",
              "97    well i like to watch bad horror bmovies cause ...\n",
              "98    this is the worst movie i have ever seen as we...\n",
              "99    i have been a mario fan for as long as i can r...\n",
              "Name: review, Length: 100, dtype: object"
            ],
            "text/html": [
              "<div>\n",
              "<style scoped>\n",
              "    .dataframe tbody tr th:only-of-type {\n",
              "        vertical-align: middle;\n",
              "    }\n",
              "\n",
              "    .dataframe tbody tr th {\n",
              "        vertical-align: top;\n",
              "    }\n",
              "\n",
              "    .dataframe thead th {\n",
              "        text-align: right;\n",
              "    }\n",
              "</style>\n",
              "<table border=\"1\" class=\"dataframe\">\n",
              "  <thead>\n",
              "    <tr style=\"text-align: right;\">\n",
              "      <th></th>\n",
              "      <th>review</th>\n",
              "    </tr>\n",
              "  </thead>\n",
              "  <tbody>\n",
              "    <tr>\n",
              "      <th>0</th>\n",
              "      <td>one of the other reviewers has mentioned that ...</td>\n",
              "    </tr>\n",
              "    <tr>\n",
              "      <th>1</th>\n",
              "      <td>a wonderful little production the filming tech...</td>\n",
              "    </tr>\n",
              "    <tr>\n",
              "      <th>2</th>\n",
              "      <td>i thought this was a wonderful way to spend ti...</td>\n",
              "    </tr>\n",
              "    <tr>\n",
              "      <th>3</th>\n",
              "      <td>basically theres a family where a little boy j...</td>\n",
              "    </tr>\n",
              "    <tr>\n",
              "      <th>4</th>\n",
              "      <td>petter matteis love in the time of money is a ...</td>\n",
              "    </tr>\n",
              "    <tr>\n",
              "      <th>...</th>\n",
              "      <td>...</td>\n",
              "    </tr>\n",
              "    <tr>\n",
              "      <th>95</th>\n",
              "      <td>daniel daylewis is the most versatile actor al...</td>\n",
              "    </tr>\n",
              "    <tr>\n",
              "      <th>96</th>\n",
              "      <td>my guess would be this was originally going to...</td>\n",
              "    </tr>\n",
              "    <tr>\n",
              "      <th>97</th>\n",
              "      <td>well i like to watch bad horror bmovies cause ...</td>\n",
              "    </tr>\n",
              "    <tr>\n",
              "      <th>98</th>\n",
              "      <td>this is the worst movie i have ever seen as we...</td>\n",
              "    </tr>\n",
              "    <tr>\n",
              "      <th>99</th>\n",
              "      <td>i have been a mario fan for as long as i can r...</td>\n",
              "    </tr>\n",
              "  </tbody>\n",
              "</table>\n",
              "<p>100 rows × 1 columns</p>\n",
              "</div><br><label><b>dtype:</b> object</label>"
            ]
          },
          "metadata": {},
          "execution_count": 131
        }
      ]
    },
    {
      "cell_type": "code",
      "source": [
        "df['review']=df['review'].apply(remove_stopWords)"
      ],
      "metadata": {
        "id": "RBLBDT62UBZs",
        "colab": {
          "base_uri": "https://localhost:8080/"
        },
        "outputId": "30fc0211-d71b-45e7-9a69-8fbc3bc14c8b"
      },
      "execution_count": null,
      "outputs": [
        {
          "output_type": "stream",
          "name": "stdout",
          "text": [
            "['one', '', '', '', 'reviewers', '', 'mentioned', '', '', 'watching', '', '1', 'oz', 'episode', 'youll', '', 'hooked', '', '', 'right', '', '', '', 'exactly', '', 'happened', '', 'methe', 'first', 'thing', '', 'struck', '', '', 'oz', '', '', 'brutality', '', 'unflinching', 'scenes', '', 'violence', '', 'set', '', 'right', '', '', 'word', 'go', 'trust', '', '', '', '', '', 'show', '', '', 'faint', 'hearted', '', 'timid', '', 'show', 'pulls', '', 'punches', '', 'regards', '', 'drugs', 'sex', '', 'violence', '', '', 'hardcore', '', '', 'classic', 'use', '', '', 'wordit', '', 'called', 'oz', '', '', '', '', 'nickname', 'given', '', '', 'oswald', 'maximum', 'security', 'state', 'penitentary', '', 'focuses', 'mainly', '', 'emerald', 'city', '', 'experimental', 'section', '', '', 'prison', '', '', '', 'cells', '', 'glass', 'fronts', '', 'face', 'inwards', '', 'privacy', '', '', 'high', '', '', 'agenda', 'em', 'city', '', 'home', '', 'manyaryans', 'muslims', 'gangstas', 'latinos', 'christians', 'italians', 'irish', '', 'moreso', 'scuffles', 'death', 'stares', 'dodgy', 'dealings', '', 'shady', 'agreements', '', 'never', 'far', 'awayi', 'would', 'say', '', 'main', 'appeal', '', '', 'show', '', 'due', '', '', 'fact', '', '', 'goes', '', '', 'shows', 'wouldnt', 'dare', 'forget', 'pretty', 'pictures', 'painted', '', 'mainstream', 'audiences', 'forget', 'charm', 'forget', 'romanceoz', 'doesnt', 'mess', 'around', '', 'first', 'episode', '', 'ever', 'saw', 'struck', '', '', '', 'nasty', '', '', 'surreal', '', 'couldnt', 'say', '', '', 'ready', '', '', '', '', '', 'watched', '', '', 'developed', '', 'taste', '', 'oz', '', 'got', 'accustomed', '', '', 'high', 'levels', '', 'graphic', 'violence', '', '', 'violence', '', 'injustice', 'crooked', 'guards', 'wholl', '', 'sold', '', '', '', 'nickel', 'inmates', 'wholl', 'kill', '', 'order', '', 'get', 'away', '', '', 'well', 'mannered', 'middle', 'class', 'inmates', '', 'turned', '', 'prison', 'bitches', 'due', '', '', 'lack', '', 'street', 'skills', '', 'prison', 'experience', 'watching', 'oz', '', 'may', 'become', 'comfortable', '', '', '', 'uncomfortable', 'viewingthats', '', '', '', 'get', '', 'touch', '', '', 'darker', 'side']\n",
            "['', 'wonderful', 'little', 'production', '', 'filming', 'technique', '', '', 'unassuming', '', 'oldtimebbc', 'fashion', '', 'gives', '', 'comforting', '', 'sometimes', 'discomforting', 'sense', '', 'realism', '', '', 'entire', 'piece', '', 'actors', '', 'extremely', 'well', 'chosen', 'michael', 'sheen', '', '', '', 'got', '', '', 'polari', '', '', '', '', '', 'voices', '', 'pat', '', '', '', 'truly', 'see', '', 'seamless', 'editing', 'guided', '', '', 'references', '', 'williams', 'diary', 'entries', '', '', '', '', 'well', 'worth', '', 'watching', '', '', '', '', 'terrificly', 'written', '', 'performed', 'piece', '', 'masterful', 'production', '', 'one', '', '', 'great', 'masters', '', 'comedy', '', '', 'life', '', 'realism', 'really', 'comes', 'home', '', '', 'little', 'things', '', 'fantasy', '', '', 'guard', '', 'rather', '', 'use', '', 'traditional', 'dream', 'techniques', 'remains', 'solid', '', 'disappears', '', 'plays', '', '', 'knowledge', '', '', 'senses', 'particularly', '', '', 'scenes', 'concerning', 'orton', '', 'halliwell', '', '', 'sets', 'particularly', '', '', 'flat', '', 'halliwells', 'murals', 'decorating', 'every', 'surface', '', 'terribly', 'well', 'done']\n",
            "['', 'thought', '', '', '', 'wonderful', 'way', '', 'spend', 'time', '', '', '', 'hot', 'summer', 'weekend', 'sitting', '', '', 'air', 'conditioned', 'theater', '', 'watching', '', 'lighthearted', 'comedy', '', 'plot', '', 'simplistic', '', '', 'dialogue', '', 'witty', '', '', 'characters', '', 'likable', 'even', '', 'well', 'bread', 'suspected', 'serial', 'killer', '', '', 'may', '', 'disappointed', '', '', 'realize', '', '', '', 'match', 'point', '2', 'risk', 'addiction', '', 'thought', '', '', 'proof', '', 'woody', 'allen', '', 'still', 'fully', '', 'control', '', '', 'style', 'many', '', 'us', '', 'grown', '', 'lovethis', '', '', '', 'id', 'laughed', '', 'one', '', 'woodys', 'comedies', '', 'years', 'dare', '', 'say', '', 'decade', '', 'ive', 'never', '', 'impressed', '', 'scarlet', 'johanson', '', '', '', 'managed', '', 'tone', '', '', 'sexy', 'image', '', 'jumped', 'right', '', '', 'average', '', 'spirited', 'young', 'womanthis', 'may', '', '', '', 'crown', 'jewel', '', '', 'career', '', '', '', 'wittier', '', 'devil', 'wears', 'prada', '', '', 'interesting', '', 'superman', '', 'great', 'comedy', '', 'go', 'see', '', 'friends']\n",
            "['basically', 'theres', '', 'family', '', '', 'little', 'boy', 'jake', 'thinks', 'theres', '', 'zombie', '', '', 'closet', '', 'parents', '', 'fighting', '', '', 'timethis', 'movie', '', 'slower', '', '', 'soap', 'opera', '', 'suddenly', 'jake', 'decides', '', 'become', 'rambo', '', 'kill', '', 'zombieok', 'first', '', '', '', 'youre', 'going', '', 'make', '', 'film', '', 'must', 'decide', '', '', '', 'thriller', '', '', 'drama', '', '', 'drama', '', 'movie', '', 'watchable', 'parents', '', 'divorcing', 'arguing', 'like', '', 'real', 'life', '', '', '', '', 'jake', '', '', 'closet', '', 'totally', 'ruins', '', '', 'film', '', 'expected', '', 'see', '', 'boogeyman', 'similar', 'movie', '', 'instead', '', 'watched', '', 'drama', '', '', 'meaningless', 'thriller', 'spots3', '', '', '10', '', '', '', 'well', 'playing', 'parents', 'descent', 'dialogs', '', '', '', 'shots', '', 'jake', '', 'ignore', '']\n",
            "['petter', 'matteis', 'love', '', '', 'time', '', 'money', '', '', 'visually', 'stunning', 'film', '', 'watch', 'mr', 'mattei', 'offers', 'us', '', 'vivid', 'portrait', '', 'human', 'relations', '', '', '', 'movie', '', 'seems', '', '', 'telling', 'us', '', 'money', 'power', '', 'success', '', '', 'people', '', '', 'different', 'situations', '', 'encounter', '', '', '', 'variation', '', '', 'arthur', 'schnitzlers', 'play', '', '', '', 'theme', '', 'director', 'transfers', '', 'action', '', '', 'present', 'time', 'new', 'york', '', '', '', 'different', 'characters', 'meet', '', 'connect', '', 'one', '', 'connected', '', 'one', 'way', '', 'another', '', '', 'next', 'person', '', '', 'one', 'seems', '', 'know', '', 'previous', 'point', '', 'contact', 'stylishly', '', 'film', '', '', 'sophisticated', 'luxurious', 'look', '', '', 'taken', '', 'see', '', '', 'people', 'live', '', '', 'world', '', 'live', '', '', '', 'habitatthe', '', 'thing', 'one', 'gets', '', '', '', '', 'souls', '', '', 'picture', '', '', 'different', 'stages', '', 'loneliness', '', 'one', 'inhabits', '', 'big', 'city', '', '', 'exactly', '', 'best', 'place', '', '', 'human', 'relations', 'find', 'sincere', 'fulfillment', '', 'one', 'discerns', '', '', 'case', '', '', '', '', 'people', '', 'encounterthe', 'acting', '', 'good', '', 'mr', 'matteis', 'direction', 'steve', 'buscemi', 'rosario', 'dawson', 'carol', 'kane', 'michael', 'imperioli', 'adrian', 'grenier', '', '', 'rest', '', '', 'talented', 'cast', 'make', '', 'characters', 'come', 'alivewe', 'wish', 'mr', 'mattei', 'good', 'luck', '', 'await', 'anxiously', '', '', 'next', 'work']\n",
            "['probably', '', 'alltime', 'favorite', 'movie', '', 'story', '', 'selflessness', 'sacrifice', '', 'dedication', '', '', 'noble', 'cause', '', '', '', 'preachy', '', 'boring', '', '', 'never', 'gets', 'old', 'despite', '', '', 'seen', '', '', '15', '', '', 'times', '', '', 'last', '25', 'years', 'paul', 'lukas', 'performance', 'brings', 'tears', '', '', 'eyes', '', 'bette', 'davis', '', 'one', '', '', '', '', 'truly', 'sympathetic', 'roles', '', '', 'delight', '', 'kids', '', '', 'grandma', 'says', '', 'like', 'dressedup', 'midgets', '', 'children', '', '', '', 'makes', '', '', 'fun', '', 'watch', '', '', 'mothers', 'slow', 'awakening', '', 'whats', 'happening', '', '', 'world', '', '', '', '', 'roof', '', 'believable', '', 'startling', '', '', '', '', 'dozen', 'thumbs', 'theyd', '', '', '', '', '', 'movie']\n",
            "['', 'sure', 'would', 'like', '', 'see', '', 'resurrection', '', '', '', 'dated', 'seahunt', 'series', '', '', 'tech', '', '', 'today', '', 'would', 'bring', 'back', '', 'kid', 'excitement', '', 'mei', 'grew', '', '', 'black', '', 'white', 'tv', '', 'seahunt', '', 'gunsmoke', '', '', 'heros', 'every', 'weekyou', '', '', 'vote', '', '', 'comeback', '', '', 'new', 'sea', 'huntwe', 'need', '', 'change', '', 'pace', '', 'tv', '', '', 'would', 'work', '', '', 'world', '', '', 'water', 'adventureoh', '', '', 'way', 'thank', '', '', '', 'outlet', 'like', '', '', 'view', 'many', 'viewpoints', '', 'tv', '', '', 'many', 'moviesso', '', 'ole', 'way', '', 'believe', 'ive', 'got', '', '', 'wanna', 'saywould', '', 'nice', '', 'read', '', '', 'plus', 'points', '', 'sea', 'huntif', '', 'rhymes', 'would', '', '10', 'lines', 'would', '', 'let', '', 'submitor', 'leave', '', '', '', '', '', 'doubt', '', '', '', '', 'quitif', '', '', '', '', '', 'must', 'go', '', 'lets', '', '']\n",
            "['', 'show', '', '', 'amazing', 'fresh', 'innovative', 'idea', '', '', '70s', '', '', 'first', 'aired', '', 'first', '7', '', '8', 'years', '', 'brilliant', '', 'things', 'dropped', '', '', '', '', '1990', '', 'show', '', '', 'really', 'funny', 'anymore', '', '', 'continued', '', 'decline', '', '', '', 'complete', 'waste', '', 'time', '', '', 'todayits', 'truly', 'disgraceful', '', 'far', '', 'show', '', 'fallen', '', 'writing', '', 'painfully', 'bad', '', 'performances', '', 'almost', '', 'bad', '', '', '', '', 'mildly', 'entertaining', 'respite', '', '', 'guesthosts', '', 'show', 'probably', 'wouldnt', 'still', '', '', '', 'air', '', 'find', '', '', 'hard', '', 'believe', '', '', '', 'creator', '', 'handselected', '', 'original', 'cast', 'also', 'chose', '', 'band', '', 'hacks', '', 'followed', '', '', 'one', 'recognize', '', 'brilliance', '', '', 'see', 'fit', '', 'replace', '', '', '', 'mediocrity', '', 'felt', '', 'must', 'give', '2', 'stars', '', '', 'respect', '', '', 'original', 'cast', '', 'made', '', 'show', '', '', 'huge', 'success', '', '', '', '', '', 'show', '', '', 'awful', '', 'cant', 'believe', '', 'still', '', '', 'air']\n",
            "['encouraged', '', '', 'positive', 'comments', '', '', 'film', '', '', '', '', 'looking', 'forward', '', 'watching', '', 'film', 'bad', 'mistake', 'ive', 'seen', '950', 'films', '', '', '', 'truly', 'one', '', '', 'worst', '', '', '', 'awful', '', 'almost', 'every', 'way', 'editing', 'pacing', 'storyline', 'acting', 'soundtrack', '', 'films', '', 'song', '', 'lame', 'country', 'tune', '', 'played', '', 'less', '', 'four', 'times', '', 'film', 'looks', 'cheap', '', 'nasty', '', '', 'boring', '', '', 'extreme', 'rarely', '', '', '', '', 'happy', '', 'see', '', 'end', 'credits', '', '', 'film', '', '', 'thing', '', 'prevents', '', 'giving', '', '', '1score', '', 'harvey', 'keitel', '', '', '', 'far', '', '', 'best', 'performance', '', '', 'least', 'seems', '', '', 'making', '', 'bit', '', '', 'effort', 'one', '', 'keitel', 'obsessives', '']\n",
            "['', '', 'like', 'original', 'gut', 'wrenching', 'laughter', '', '', 'like', '', 'movie', '', '', '', 'young', '', 'old', '', '', '', 'love', '', 'movie', 'hell', 'even', '', 'mom', 'liked', 'itgreat', 'camp']\n",
            "['phil', '', 'alien', '', 'one', '', '', 'quirky', 'films', '', '', 'humour', '', 'based', 'around', '', 'oddness', '', 'everything', 'rather', '', 'actual', 'punchlinesat', 'first', '', '', '', 'odd', '', 'pretty', 'funny', '', '', '', 'movie', 'progressed', '', 'didnt', 'find', '', 'jokes', '', 'oddness', 'funny', 'anymoreits', '', 'low', 'budget', 'film', 'thats', 'never', '', 'problem', '', '', '', '', '', 'pretty', 'interesting', 'characters', '', 'eventually', '', '', 'lost', 'interesti', 'imagine', '', 'film', 'would', 'appeal', '', '', 'stoner', '', '', 'currently', 'partakingfor', 'something', 'similar', '', 'better', 'try', 'brother', '', 'another', 'planet']\n",
            "['', 'saw', '', 'movie', '', '', '', '', '12', '', '', 'came', '', '', 'recall', '', 'scariest', 'scene', '', '', 'big', 'bird', 'eating', 'men', 'dangling', 'helplessly', '', 'parachutes', 'right', '', '', '', 'air', '', 'horror', '', 'horroras', '', 'young', 'kid', 'going', '', '', 'cheesy', 'b', 'films', '', 'saturday', 'afternoons', '', 'still', '', 'tired', '', '', 'formula', '', '', 'monster', 'type', 'movies', '', 'usually', 'included', '', 'hero', '', 'beautiful', 'woman', '', 'might', '', '', 'daughter', '', '', 'professor', '', '', 'happy', 'resolution', '', '', 'monster', 'died', '', '', 'end', '', 'didnt', 'care', 'much', '', '', 'romantic', 'angle', '', '', '12', 'year', 'old', '', '', 'predictable', 'plots', '', 'love', '', '', '', '', 'unintentional', 'humorbut', '', '', 'year', '', '', 'later', '', 'saw', 'psycho', '', '', 'came', '', '', '', 'loved', '', '', 'star', 'janet', 'leigh', '', 'bumped', '', 'early', '', '', 'film', '', 'sat', '', '', 'took', 'notice', '', '', 'point', 'since', 'screenwriters', '', 'making', '', '', 'story', 'make', '', '', '', '', '', 'scary', '', 'possible', '', '', '', '', 'wellworn', 'formula', '', '', '', 'rules']\n",
            "['', 'im', '', '', 'big', 'fan', '', 'bolls', 'work', '', '', '', '', 'many', '', '', 'enjoyed', '', 'movie', 'postal', 'maybe', 'im', '', '', 'one', 'boll', 'apparently', 'bought', '', 'rights', '', 'use', 'far', 'cry', 'long', 'ago', 'even', '', '', 'game', '', '', 'even', 'finsished', 'people', '', '', 'enjoyed', 'killing', 'mercs', '', 'infiltrating', 'secret', 'research', 'labs', 'located', '', '', 'tropical', 'island', '', '', 'warned', '', '', '', '', 'far', 'cry', '', '', 'something', 'mr', 'boll', '', 'schemed', 'together', 'along', '', '', 'legion', '', 'schmucks', 'feeling', 'loneley', '', '', 'set', 'mr', 'boll', 'invites', 'three', '', '', 'countrymen', '', 'play', '', '', 'players', 'go', '', '', 'names', '', 'til', 'schweiger', 'udo', 'kier', '', 'ralf', 'moellerthree', 'names', '', 'actually', '', 'made', '', 'selfs', 'pretty', 'big', '', '', 'movie', 'biz', '', '', 'tale', 'goes', 'like', '', 'jack', 'carver', 'played', '', 'til', 'schweiger', 'yes', 'carver', '', 'german', '', 'hail', '', 'bratwurst', 'eating', 'dudes', 'however', '', 'find', '', 'tils', 'acting', '', '', 'movie', '', 'pretty', 'badass', 'people', '', 'complained', '', '', 'hes', '', 'really', 'staying', 'true', '', '', 'whole', 'carver', 'agenda', '', '', '', 'saw', 'carver', '', '', 'first', 'person', 'perspective', '', '', 'dont', 'really', 'know', '', '', 'looked', 'like', '', '', '', 'kicking', '', 'however', '', 'storyline', '', '', 'film', '', 'beyond', 'demented', '', 'see', '', 'evil', 'mad', 'scientist', 'dr', 'krieger', 'played', '', 'udo', 'kier', 'making', 'geneticallymutatedsoldiers', '', 'gms', '', '', '', 'called', 'performing', '', 'topsecret', 'research', '', '', 'island', '', 'reminds', '', '', 'spoiler', 'vancouver', '', '', 'reason', 'thats', 'right', '', 'palm', 'trees', '', 'instead', '', 'got', '', 'nice', 'rich', 'lumberjackwoods', '', 'havent', 'even', 'gone', 'far', '', '', 'started', '', 'cry', 'mehehe', '', 'cannot', 'go', '', '', '', '', '', 'wanna', 'stay', 'true', '', 'bolls', 'shenanigans', '', 'go', '', 'see', '', 'movie', '', '', '', '', 'disappointed', '', 'delivers', '', 'true', 'boll', 'experience', 'meaning', '', '', '', '', 'suckthere', '', '', 'things', 'worth', 'mentioning', '', 'would', 'imply', '', 'boll', '', '', 'good', 'work', '', '', 'areas', '', '', 'film', '', '', '', 'nice', 'boat', '', 'fighting', 'scenes', '', '', 'whole', 'cromedalbino', 'gms', 'squad', 'enters', '', 'scene', '', 'everything', '', 'makes', '', 'laugh', '', 'movie', 'far', 'cry', 'reeks', '', 'scheisse', 'thats', 'poop', '', '', 'simpletons', '', '', 'far', '', '', 'wanna', 'take', '', 'wiff', 'go', 'ahead', 'btw', 'carver', 'gets', '', '', 'annoying', 'sidekick', '', 'makes', '', 'wanna', 'shoot', '', '', 'first', 'three', 'minutes', 'hes', '', 'screen']\n",
            "['', 'cast', 'played', 'shakespeareshakespeare', 'losti', 'appreciate', '', '', '', 'trying', '', 'bring', 'shakespeare', '', '', 'masses', '', '', 'ruin', 'something', '', 'goodis', '', '', '', 'scottish', 'play', '', '', 'favorite', 'shakespeare', '', '', '', 'know', '', '', '', 'know', '', '', '', 'certain', 'rev', 'bowdler', 'hence', 'bowdlerization', 'tried', '', '', 'something', 'similar', '', '', 'victorian', 'erain', '', 'words', '', 'cannot', 'improve', 'perfectioni', '', '', '', '', 'write', '', '', '', '', '', 'write', '', 'least', 'ten', 'lines', '', 'text', '', 'english', 'composition', '', 'never', '', 'forte', '', '', '', '', '', 'keep', 'going', '', 'say', '', '', 'movie', '', '', 'saying', 'goes', '', '', '', 'cut', '']\n",
            "['', '', 'fantastic', 'movie', '', 'three', 'prisoners', '', 'become', 'famous', 'one', '', '', 'actors', '', 'george', 'clooney', '', 'im', '', '', 'fan', '', '', 'roll', '', '', 'bad', 'another', 'good', 'thing', '', '', 'movie', '', '', 'soundtrack', '', 'man', '', 'constant', 'sorrow', '', 'recommand', '', 'movie', '', 'everybody', 'greetings', 'bart']\n",
            "['kind', '', 'drawn', '', '', '', 'erotic', 'scenes', '', '', 'realize', '', '', 'one', '', '', '', 'amateurish', '', 'unbelievable', 'bits', '', 'film', 'ive', 'ever', 'seen', 'sort', '', 'like', '', 'high', 'school', 'film', 'project', '', '', 'rosanna', 'arquette', 'thinking', '', '', '', '', '', '', 'stock', 'characters', '', '', 'bizarre', 'supposed', 'midwest', 'town', 'pretty', 'hard', '', 'get', 'involved', '', '', 'one', '', 'lessons', '', '', 'learned', '', '', '', 'brilliant', 'insights', '', 'stilted', '', 'quite', 'ridiculous', '', 'lots', '', 'skin', '', '', 'intrigues', '', 'videotaped', 'nonsensewhat', '', '', '', 'bisexual', 'relationship', '', '', 'nowhere', '', '', '', 'heterosexual', 'encounters', '', '', '', '', '', 'absurd', 'dance', '', 'everybody', 'playing', '', 'stereotyped', 'roles', 'give', '', 'one', '', 'pass', '', 'like', '', 'million', '', 'miles', '', 'bad', 'wasted', 'film', 'money', '', 'could', '', '', 'spent', '', 'starving', 'children', '', 'aids', '', 'africa']\n",
            "['', 'films', '', 'simply', '', '', '', 'remade', '', '', 'one', '', '', '', '', '', '', '', '', '', '', 'bad', 'film', '', '', 'fails', '', 'capture', '', 'flavor', '', '', 'terror', '', '', '1963', 'film', '', '', '', 'title', 'liam', 'neeson', '', 'excellent', '', '', 'always', '', '', '', '', '', 'cast', 'holds', '', '', '', 'exception', '', 'owen', 'wilson', '', '', '', '', 'bring', '', 'right', 'feel', '', '', 'character', '', 'luke', '', '', 'major', 'fault', '', '', 'version', '', '', '', 'strayed', '', 'far', '', '', 'shirley', 'jackson', 'story', '', '', 'attempts', '', '', 'grandiose', '', 'lost', '', '', '', 'thrill', '', '', 'earlier', 'film', '', '', 'trade', '', '', 'snazzier', 'special', 'effects', '', '', '', 'say', '', '', '', '', '', '', '', '', '', 'bad', 'film', '', '', '', 'enjoy', '', 'friction', '', 'terror', '', '', 'older', 'version', 'much', '']\n",
            "['', 'movie', 'made', '', '', 'one', '', '', 'top', '10', '', 'awful', 'movies', 'horrible', '', 'wasnt', '', 'continuous', 'minute', '', '', 'wasnt', '', 'fight', '', 'one', 'monster', '', 'another', '', '', '', 'chance', '', '', 'character', 'development', '', '', '', 'busy', 'running', '', 'one', 'sword', 'fight', '', 'another', '', '', '', 'emotional', 'attachment', 'except', '', '', 'big', 'bad', 'machine', '', 'wanted', '', 'destroy', '', 'scenes', '', 'blatantly', 'stolen', '', '', 'movies', 'lotr', 'star', 'wars', '', 'matrix', 'examplesthe', 'ghost', 'scene', '', '', 'end', '', 'stolen', '', '', 'final', 'scene', '', '', 'old', 'star', 'wars', '', 'yoda', 'obee', 'one', '', 'vader', '', 'spider', 'machine', '', '', 'beginning', '', 'exactly', 'like', 'frodo', '', 'attacked', '', '', 'spider', '', 'return', '', '', 'kings', 'elijah', 'wood', '', '', 'victim', '', '', 'films', '', 'waitit', 'hypnotizes', 'stings', '', 'victim', '', 'wraps', '', 'upuh', 'helloand', '', 'whole', 'machine', 'vs', 'humans', 'theme', '', '', 'matrixor', 'terminatorthere', '', '', 'examples', '', '', 'waste', '', 'time', '', '', 'someone', 'tell', '', '', '', '', '', 'nazis', 'nazis', '', '', '', 'juvenile', 'story', 'line', 'rushed', '', '', 'juvenile', 'conclusion', '', 'movie', 'could', '', 'decide', '', '', '', '', 'childrens', 'movie', '', '', 'adult', 'movie', '', 'wasnt', 'much', '', 'either', '', 'awful', '', 'real', 'disappointment', '', 'say', '', 'least', 'save', '', 'money']\n",
            "['', 'remember', '', 'filmit', '', '', 'first', 'film', '', '', 'watched', '', '', 'cinema', '', 'picture', '', 'dark', '', 'places', '', '', '', 'nervous', '', '', 'back', '', '7475', '', 'dad', 'took', '', '', 'brother', 'sister', '', 'newbury', 'cinema', '', 'newbury', 'berkshire', 'england', '', 'recall', '', 'tigers', '', '', 'lots', '', 'snow', '', '', 'film', 'also', '', 'appearance', '', 'grizzly', 'adams', 'actor', 'dan', 'haggery', '', 'think', 'one', '', '', 'tigers', 'gets', 'shot', '', 'dies', '', 'anyone', 'knows', '', '', 'find', '', '', 'dvd', 'etc', 'please', 'let', '', 'knowthe', 'cinema', '', '', '', 'turned', '', '', 'fitness', 'club', '', '', '', '', 'big', 'shame', '', '', 'nearest', 'cinema', '', '', '20', 'miles', 'away', 'would', 'love', '', 'hear', '', 'others', '', '', 'seen', '', 'film', '', '', '', 'like', '']\n",
            "['', 'awful', 'film', '', 'must', '', '', '', '', '', 'real', 'stinkers', '', '', 'nominated', '', '', 'golden', 'globe', 'theyve', 'taken', '', 'story', '', '', 'first', 'famous', 'female', 'renaissance', 'painter', '', 'mangled', '', 'beyond', 'recognition', '', 'complaint', '', '', '', 'theyve', 'taken', 'liberties', '', '', 'facts', '', '', 'story', '', 'good', '', 'would', 'perfectly', 'fine', '', '', 'simply', 'bizarre', '', '', 'accounts', '', 'true', 'story', '', '', 'artist', 'would', '', 'made', '', '', 'far', 'better', 'film', '', '', '', '', 'come', '', '', '', 'dishwaterdull', 'script', '', 'suppose', '', 'werent', 'enough', 'naked', 'people', '', '', 'factual', 'version', '', 'hurriedly', 'capped', '', '', '', 'end', '', '', 'summary', '', '', 'artists', 'life', '', 'could', '', 'saved', '', '', 'couple', '', 'hours', '', 'theyd', 'favored', '', 'rest', '', '', 'film', '', '', 'brevity']\n",
            "['', '', 'success', '', 'die', 'hard', '', '', 'sequels', '', '', 'surprise', 'really', '', '', '', '1990s', '', 'glut', '', 'die', 'hard', '', '', 'movies', 'cashed', '', '', '', 'wrong', 'guy', 'wrong', 'place', 'wrong', 'time', 'concept', '', '', '', '', '', '', 'cliffhanger', 'die', 'hard', '', '', 'mountain', '', '', 'time', '', 'rescue', 'sly', 'stop', '', '', 'mom', '', 'shoot', 'stallones', 'careercliffhanger', '', 'one', 'big', 'nitpickers', 'dream', 'especially', '', '', '', '', 'expert', '', 'mountain', 'climbing', 'basejumping', 'aviation', 'facial', 'expressions', 'acting', 'skills', '', '', '', '', 'full', '', 'excuses', '', 'dismiss', '', 'film', '', 'one', 'overblown', 'pile', '', 'junk', 'stallone', 'even', 'managed', '', 'get', 'outacted', '', '', 'horse', 'however', '', '', '', 'forget', '', '', 'nonsense', '', 'actually', '', '', 'lovable', '', 'undeniably', 'entertaining', 'romp', '', 'delivers', '', 'plenty', '', 'thrills', '', 'unintentionally', 'plenty', '', 'laughsyouve', 'got', '', 'love', 'john', 'lithgows', 'sneery', 'evilness', '', 'tick', 'every', 'box', 'band', '', 'baddies', '', 'best', '', '', '', 'permanently', 'harassed', '', 'hapless', 'turncoat', 'agent', 'rex', 'linn', '', 'travershe', 'may', '', '', 'henry', '', 'portrait', '', '', 'serial', 'killer', '', 'michael', 'rooker', '', 'noteworthy', '', '', 'cringeworthy', 'performance', '', 'hal', '', 'insists', '', 'constantly', 'shrieking', '', 'painful', 'disbelief', '', '', 'captors', '', 'man', 'never', 'hurt', 'anybody', '', 'whilst', '', 'surely', 'cant', '', '', 'really', '', 'look', 'like', 'ralph', 'waites', 'frank', 'character', '', 'grinning', '', '', 'girl', 'plummets', '', '', 'deathmention', '', 'must', 'go', '', 'former', 'londons', 'burning', 'actor', 'craig', 'fairbrass', '', '', 'brit', 'bad', 'guy', '', 'comes', '', 'cropper', 'whilst', 'using', 'hal', '', '', 'human', 'football', 'yes', '', 'cant', 'help', 'enjoy', '', 'bit', 'hal', 'needed', '', 'good', 'kickingso', 'forget', '', 'better', 'judgement', '', 'cares', '', '', 'could', 'never', 'happen', 'lower', '', 'acting', 'expectations', 'turn', '', '', 'volume', '', 'enjoy', '', '', 'youre', 'looking', '', 'qaulen', 'hes', '', 'one', 'wearing', '', 'helicopter']\n",
            "['', '', '', 'terrible', 'misfortune', '', '', '', 'view', '', 'bmovie', '', '', 'entiretyall', '', '', '', 'say', '', 'save', '', 'time', '', 'money', '', '', 'got', '', '', '', 'worst', 'bmovie', '', '', 'time', '', 'shouldnt', 'even', '', 'called', '', 'bmovie', '', 'like', '', 'fmovie', '', '', 'fails', '', '', 'aspects', '', 'make', '', 'good', 'movie', '', 'story', '', '', 'interesting', '', '', '', '', '', 'actors', '', 'paperthin', '', '', '', '', 'believable', '', '', 'bad', 'direction', '', '', 'action', 'sequences', '', '', 'fake', '', 'almost', 'funnyalmostthe', 'movie', '', '', 'packed', 'full', '', 'crappy', 'oneliners', '', '', 'respectable', 'person', 'could', 'find', 'amusing', '', '', 'least', 'little', 'bitthis', 'movie', '', 'supposed', '', '', 'geared', 'towards', 'men', '', '', '', 'women', '', '', '', '', 'utterly', 'unattractive', 'especially', '', 'old', 'wrinkled', 'thing', '', 'comes', '', 'towards', '', 'end', '', 'try', '', 'appear', 'sexy', '', '', 'weird', 'horrible', 'costumes', '', '', 'fail', 'miserablyeven', '', '', '', '', 'ridiculous', 'bmovies', '', 'still', 'give', '', '', 'laughs', '', '', '', '', '', 'painful', '', 'watch']\n",
            "['', '', 'absolutely', 'stunning', 'movie', '', '', '', '25', 'hrs', '', 'kill', 'watch', '', '', 'wont', 'regret', '', '', '', 'much', 'fun', 'rajnikanth', 'carries', '', 'movie', '', '', 'shoulders', '', 'although', '', 'isnt', 'anything', '', '', '', '', '', 'still', 'liked', '', '', 'music', '', 'arrehman', 'takes', 'time', '', 'grow', '', '', '', '', '', 'heard', '', '', '', 'times', '', 'really', 'start', 'liking', '']\n",
            "['first', '', '', 'lets', 'get', '', '', 'things', 'straight', '', '', '', '', '', 'anime', 'fan', 'always', '', '', '', '', 'matter', '', 'fact', '', 'used', '', 'watch', 'speed', 'racer', '', '', 'time', '', 'preschool', 'b', '', '', 'like', 'several', 'bmovies', '', 'theyre', 'hilarious', 'c', '', 'like', '', 'godzilla', 'movies', '', 'lotmoving', '', '', '', 'movie', 'first', 'comes', '', '', 'seems', 'like', '', 'going', '', '', '', 'usual', 'bmovie', '', '', '', 'crappy', 'fx', '', '', '', 'sudden', 'boom', '', 'anime', 'comes', '', '', '', '', '', 'movie', 'goes', 'wwwaaaaayyyyy', 'downhillthe', 'animation', '', '', 'bad', 'cheap', 'even', 'worse', '', '', '', 'remember', '', 'speed', 'racer', '', 'crissakes', '', 'fact', '', '', 'cheap', 'one', '', '', '', 'scenes', '', '', 'movie', '', 'vividly', 'remember', '', '', '', 'bunch', '', 'kids', 'run', '', '', '', 'school', '', '', '', 'kids', '', '', '', '', 'fx', '', 'terrible', '', '', 'dinosaurs', 'look', 'worse', '', 'godzilla', '', 'addition', '', 'transition', '', 'live', 'action', '', 'animation', '', 'unorganized', '', 'dialogue', 'voicesespecially', '', 'english', 'dub', '', '', 'viewed', '', 'horrid', '', '', 'begging', '', 'dad', '', 'take', '', 'tape', '', '', '', 'dvd', 'vhs', 'player', '', '', 'thing', '', 'kept', '', 'surviving', '', 'cracking', '', 'jokes', 'comments', 'like', '', 'robots', 'joelmike', '', 'mst3k', '', 'pick', '', 'season', 'honestly', '', '', '', '', 'way', '', 'barely', 'enjoy', '', 'movie', 'survive', '', '', '', '', 'timeheck', 'im', 'planning', '', 'show', '', '', 'another', 'fellow', 'otaku', 'pal', '', 'mine', '', 'halloween', '', '', 'bmovie', 'night', '', '', 'stupid', 'pretty', 'painful', '', 'watch', 'unintentionally', 'hilarious', '', '', '', 'time', 'im', 'giving', '', 'movie', '', '310', '', 'improvement', '', '', '0510', '', '', 'originally', 'going', '', 'give', 'itaccording', '', '', 'grading', 'scale', '310', 'means', 'pretty', 'much', '', 'boring', 'bad', '', 'fun', '', 'counting', '', 'three', 'unless', '', 'find', '', 'way', '', 'make', 'fun', '', '', '', '', '', 'become', '', 'fun', '', 'counting', '', '15']\n",
            "['', '', '', 'worst', 'movie', '', 'saw', '', 'worldfest', '', '', 'also', 'received', '', 'least', 'amount', '', 'applause', 'afterwards', '', '', '', 'think', '', '', 'receiving', '', 'recognition', 'based', '', '', 'amount', '', 'known', 'actors', '', '', 'film', '', 'great', '', 'see', 'jbeals', '', 'shes', '', '', '', 'movie', '', '', '', 'minutes', 'mparker', '', '', 'much', 'better', 'actress', '', '', 'part', 'allowed', '', '', 'rest', '', '', 'acting', '', 'hard', '', 'judge', '', '', 'movie', '', '', 'ridiculous', '', 'predictable', '', 'main', 'character', '', 'totally', 'unsympathetic', '', 'therefore', '', 'bore', '', 'watch', '', '', '', 'real', 'emotional', 'depth', '', '', 'story', '', 'movie', 'revolving', '', '', 'actor', '', 'cant', 'get', 'work', 'doesnt', 'feel', '', 'original', '', '', '', '', '', 'development', '', '', 'cop', '', 'feels', 'like', 'one', '', 'many', 'straighttovideo', 'movies', '', 'saw', 'back', '', '', '90s', '', '', 'even', '', 'good', 'one', '', '', 'standards']\n",
            "['', 'karen', 'carpenter', 'story', 'shows', '', 'little', '', '', 'singer', 'karen', 'carpenters', 'complex', 'life', 'though', '', 'fails', '', 'giving', 'accurate', 'facts', '', 'detailscynthia', 'gibb', 'portrays', 'karen', '', '', '', 'fine', 'election', '', '', '', 'good', 'actress', '', 'plays', '', '', 'naive', '', 'sort', '', 'dumb', 'karen', 'carpenter', '', 'think', '', '', 'role', 'needed', '', 'stronger', 'character', 'someone', '', '', 'stronger', 'personalitylouise', 'fletcher', 'role', '', 'agnes', 'carpenter', '', 'terrific', '', '', '', 'great', 'job', '', 'karens', 'motherit', '', 'great', 'songs', '', 'could', '', '', 'included', '', '', 'soundtrack', 'album', 'unfortunately', '', 'werent', 'though', '', 'movie', '', '', '', 'top', '', '', 'ratings', '', 'usa', '', '', 'several', 'countries']\n",
            "['', 'cell', '', '', 'exotic', 'masterpiece', '', 'dizzying', 'trip', '', '', '', '', 'vast', 'mind', '', '', 'serial', 'killer', '', 'also', '', 'one', '', '', '', 'talented', 'director', '', '', 'conclusive', 'evidence', '', '', '', '', 'achieved', '', 'human', 'beings', 'unleash', '', 'uninhibited', 'imaginations', '', '', 'boldness', '', 'work', 'pushing', 'aside', 'thoughts', '', 'fall', '', 'formulas', '', 'cliches', '', 'creating', 'something', 'truly', 'magnificent', '', '', '', 'best', 'movie', '', '', 'year', '', 'dateive', 'read', 'numerous', 'complaints', '', '', 'film', 'anywhere', '', '', 'style', '', '', 'substance', '', 'poorly', 'cast', 'characters', '', 'bad', 'acting', '', 'negatively', 'criticize', '', 'film', '', '', 'miss', '', 'point', '', 'movie', 'may', '', '', 'landmark', '', 'tradition', '', 'future', 'movies', '', 'hopefully', 'follow', '', 'cell', '', '', 'opened', '', 'door', '', 'another', 'world', '', 'imagination', '', '', '', 'slam', '', 'door', '', '', 'face', '', 'tell', '', '', '', 'director', 'tarsem', 'singh', '', '', 'dont', 'want', '', '', 'personally', '', 'would', '', '', 'welcome', 'another', 'movie', '', 'tarsem', '', 'would', 'love', '', 'see', 'someone', 'try', '', 'challenge', 'himweve', '', 'heard', 'talk', '', 'going', 'inside', '', 'mind', '', '', 'serial', 'killer', '', 'yes', '', '', 'agree', '', '', 'genre', '', '', 'bit', 'overworked', '', '90s', '', 'full', '', 'movies', 'trying', '', 'depict', '', 'makes', 'serial', 'killers', 'tick', '', '', '', 'worked', '', '', 'failed', '', '', 'cell', '', '', 'blaze', '', '', '', 'trail', '', '', 'given', '', 'new', 'twist', '', '', 'physically', 'transported', '', '', 'mind', '', 'presented', '', 'nothing', 'less', '', '', 'fascinating', 'journey', '', '', '', 'mysterious', 'subject', 'matter', 'ever', 'studiedi', 'like', '', '', 'movie', '', '', 'bog', 'us', '', '', '', 'much', 'scientific', 'jargon', 'trying', '', 'explain', '', 'jennifer', 'lopez', 'actually', 'gets', '', 'enter', '', 'brain', '', 'another', 'instead', '', '', 'lies', '', '', '', 'laboratory', 'table', '', '', 'wrapped', '', '', 'looks', 'like', 'really', 'long', 'twizzlers', '', 'jaunted', '', 'another', 'entity', '', 'cell', 'wants', '', 'let', '', 'see', '', '', '', '', '', '', '', '', '', '', '', '', 'guess', 'thats', '', '', 'people', 'dont', 'like', 'true', '', '', 'like', 'explanations', '', '', 'movies', '', '', '', 'movie', 'ventures', 'onto', 'new', 'ground', '', 'must', 'let', '', '', '', '', 'desires', '', 'simply', 'take', '', 'ini', 'noticed', '', '', 'film', '', '', 'dark', '', '', 'showed', 'reality', 'maybe', '', 'contrast', '', 'bright', 'visuals', '', 'inside', '', 'brain', '', 'another', 'nonetheless', '', 'set', 'design', '', 'simply', 'astonishing', '', 'wouldnt', '', 'surprised', '', '', 'film', 'took', 'home', '', '', 'oscars', '', 'cinematography', 'best', 'costumes', 'best', 'director', '', '', 'like', '', '', '', '', '', '', 'itd', '', 'least', 'get', 'nominated', '', 'best', 'pictureive', 'noticed', '', 'ive', 'kind', '', '', 'repeating', '', '', '', 'theres', 'nothing', 'else', '', 'say', '', '', '', 'cant', 'stress', 'enough', '', 'fantastic', '', 'thought', '', 'cell', '', '', '', 'walk', '', '', 'movie', '', '', '', 'open', 'mind', '', '', '', '', 'taken', '', '', 'wonders', '', '', 'eyepopping', 'feast', '', '', '', 'assured', '', 'good', 'time', '', 'guess', '', 'film', '', '', '', 'little', '', 'much', '', '', 'people', 'writing', '', '', '', 'weird', '', 'crazy', '', '', '', 'much', '', 'psychology', '', '', 'imagination', '', '', 'human', 'mind', '', '', '', 'right', '', '', 'alley', 'leaving', '', 'theater', '', 'heard', 'one', 'audience', 'member', 'say', 'whoever', 'made', '', 'movie', 'sure', '', '', 'lot', '', 'good', 'drugs', '', '', '', 'want', '', '', '', 'smoking', '', '', '4']\n",
            "['', 'film', 'tried', '', '', '', 'many', 'things', '', '', '', 'stinging', 'political', 'satire', 'hollywood', 'blockbuster', 'sappy', 'romantic', 'comedy', 'family', 'values', 'promo', '', 'list', 'goes', '', '', '', '', 'failed', 'miserably', '', '', '', '', '', '', '', 'enough', 'interest', '', 'keep', '', '', 'turning', '', '', '', '', 'endalthough', '', 'appreciate', '', 'spirit', 'behind', 'war', 'inc', '', 'depresses', '', '', 'see', '', '', 'clumsy', 'effort', 'especially', '', '', '', '', 'taken', '', '', 'targets', '', 'reflect', '', 'lack', '', '', 'existence', '', '', 'serious', 'critique', 'rather', '', 'simply', '', 'poor', 'writing', 'direction', '', 'production', '', '', 'particular', 'filmthere', '', '', 'critique', '', '', 'made', '', '', 'corporatization', '', 'war', '', 'poking', 'fun', '', '', '', '', 'way', 'diminishes', '', 'true', 'atrocity', '', '', '', 'happening', 'reminds', '', '', 'bit', '', 'three', 'kings', '', 'similarly', 'trivializes', '', 'genuine', 'cause', '', 'concern']\n",
            "['', 'movie', '', '', 'frustrating', 'everything', 'seemed', 'energetic', '', '', '', 'totally', 'prepared', '', '', '', 'good', 'time', '', '', 'least', 'thought', 'id', '', 'able', '', 'stand', '', '', '', '', 'wrong', 'first', '', 'weird', 'looping', '', '', 'like', 'watching', 'americas', 'funniest', 'home', 'videos', '', 'damn', 'parents', '', 'hated', '', '', 'much', '', 'stereotypical', 'latino', 'family', '', 'need', '', 'speak', '', '', 'person', 'responsible', '', '', '', 'need', '', '', '', 'talk', '', 'little', 'girl', '', '', 'always', 'hanging', '', 'someone', '', '', 'hated', '', '', '', '', 'mention', '', '', '', 'final', 'scene', 'transcends', '', 'must', 'say', '', '', 'gloriously', 'bad', '', 'full', '', 'badness', '', '', '', '', 'movie', '', '', '', '', 'crappy', 'dancing', 'horrible', '', 'beautiful', '', '']\n",
            "['war', 'movie', '', '', 'hollywood', 'genre', '', '', '', 'done', '', 'redone', '', 'many', 'times', '', 'clichéd', 'dialogue', 'rehashed', 'plot', '', 'overthetop', 'action', 'sequences', 'seem', 'unavoidable', '', '', 'conflict', 'dealing', '', 'largescale', 'combat', '', '', '', '', 'however', '', 'war', 'movie', 'comes', 'along', '', 'goes', '', '', 'grain', '', 'brings', '', 'truly', 'original', '', 'compelling', 'story', '', 'life', '', '', 'silver', 'screen', '', 'civil', 'warera', 'cold', 'mountain', 'starring', 'jude', 'law', 'nicole', 'kidman', '', 'renée', 'zellweger', '', '', '', 'filmthen', '', 'calling', 'cold', 'mountain', '', 'war', 'movie', '', '', 'entirely', 'accurate', 'true', 'enough', '', 'film', 'opens', '', '', 'quite', 'literally', 'quickanddirty', 'battle', 'sequence', '', 'puts', 'glory', 'director', 'edward', 'zwick', 'shame', 'however', 'cold', 'mountain', '', '', '', 'much', '', '', 'civil', 'war', '', '', '', '', '', '', 'period', '', '', 'people', '', '', 'times', '', 'story', 'centers', 'around', 'disgruntled', 'confederate', 'soldier', 'inman', 'played', '', 'jude', 'law', '', 'becomes', 'disgusted', '', '', 'gruesome', 'war', '', 'homesick', '', '', 'beautiful', 'hamlet', '', 'cold', 'mountain', 'north', 'carolina', '', '', 'equally', 'beautiful', 'southern', 'belle', '', 'left', 'behind', 'ada', 'monroe', 'played', '', 'nicole', 'kidman', '', 'first', 'glance', '', 'setup', 'appears', 'formulaic', '', '', 'romantic', 'interest', 'back', 'home', 'gives', '', 'audience', 'enough', 'sympathy', '', 'root', '', '', 'reluctant', 'soldiers', 'tribulations', '', '', 'battlefield', 'indeed', '', 'earlier', 'segments', '', '', 'film', '', 'relatively', 'unimpressive', '', 'even', 'somewhat', 'contrivedcold', 'mountain', 'soon', 'takes', '', 'drastic', 'turn', 'though', '', '', 'intrepid', 'hero', 'inman', 'turns', '', '', '', '', 'deserter', 'incidentally', 'saving', '', 'audience', '', '', 'potentially', 'confusing', 'scenario', '', 'wanting', '', 'root', '', '', 'confederates', '', 'begins', '', 'long', 'odyssey', 'homeward', 'meanwhile', 'back', '', '', 'farm', 'adas', 'cultured', 'ways', 'prove', '', 'little', 'use', '', '', 'fields', 'soon', '', '', 'transformed', '', 'something', '', '', 'wilderbeast', 'coming', '', 'adas', 'rescue', '', '', 'course', 'toughasnails', 'ruby', 'thewes', 'played', '', 'renée', 'zellweger', '', 'helps', 'ada', 'put', '', 'farm', 'back', 'together', '', 'perhaps', '', 'importantly', 'cope', '', '', 'loneliness', '', 'isolation', '', 'war', 'seems', '', '', 'brought', 'upon', 'adawithin', '', 'two', 'settings', '', 'vivid', 'compelling', '', '', 'times', '', 'disturbing', 'portrait', '', '', 'wartorn', 'south', 'unfolds', '', 'characters', '', '', 'inman', '', 'ada', 'interact', '', 'surprisingly', 'complex', 'enhanced', '', 'wonderful', 'performances', '', 'brendan', 'gleeson', '', 'rubys', 'deadbeat', 'father', 'ray', 'winstone', '', '', 'unrepentant', 'southern', 'lawman', '', 'natalie', 'portman', '', '', 'deeply', 'troubled', '', 'isolated', 'young', 'mother', '', '', '', 'greatly', 'affected', '', 'changed', '', '', 'war', '', 'northern', 'aggression', 'mostly', '', '', 'worse', '', 'dark', 'pervading', 'antiwar', 'message', 'accented', '', '', 'effective', 'haunting', 'score', '', 'chillingly', 'beautiful', 'shots', '', 'virginia', '', 'north', 'carolina', '', 'communicated', '', '', 'audience', '', '', 'much', '', 'gruesome', 'battle', 'scenes', '', '', '', 'scarred', 'land', '', 'traumatized', 'people', '', '', '', 'war', '', 'fought', 'though', '', 'weapons', '', 'tactics', '', 'war', '', '', 'changed', 'much', '', '', 'past', 'century', '', 'hellish', 'effect', '', '', 'land', '', 'timelessly', 'relevantdirector', 'anthony', 'minghella', 'manages', '', 'maintain', '', 'gloomy', 'mood', '', '', '', '', 'film', '', '', 'atmosphere', '', 'unfortunately', 'denigrated', '', '', 'rather', 'tepid', 'climax', '', '', 'little', 'justice', '', '', 'wonderfully', 'formed', 'characters', '', 'love', 'story', '', 'inman', '', 'ada', '', 'awkwardly', 'tacked', 'onto', '', 'beginning', '', 'end', '', '', 'film', 'though', '', 'inherently', 'distant', 'abstracted', '', 'even', 'absurd', 'nature', '', '', 'relationship', '', '', 'way', 'fits', '', 'dismal', 'nature', '', '', 'rest', '', '', 'plotmake', '', 'mistake', 'cold', 'mountain', '', 'neither', '', 'traits', '', '', 'feelgood', 'romance', '', '', 'inspiring', 'war', 'drama', '', '', '', 'unique', 'vision', '', '', 'era', '', '', 'sure', '', '', '', 'entertain', '', 'also', '', 'truly', 'absorb', '', 'audience', '', '', 'lives', '', '', 'people', 'torn', 'apart', '', '', 'war', '', 'entirely', 'desperate', '', '', 'rid', '', '', 'terrible', 'repercussions', 'altogether']\n",
            "['taut', '', 'organically', 'gripping', 'edward', 'dmytryks', 'crossfire', '', '', 'distinctive', 'suspense', 'thriller', '', 'unlikely', 'message', 'movie', 'using', '', 'look', '', 'devices', '', '', 'noir', 'cyclebivouacked', '', 'washington', 'dc', '', 'company', '', 'soldiers', 'cope', '', '', 'restlessness', '', 'hanging', '', '', 'bars', 'three', '', '', 'end', '', '', '', 'strangers', 'apartment', '', 'robert', 'ryan', 'drunk', '', 'belligerent', 'beats', '', 'host', 'sam', 'levene', '', 'death', '', '', 'happens', '', '', 'jewish', 'police', 'detective', 'robert', 'young', 'investigates', '', '', 'help', '', 'robert', 'mitchum', 'whos', 'assigned', '', 'ryans', 'outfit', 'suspicion', 'falls', '', '', 'second', '', '', 'three', 'george', 'cooper', '', '', 'vanished', 'ryan', 'slays', '', 'third', 'buddy', 'steve', 'brodie', '', 'insure', '', 'silence', '', 'young', 'closes', 'inabetted', '', '', 'superior', 'script', '', 'john', 'paxton', 'dmytryk', 'draws', 'precise', 'performances', '', '', 'three', 'starring', 'bobs', 'ryan', 'naturally', '', '', 'prototypical', 'angry', 'white', 'male', '', '', '', 'hilt', '', 'mitchum', 'underplays', '', '', 'characteristic', 'alert', 'nonchalance', '', 'role', 'however', '', '', 'central', 'young', 'may', 'never', '', '', 'better', 'gloria', 'grahame', 'gives', '', 'first', 'fullyfledged', 'rendition', '', '', 'smartmouthed', 'vulnerable', 'tramp', '', '', '', 'sad', 'sack', 'whos', 'leeched', '', '', 'life', 'paul', 'kelly', 'haunts', 'us', '', '', 'small', 'peripheral', 'role', '', '', 'makes', 'memorablethe', 'politically', 'engaged', 'dmytryk', 'perhaps', 'inevitably', 'succumbs', '', 'sermonizing', '', '', 'pretty', 'much', 'confined', '', 'youngs', 'reminiscence', '', '', '', 'irish', 'grandfather', 'died', '', '', 'hands', '', 'bigots', '', 'century', 'earlier', 'thus', 'incidentally', 'stretching', 'chronology', '', '', 'limit', '', 'least', 'theres', '', 'attempt', '', 'render', '', 'explanation', 'however', 'glib', '', '', 'ryan', 'hates', 'jews', '', 'hillbillies', 'andcuriously', 'crossfire', 'survives', 'even', '', 'major', 'change', 'wrought', 'upon', '', '', 'novel', '', 'based', '', 'richard', 'brooks', '', 'brick', 'foxhole', 'dealt', '', '', 'gaybashing', 'murder', '', 'homosexuality', '', '1947', '', 'still', 'beyond', '', 'pale', 'news', '', '', 'holocaust', '', 'however', 'begun', '', 'emerge', '', '', 'ashes', '', 'europe', '', 'hollywood', 'felt', 'emboldened', '', 'register', '', 'protest', '', 'antisemitism', '', 'studios', 'always', 'quaked', '', '', 'prospect', '', 'offending', '', 'potential', 'ticket', 'buyerbut', '', '', 'change', '', 'homophobia', '', 'antisemitism', 'works', '', 'general', '', 'specifics', 'dont', 'fit', '', 'smoothly', '', 'victims', 'chatting', '', '', 'lonesome', 'drunk', 'young', 'soldier', '', 'inviting', '', 'back', 'home', 'looks', 'odd', 'even', 'though', '', 'especially', 'since', 'theres', '', 'girlfriend', '', 'tow', '', 'raises', '', 'question', 'whether', '', 'scenario', '', 'retained', 'inadvertently', '', 'left', '', '', '', 'discreet', 'tipoff', '', '', 'original', 'engine', 'generating', 'ryans', 'murderous', 'rage']\n",
            "['ardh', 'satya', '', 'one', '', '', 'finest', 'film', 'ever', 'made', '', 'indian', 'cinema', 'directed', '', '', 'great', 'director', 'govind', 'nihalani', '', 'one', '', '', '', 'successful', 'hard', 'hitting', 'parallel', 'cinema', '', 'also', 'turned', '', '', '', '', 'commercial', 'success', 'even', 'today', 'ardh', 'satya', '', '', 'inspiration', '', '', 'leading', 'directors', '', 'indiathe', 'film', 'tells', '', 'reallife', 'scenario', '', 'mumbai', 'police', '', '', '70s', 'unlike', '', 'police', '', '', 'cities', '', 'india', 'mumbai', 'police', 'encompasses', '', 'different', 'system', 'altogether', 'govind', 'nihalani', 'creates', '', '', 'practical', 'outlay', '', 'real', 'life', 'approach', '', 'mumbai', 'police', 'environmentamongst', 'various', 'police', 'officers', 'colleagues', '', 'film', 'describes', '', 'story', '', 'anand', 'velankar', '', 'young', 'hotblooded', 'cop', 'coming', '', '', 'poor', 'family', '', 'father', '', '', 'harsh', 'police', 'constable', 'anand', '', 'suffers', '', '', 'fathers', 'ideologies', 'incidences', '', '', 'fathers', 'atrocities', '', '', 'mother', 'anands', 'approach', 'towards', 'immediate', 'action', '', 'crime', '', '', 'inert', 'craving', '', '', '', 'job', 'satisfaction', '', 'film', '', '', 'revolved', '', '', 'plot', 'wherein', 'anands', 'constant', 'efforts', '', 'crime', '', 'trampled', '', '', 'seniorsthis', 'leads', '', 'frustrations', '', '', 'cannot', 'achieve', '', 'desired', 'jobsatisfaction', 'resulting', '', '', 'frustrations', '', 'anger', '', 'expressed', '', 'excessive', 'violence', '', '', 'remand', 'rooms', 'bars', 'also', 'turning', '', '', '', 'alcoholicthe', 'spirit', 'within', '', '', 'still', 'alive', '', '', 'constantly', 'fights', '', 'system', '', '', 'aware', '', '', 'system', '', '', 'metro', '', '', 'police', 'politicians', '', '', 'inertly', 'associated', '', 'far', 'end', '', 'compromise', 'towards', 'unethical', 'practice', '', 'negative', 'finally', '', 'gets', 'suspendedthe', 'direction', '', '', 'master', 'piece', 'thoroughly', 'hard', 'core', 'one', '', '', 'best', 'memorable', 'scenes', '', '', 'anand', 'breaks', '', '', 'underworld', 'gangster', 'rama', 'shettys', 'house', '', 'arrest', '', 'followed', '', 'short', 'conversation', '', '', 'fantastic', '', 'many', 'scenes', '', 'film', '', 'hairraising', 'momentsthe', 'practical', 'approach', '', 'script', '', '', 'major', 'punch', 'alcoholism', 'corruption', 'political', 'influence', 'courage', 'deceptions', '', '', 'integral', 'part', '', 'mumbai', 'police', 'even', 'today', '', 'aspects', '', 'dealt', 'brilliantlyfinally', '', 'films', 'belongs', '', '', 'one', 'man', 'show', 'om', 'puri', 'portraying', 'anand', 'velankar', 'traversing', '', '', '', 'emotions', 'absolutely', 'brilliantly']\n",
            "['', 'first', 'exposure', '', '', 'templarios', '', '', 'good', 'one', '', '', 'excited', '', 'find', '', 'title', 'among', '', 'offerings', '', 'anchor', 'bay', 'video', '', '', 'brought', 'us', '', 'cult', 'classics', '', '', 'spider', 'baby', '', 'print', 'quality', '', 'excellent', '', '', 'alone', 'cant', 'hide', '', 'fact', '', '', 'film', '', 'deadly', 'dull', 'theres', '', 'thrilling', 'opening', 'sequence', '', '', '', 'villagers', 'exact', '', 'terrible', 'revenge', '', '', 'templars', 'set', '', 'whole', 'thing', '', 'motion', '', 'everything', 'else', '', '', 'movie', '', 'slow', 'ponderous', 'ultimately', 'unfulfilling', 'adding', 'insult', '', 'injury', '', 'movie', '', 'dubbed', '', 'subtitled', '', 'promised', '', '', 'video', 'jacket']\n",
            "['one', '', '', '', 'significant', 'quotes', '', '', 'entire', 'film', '', 'pronounced', 'halfway', '', '', '', 'protagonist', '', 'mafia', 'middleman', 'titta', 'di', 'girolamo', '', 'physically', 'nondescript', 'middleaged', 'man', 'originally', '', 'salerno', '', 'southern', 'italy', '', '', 'introduced', '', '', '', '', 'start', '', '', 'film', 'hes', '', 'living', '', 'nonlife', '', '', 'elegant', '', 'sterile', 'hotel', '', '', 'italianspeaking', 'canton', '', 'switzerland', '', '', 'last', 'ten', 'years', 'conducting', '', 'business', '', '', '', 'gradually', 'introduced', '', '', '', 'pivotal', 'yet', 'apparently', 'unremarkable', 'scene', 'takes', 'place', 'employees', '', '', '', 'swiss', 'bank', '', 'normally', 'count', 'di', 'girolamos', 'cash', 'tell', '', '', '10000', 'dollars', '', 'missing', '', '', 'usual', 'suitcase', 'full', '', 'tightly', 'stacked', 'banknotes', '', '', 'news', '', 'quietly', '', 'icily', 'threatens', '', 'coaxing', 'bank', 'manager', '', 'wanting', '', 'close', '', '', 'account', 'meanwhile', '', 'tells', 'us', '', 'spectators', '', '', '', 'bluff', '', '', '', 'bluff', 'right', '', '', '', 'end', 'without', 'fear', '', '', 'caught', '', '', 'appearing', 'ridiculous', '', 'says', '', 'cant', 'bluff', '', '', '', '', '', 'halfway', '', 'tell', '', 'truth', '', 'eventually', 'done', '', 'bluffed', '', 'halfway', '', '', 'told', '', 'truth', '', '', 'accepted', '', 'consequences', '', 'life', '', 'ultimately', 'love', '', 'exactly', '', 'reason', 'behind', '', 'beginning', '', 'titta', 'di', 'girolamos', 'troubles', '', 'initially', 'unsympathetic', 'character', '', 'scowling', 'taciturn', 'curt', 'man', '', '', 'verge', '', '50', '', 'man', '', 'wont', 'even', 'reply', '', 'kind', '', 'chambermaids', '', 'waitresses', '', 'say', 'hello', '', 'goodbye', 'becomes', '', 'one', 'point', 'someone', '', 'spectator', 'cares', 'deeply', '', '', 'one', 'point', '', '', 'nonlife', 'titta', 'decides', '', 'feel', 'concern', '', 'appearing', 'ridiculous', '', 'first', 'half', '', '', 'film', 'may', '', 'described', '', 'slow', '', '', '', '', 'indeed', 'reveal', 'di', 'girolamos', 'days', '', 'nights', '', '', 'hotel', '', '', 'oddly', 'disjoined', 'deliberate', 'pace', 'revealing', 'seemingly', 'mundane', '', 'irrelevant', 'details', 'however', 'scenes', '', 'may', '', 'seemed', 'unnecessary', 'reveal', '', '', 'essential', '', '', '', '', 'masterfully', 'constructed', '', 'innovative', 'film', 'unfolds', '', '', 'eyes', '', 'existence', '', 'titta', 'di', 'girolamo', '', 'man', '', '', 'imagination', 'identity', '', 'life', '', 'unsympathetic', 'character', '', 'unexpectedly', 'end', '', 'loving', '', 'feeling', '', '', '', 'least', 'thought', '', 'would', '', 'also', 'conveyed', '', 'elegantly', 'edited', 'sequences', '', '', 'interesting', 'use', '', 'music', 'one', 'theme', '', '', 'scottish', 'band', 'boards', '', 'canada', 'especially', 'stood', '', 'never', '', '', 'contrast', '', '', 'way', 'hollywood', '', 'italy', 'treat', 'mobsters', '', '', 'odds', '', 'since', '', 'release', '', 'films', '', '', 'le', 'conseguenze', 'dellamore', '', 'limbalsamatore', 'another', 'interesting', 'element', '', '', 'way', '', '', '', 'film', 'made', 'use', '', '', 'protagonists', 'insomnia', '', 'unlike', '', 'machinist', '', '', '', 'far', '', 'explicit', 'way', '', 'al', 'pacino', 'film', 'insomnia', 'le', 'conseguenze', 'dellamore', 'uses', '', 'condition', '', 'symbolise', '', 'deeper', 'emotional', 'malaise', 'thats', '', 'rammed', '', 'deep', '', '', 'obscurity', '', '', 'unconscious', '', 'almost', 'impossible', '', 'pinpoint', '', 'cause', '', 'indeed', '', '', 'one', '', 'young', '', 'sympathetic', 'hotel', 'waitress', 'sofia', 'played', '', 'olivia', 'magnani', 'granddaughter', '', '', 'legendary', 'anna', '', '', 'memory', '', 'tittas', 'best', 'friend', '', 'man', '', '', 'hasnt', 'seen', '', '20', 'years', 'unexpectedly', 'provide', '', 'tiny', 'window', 'onto', 'life', '', 'titta', 'eventually', 'though', 'tentatively', '', 'first', 'accepts', '', 'look', '', '', 'though', '', 'never', 'explicitly', 'spelt', '', '', 'spectator', 'knows', '', '', '', 'man', 'like', 'titta', 'accepting', '', 'consequences', '', 'love', '', '', 'unimaginable', 'consequences', '', 'film', 'without', '', 'single', 'scene', '', 'sex', '', 'violence', '', 'film', '', 'unfolds', '', '', '', 'time', '', 'concedes', 'nothing', '', '', 'spectators', 'expectations', 'le', 'conseguenze', 'dellamore', '', '', 'fine', 'representative', '', '', 'small', 'quiet', 'discreet', 'renaissance', '', '', '', 'taking', 'place', '', 'italian', 'cinema', 'since', '', 'decline', '', 'cinecittà', '', '', 'second', 'half', '', '', '70s', '', 'world', '', 'waiting', '', 'italy', '', 'produce', '', 'il', 'postinolike', 'fare', '', 'la', 'vita', 'è', 'bellastyle', 'films', 'neglecting', '', 'explore', 'fine', 'creations', 'like', 'le', 'conseguenze', 'dellamore', 'limbalsamatore', '', 'others', '', 'loss', 'world']\n",
            "['', 'watched', '', 'film', '', 'really', 'expecting', 'much', '', 'got', '', '', '', 'pack', '', '5', 'films', '', '', '', '', 'pretty', 'terrible', '', '', '', 'way', '', '', '', 'fiver', '', '', 'could', '', 'expect', '', '', 'know', '', '', '', 'right', '', '', '', 'terrible', '', 'movie', '', '', '', '', '', '', '', 'stretching', '', 'interesting', 'points', '', 'occasional', 'camcorder', 'view', '', '', 'nice', 'touch', '', 'drummer', '', '', 'like', '', 'drummer', 'ie', 'damned', 'annoying', '', 'well', 'thats', '', '', 'actually', '', 'problem', '', '', '', '', '', 'boring', '', '', '', '', '', 'assume', '', '', 'attempt', '', 'build', 'tension', '', 'whole', 'lot', '', 'nothing', 'happens', '', '', '', '', '', 'utterly', 'tedious', '', '', '', 'thumb', '', '', 'fast', 'forward', 'button', 'ready', '', 'press', '', '', '', '', 'movie', '', 'gave', '', '', 'go', '', 'seriously', '', '', 'lead', 'singer', '', '', 'band', '', 'great', 'looking', 'coz', '', 'dont', 'half', 'mention', '', 'beautiful', '', '', '', 'hell', '', '', 'lot', '', 'thought', '', 'looked', '', 'bit', 'like', '', 'meercat', '', '', '', '', 'havent', 'even', 'mentioned', '', 'killer', 'im', '', 'even', 'gonna', 'go', '', '', '', '', '', 'worth', 'explaining', 'anyway', '', 'far', '', 'im', 'concerned', 'star', '', 'london', '', '', '', '', '', 'reason', '', 'watch', '', '', '', '', 'exception', '', 'london', '', '', 'actually', 'quite', 'funny', '', 'wasnt', '', '', '', 'acting', 'talent', 'ive', 'certainly', 'seen', '', 'lot', 'worse', '', 'ive', 'also', 'seen', '', 'lot', 'better', 'best', 'avoid', 'unless', '', 'bored', '', 'watching', 'paint', 'dry']\n",
            "['', 'bought', '', 'film', '', 'blockbuster', '', '300', '', '', 'sounded', 'interesting', '', 'bit', 'ranmaesque', '', '', 'idea', '', 'someone', 'dragging', 'around', '', 'skeleton', '', '', '', '', 'cute', 'girl', '', '', 'miniskirt', '', '', 'back', '', '', '', '', '', 'restricted', 'viewing', 'sticker', '', '', '', 'thought', '', '', 'going', '', '', '', 'sweet', '', '', 'least', 'sincere', 'coming', '', 'age', 'story', '', '', 'weird', 'indie', 'edge', '', '', '100', 'wronghaving', 'watched', '', '', '', '', 'wonder', '', '', 'got', '', 'restricted', 'sticker', 'since', '', '', 'hardly', '', 'foul', 'language', 'little', 'violence', '', '', 'closest', 'thing', '', 'nudity', 'honestly', '', 'dont', 'usually', 'go', 'around', 'hoping', '', '', '', '', '', 'girl', '', '', '', 'nightgown', '', '', 'see', '', 'panties', '', 'see', '', 'panties', '', 'lot', '', '', 'movie', '', '', 'matter', '', 'shes', 'wearing', '', 'miniskirt', '', '', 'sort', 'even', '', 'antireligious', 'humor', '', 'tame', '', 'lame', 'caricatured', 'insincere', 'derivative', 'unoriginal', '', 'worst', '', '', '', 'funny', '', '', 'slightestit', 'would', '', 'better', '', '', 'listen', '', 'ray', 'stevens', 'would', 'jesus', 'wear', '', 'rolex', '', '', 'television', 'show', '', 'would', 'barely', 'qualify', '', 'pg13', '', '', '', 'rated', '', 'blockbuster', 'refuses', '', 'let', 'anyone', '', '', 'age', '', '17', 'rent', 'thisas', '', '', '', 'pornographic', '', 'little', 'kid', 'could', 'go', '', '', '', 'rent', '', 'edited', 'version', '', 'requiem', '', '', 'dream', '', '', 'insist', '', 'zack', '', 'reba', '', 'worseit', '', '', '', '', '', 'wayin', '', 'way', '', 'worries', 'methe', '', 'thing', 'left', '', 'could', 'offend', 'people', '', '', 'idea', '', '', 'suicide', '', '', 'beginning', '', 'anybody', 'needs', '', 'see', 'movies', '', 'honestly', 'portrayed', 'suicides', '', '', 'one', '', 'better', 'ones', 'like', '', 'virgin', 'suicides', '', 'teenagers', '', '', '', '', 'movies', '', 'rated', 'r', 'purely', '', '', '', 'suicide', 'aspect', '', '', '', 'little', 'chance', '', 'turning', '', 'story', 'ive', '', 'writing', '', '', 'pg13', 'movie', '', 'main', 'characters', '', 'eleven', '', '', 'half', '', 'twelve', 'suicide', '', 'one', '', '', 'top', 'three', 'leading', 'causes', '', 'death', '', 'teenagers', '', 'think', '', 'number', '2', '', 'chances', '', '', '', 'teens', '', '', '', '', '', 'affected', '', 'itjust', 'say', '', '', '', 'movie', 'though', '210']\n",
            "['', 'plot', '', '', '', 'death', '', 'little', 'children', 'hopper', '', '', 'one', '', '', '', 'investigate', '', 'killings', '', '', 'movie', '', 'appears', '', '', '', '', 'troubles', '', '', 'daughter', '', '', 'end', '', 'serial', 'killer', 'get', 'caught', 'thats', '', '', '', '', 'find', '', '', 'dunnit', '', '', '', 'see', '', 'terrible', 'acting', '', '', '', '', 'actors', '', '', 'unbelievable', '', 'bad', '', 'actors', '', 'including', 'hopper', '', 'could', 'go', '', 'like', '', '', '', '', 'much', '', '', 'waste', '', '', 'time', '', 'dont', 'watch', '', 'movie', 'ive', 'warned', '']\n",
            "['ever', 'watched', '', 'movie', '', 'lost', '', 'plot', 'well', '', 'didnt', 'even', 'really', '', 'one', '', 'begin', 'withwhere', '', 'begin', '', 'achingly', 'tedious', 'scenes', '', '', 'heroine', 'sitting', 'around', '', 'house', '', 'actually', '', 'sense', '', 'menace', '', 'even', 'foreboding', 'created', 'even', '', '', 'apparently', 'constant', 'thunderstorms', '', '', 'strangely', 'never', 'actually', 'heard', '', '', 'housegreat', 'double', 'glazing', '', 'house', '', '', 'apparently', '', '', '', 'miles', '', '', 'town', 'yet', '', 'several', 'hours', 'walk', 'away', '', '', 'third', 'girl', '', 'serves', '', 'purpose', '', '', 'plot', 'except', '', 'provide', '', 'surprisingly', 'quick', 'gory', 'murder', '', '', '', 'tedium', 'becomes', 'unbearable', '', 'even', '', 'beginning', '', 'suggests', '', 'spate', '', '20', 'killings', 'throughout', '', 'area', 'even', 'though', '', '', 'apparent', '', 'killer', 'never', 'ventures', 'far', '', '', 'house', '', '', 'bizarre', 'ritual', '', '', 'salt', 'pepper', '', 'pretty', 'much', 'sums', '', '', '', '', 'films', 'inherent', 'lack', '', 'directionadd', '', 'lead', 'actress', '', 'cant', 'act', '', '', 'least', '', 'willing', '', '', '', 'completely', 'irrelevant', 'nude', 'shower', 'scenes', '', '', 'video', '', 'truly', 'nasty', '', '', '', '', 'way', '', 'hopegiven', '', 'following', 'simply', '', '', 'banned', '', '', 'uk', '', '', '80s', 'mostly', '', '', '', 'final', 'surprisingly', '', 'extended', 'murder', '', 'offers', 'nothing', '', 'curiosity', 'value', '', 'one', 'classic', 'daft', 'murder', 'dont', 'worryits', 'telegraphed', '', 'least', 'ten', 'minutes', 'beforeafter', '', 'walk', '', '', 'woods', '', 'victim', 'comes', '', '', 'rather', 'steep', 'upward', 'slope', '', '', 'obviously', 'struggle', '', 'halfway', '', '', 'see', '', 'figure', '', '', 'top', 'dressed', '', 'black', '', 'brandishing', '', 'large', 'scythe', '', '', '', '', 'slide', '', '', 'run', 'like', '', 'rest', '', 'us', '', '', 'course', '', '', 'struggle', '', '', 'top', '', 'stand', 'conveniently', 'nice', '', 'upright', '', 'front', '', '', 'murder', 'weaponit', 'really', '', '', '', 'movie', '', '', 'say']\n",
            "['okay', '', '', 'series', 'kind', '', 'takes', '', 'route', '', '', '', 'go', '', 'week', '', 'week', '', 'david', 'morses', 'character', 'helps', '', '', 'ride', '', '', '', '', 'bit', '', '', 'pickle', '', 'whats', 'wrong', '', '', 'david', 'morse', '', 'one', '', '', 'greatest', 'character', 'actors', '', '', '', 'certainly', '', 'coolest', '', '', '', '', '', '', 'series', 'created', '', 'david', 'koepp', '', 'great', 'writer', '', 'heavendue', '', '', 'lack', '', 'love', '', '', 'show', '', 'many', '', 'cant', 'see', '', 'going', '', '', 'season', 'series', '', '', 'never', 'know', '', 'amount', '', 'rubbish', '', '', 'made', '', 'beyond', '', 'baffles', '', 'lets', 'hope', 'something', 'good', '', 'make', '', 'past', '', 'first', 'series']\n",
            "['', 'sitting', '', '', 'pile', '', 'dung', '', 'husband', '', '', 'wondered', 'whether', '', '', 'actually', '', 'product', '', '', 'experiment', '', 'see', 'whether', '', 'computer', 'program', 'could', 'produce', '', 'movie', '', '', '', 'listless', '', 'formulaic', '', '', 'us', 'propaganda', 'thrown', '', '', 'face', 'throughout', '', 'film', 'provesdisappointinglythat', '', '', 'work', '', 'humans', 'call', '', '', 'conspiracy', 'theorist', '', 'quotes', 'like', '', '', '', 'steal', '', 'declaration', '', 'independence', '', 'protect', '', 'seem', 'like', 'ways', '', 'justify', 'actions', 'like', '', 'invasion', '', 'iraq', 'etc', '', 'fact', '', 'nicholas', 'cage', 'spews', 'lines', 'like', '', 'would', 'never', 'use', '', 'declaration', '', 'independence', '', '', 'bargaining', 'chip', '', '', 'straight', 'face', 'made', '', '', '', 'husband', 'wonder', 'whether', '', 'entire', 'cast', 'took', 'valium', '', 'shooting', '', 'scene', '', 'reasoning', 'behind', '', 'plot', 'turn', '', 'new', 'clue', '', 'truly', 'ridiculous', '', 'impossible', '', 'follow', '', 'theres', 'also', '', 'bonus', 'side', 'plot', '', 'misogyny', '', 'dr', 'whateverhernamewas', '', 'chided', '', '', 'involved', '', 'never', 'shutting', '', 'shes', 'clearly', '', '', 'movie', '', '', 'looks', '', '', 'felt', '', 'need', '', 'slap', '', 'dr', 'title', '', '', 'character', '', 'give', '', '', 'gravity', '', 'one', 'point', 'cages', 'character', 'says', 'dont', '', 'ever', 'shut', '', '', '', 'camera', 'pans', '', '', 'looking', 'poutily', '', '', '', 'hands', 'like', 'shes', '', 'child', 'truly', 'grotesque', '', '', 'benefit', '', '', 'movie', '', '', '', '', 'astonishingly', 'bad', '', '', 'get', '', '', 'laughs', '', '', '', '', 'really', 'scary', 'thing', '', '', '', 'majority', '', '', 'people', 'watching', '', 'movie', '', 'us', 'seemed', '', 'enjoy', '', 'creepy']\n",
            "['', '', '', '', 'clichés', '', 'movies', '', '', 'type', '', '', 'substance', '', 'plot', 'went', 'nowhere', '', '', '', 'end', '', '', 'movie', '', 'felt', 'like', '', 'sucker', '', 'watching', '', '', 'production', '', 'good', 'however', '', 'script', '', 'acting', '', 'bmovie', 'quality', '', 'casting', '', 'poor', '', '', '', 'good', 'actors', 'mixed', '', '', 'crumby', 'actors', '', 'good', 'actors', 'didnt', 'hold', '', '', '', '', '', 'lift', '', '', 'others', '', 'movie', '', '', 'worthy', '', '', 'words', '', '', '', 'say', '', '', 'meet', '', 'minimum', 'requirement', '', 'ten', 'lines', 'james', 'wood', '', 'cuba', 'gooding', 'jr', 'play', 'caricatures', '', '', '', '', 'movies', '', '', '', 'looking', '', 'mindless', 'entertainment', '', 'still', 'wouldnt', 'recommend', '', 'movie']\n",
            "['', 'movie', '', 'based', '', '', 'book', '', 'many', 'splendored', 'thing', '', 'han', 'suyin', '', 'tackles', 'issues', '', 'race', 'relations', '', 'asians', '', 'whites', '', 'topic', '', 'comes', '', 'hans', 'personal', 'experiences', '', '', 'eurasian', 'growing', '', '', 'china', '', 'background', '', '', 'beautiful', 'hong', 'kong', 'settings', 'gives', '', 'love', 'story', '', 'unique', '', 'rather', 'daring', 'atmosphere', '', '', 'timeother', '', '', '', 'story', '', '', 'stereotypical', 'romance', '', '', 'memorable', 'song', '', '', 'perhaps', '', 'remembered', '', '', 'movie', '', '', 'beautiful', 'jennifer', 'jones', 'looks', '', 'part', '', 'gives', '', 'wonderful', 'oscar', 'nominated', 'performance', '', '', 'doctor', '', 'mixed', 'breed', '', '', 'advent', '', 'communism', '', 'mainland', 'china', 'william', 'holden', 'never', 'looked', 'better', 'playing', '', 'romantic', 'lead', '', '', 'journalist', 'covering', 'war', 'torn', 'regions', '', '', 'world', '', 'acting', '', 'top', 'notch', '', '', 'chemistry', '', '', 'two', 'lovers', 'provides', '', '', 'genuine', 'moments', '', 'silver', 'screen', 'affection', 'sure', '', 'melt', '', 'hearts', '', '', '', '', 'romantically', 'inclinedthe', 'cinematography', 'really', 'brings', '', 'fiftys', 'hong', 'kong', 'especially', '', 'hilltop', 'overlooking', '', 'harbor', '', '', 'two', 'lovers', 'spend', '', '', 'intimate', 'moments', '', 'ending', '', '', 'real', 'tearjerker', '', 'may', 'consider', 'sentimental', 'romances', 'passé', '', '', '', '', 'enjoy', 'classic', 'hollywood', 'love', 'stories', '', '', '', 'shining', 'example']\n",
            "['', '', '', 'films', '', '', 'seen', '', 'one', '', 'rage', '', 'got', '', '', 'one', '', '', 'worst', 'yet', '', 'direction', 'logic', 'continuity', 'changes', '', 'plotscript', '', 'dialog', 'made', '', 'cry', '', '', 'pain', '', 'could', 'anyone', 'come', '', '', 'something', '', 'crappy', 'gary', 'busey', '', 'know', '', '', 'b', 'movies', '', '', '', '', 'sure', 'w', 'movie', 'wwastetake', '', 'example', '', 'two', 'dozen', 'fbi', 'local', 'law', 'officers', 'surround', '', 'trailer', 'house', '', '', 'jeep', 'wagoneer', 'inside', '', 'jeep', '', '', '', '', 'confused', '', '', '', '', '', 'cops', '', '', 'within', 'seconds', '', 'huge', 'gun', 'battle', 'ensues', '', '', 'killed', 'straight', '', '', 'cops', 'blast', 'away', '', '', 'jeep', '', 'gary', '', 'company', 'blasting', 'away', '', '', '', 'cops', 'fall', 'like', 'dominoes', '', '', 'jeep', '', 'gary', 'drives', 'around', '', 'circles', '', '', '', 'hit', '', 'one', 'single', 'bulletpellet', '', '', 'killed', '', 'gary', 'seems', '', '', '', '', 'noticeddamn', '', 'guy', '', 'tough', 'truly', '', 'miracle', '', 'since', '', 'sixshooter', 'held', '300', 'bullets', '', '', '', '', '', 'miracle']\n",
            "['', '', 'heard', 'good', 'things', '', 'states', '', 'grace', '', 'came', '', '', '', 'open', 'mind', '', 'thought', '', 'gods', 'army', '', 'okay', '', '', 'thought', '', 'maybe', 'dutcher', '', 'improved', '', 'matured', '', '', 'filmmaker', '', 'film', 'began', '', '', 'shaky', 'acting', '', '', 'thought', 'well', 'maybe', '', '', 'get', 'better', 'unfortunately', '', 'never', '', '', 'picture', 'starts', '', '', 'introducing', 'two', 'elders', 'mormon', 'missionaries', '', '', 'seems', '', '', 'audience', '', 'get', '', 'know', '', '', 'grow', '', 'care', '', '', 'instead', '', 'story', 'degenerates', '', '', 'highly', 'improbable', 'series', '', 'unfortunate', 'events', 'highlighting', 'blatant', 'disobedience', '', '', 'missionaries', 'something', '', 'undeniably', 'exists', '', 'rarely', '', '', 'level', '', 'dutcher', 'portrays', '', '', 'becomes', 'almost', 'laughabledutchers', '', 'success', '', '', 'movie', '', '', 'successful', 'alienation', '', '', 'target', 'audience', '', 'unrealistically', '', 'inaccurately', 'portraying', '', 'lives', '', 'mormon', 'missionaries', 'dutcher', 'accomplishes', 'nothing', '', '', 'angering', '', 'predominantly', 'mormon', 'audience', '', 'film', '', '', 'way', 'reflects', 'reality', 'missions', '', 'nothing', 'like', '', 'dutcher', 'shows', '', 'served', '', 'mormon', 'mission', '', '', '', 'attest', '', '', 'fact', '', 'gang', 'life', '', 'california', 'certainly', 'contains', 'much', '', 'explicit', 'language', '', '', 'occasional', 'mild', 'vulgaritythe', 'conclusion', '', 'im', 'assuming', '', 'supposed', '', 'touch', '', 'audience', '', 'inspire', '', '', 'believe', '', 'forgiveness', '', 'available', '', '', '', '', 'unbelievable', 'cmon', '', 'entire', 'mission', 'gathers', '', 'see', '', 'elder', 'sent', 'home', '', '', 'mom', '', '', 'girl', '', 'standing', 'right', 'next', '', '', '', '', 'cheesy', 'next', 'time', 'dutcher', 'try', 'making', '', 'movie', '', 'someone', '', 'identify', '']\n",
            "['', 'movie', 'struck', 'home', '', '', '', '29', '', 'remember', '', '80s', '', '', 'father', 'working', '', '', 'factory', '', 'figured', '', '', 'worked', 'hard', '', '', '', '', 'pride', '', 'never', 'gave', '', '', '', 'could', '', '', 'american', 'dream', '', 'house', '', '', 'kids', '', 'car', '', '', 'call', '', '', 'ive', 'noted', 'however', 'without', '', 'degree', '', 'something', 'unlike', '', 'father', '', 'quit', '', 'ninth', 'grade', '', '', 'keen', 'sense', '', 'greed', '', 'laziness', '', 'cant', 'get', 'anywherei', 'would', 'like', '', 'know', '', 'anyone', '', '', 'movie', '', 'dvd', '', 'vhs', '', 'made', '', 'tv', '', '', '', 'saw', '', '', 'hour', 'ago', 'ic', 'ant', 'find', '', 'anywhere', 'id', 'love', '', 'show', '', '', '', 'friends', '', 'pseudo', 'friends', 'family', '', '', 'relatives', 'see', '', '', 'think', '', 'remind', '', '', '', 'upon', '', 'time', 'americans', 'would', 'work', '', '', 'sake', '', 'feeling', 'honor', '', '', '', '', 'pride', '', '', '', 'accomplished', '', 'think', '', 'feeling', '', 'still', '', '', '', '', 'heavy', 'downward', 'spiral', '', '', 'many', 'things', '', 'made', 'overseas']\n",
            "['', '', 'disclaimer', 'ive', 'seen', '', 'movie', '56', 'times', '', '', 'last', '15', 'years', '', '', '', '', 'saw', '', 'musical', '', 'week', '', 'allowed', '', '', 'judge', '', 'movie', 'without', '', 'tainted', '', '', '', '', 'wasnt', '', '', 'musical', 'however', '', 'tainted', '', '', '', 'watched', '', 'musical', '', 'actually', 'believe', 'michael', 'douglas', 'worked', 'quite', 'well', '', '', 'role', 'along', '', 'kasey', '', 'think', '', 'let', '', 'dance', '', '', 'scene', '', 'one', '', '', 'best', 'parts', '', '', 'movie', '', 'worthwhile', 'addition', 'compared', '', '', 'musical', '', 'dancers', '', 'singing', '', '', 'movie', '', 'much', 'superior', '', '', 'musical', '', 'well', '', '', 'cast', '', '', '', 'least', '10', 'times', 'bigger', 'easier', '', '', '', '', 'movie', '', 'course', '', 'decors', 'lighting', 'dancing', '', 'singing', '', 'also', 'much', 'superior', '', '', 'movie', '', '', '', 'expected', '', '', 'indeed', 'delivered', '', 'songs', '', '', '', 'common', '', '', 'musical', '', 'better', 'done', '', '', 'movie', '', 'new', 'ones', '', 'quite', 'good', 'ones', '', '', 'whole', 'movie', '', 'delivers', '', '', '', 'musical', '', '', 'opinion', 'especially', 'compared', '', '', 'musical', '', '', '', 'decors', '', 'one', 'bad', 'point', '', '', 'movie', '', '', 'obvious', 'cuts', '', '', 'actors', 'talking', '', 'dubbed', 'singers', '', '', 'singing', 'portions', '', '', '', '', 'characters', '', '', 'dancing', '', 'impeccable', '', '', 'end', 'product', '', '', 'enjoyable', '', '', 'musical']\n",
            "['protocol', '', '', 'implausible', 'movie', 'whose', '', 'saving', 'grace', '', '', '', 'stars', 'goldie', 'hawn', 'along', '', '', 'good', 'cast', '', 'supporting', 'actors', '', 'story', 'revolves', 'around', '', 'ditzy', 'cocktail', 'waitress', '', 'becomes', 'famous', '', 'inadvertently', 'saving', '', 'life', '', '', 'arab', 'dignitary', '', 'story', 'goes', 'downhill', 'halfway', '', '', 'movie', '', 'goldies', 'charm', '', 'doesnt', 'save', '', 'movie', 'unless', '', '', '', 'goldie', 'hawn', 'fan', 'dont', 'go', '', '', '', 'way', '', 'see', '', 'film']\n",
            "['', '', 'film', 'could', '', 'classified', '', 'drama', '', '', '', 'idea', '', '', '', 'john', 'voight', '', 'mary', 'steenburgen', '', 'would', '', 'trying', '', 'erase', '', '', '', 'cv', '', '', '', 'historically', 'accurate', '', 'xena', '', 'hercules', 'abraham', '', 'moses', 'got', 'melded', '', 'noah', 'lot', 'abrahams', 'nephew', 'lot', 'turns', '', 'thousands', '', 'years', '', '', 'would', '', '', 'born', 'canaanites', 'wandered', '', 'earthreally', '', '', '', 'scriptwriters', 'thinking', '', '', '', 'ignorance', '', 'remember', 'something', '', 'noah', '', 'animals', '', 'lot', '', 'canaanites', '', '', '', 'stuff', '', 'sunday', 'school', '', '', '', 'trying', '', 'offend', '', 'maximum', 'number', '', 'people', '', '', 'planet', '', 'possible', '', 'christians', 'jews', '', 'muslims', '', 'historians', 'archaeologists', 'geologists', 'psychologists', 'linguists', '', '', 'matter', '', 'fact', '', 'anyone', '', 'get', 'offended', 'anyone', '', '', 'even', '', 'modicum', '', 'taste', 'would', '', 'winced', '', '', 'one']\n",
            "['preston', 'sturgis', '', 'power', '', '', 'glory', '', 'unseen', '', '', 'public', '', 'nearly', 'twenty', '', 'thirty', 'years', '', '', 'late', '1990s', '', '', 'resurfaced', '', 'even', 'showed', '', '', 'television', '', '', 'meantime', '', '', 'gained', '', 'notoriety', '', 'pauline', 'kaels', '', 'citizen', 'kane', 'book', '', 'suggested', '', '', 'herman', 'mankiewicz', 'orson', 'welles', 'screenplay', '', 'kane', '', 'based', '', 'sturgis', 'screenplay', '', '', '', 'mentioned', '', '', 'beginning', '', '', 'thread', '', '', 'film', '', '', 'imdb', 'web', 'site', 'kael', 'overstated', '', 'casethere', '', '', 'six', 'narrators', '', 'take', 'turns', 'dealing', '', '', 'life', '', 'charles', 'foster', 'kane', '', 'newsreel', 'representing', 'ralston', '', 'henry', 'luce', 'clone', 'thatchers', 'memoirs', 'bernstein', 'jed', 'leland', 'susan', 'alexander', 'kane', '', 'raymond', '', 'butler', '', '', '', '', '', 'different', 'slant', '', 'kane', 'reflecting', '', 'faith', '', 'disappointment', '', 'hatred', '', '', 'man', '', '', 'course', '', 'also', 'reveals', '', '', '', '', 'failings', '', '', '', 'telling', '', 'version', '', 'kanes', 'story', '', 'method', 'also', 'leads', '', 'frequent', 'overlapping', 'retellings', '', '', '', 'incidentthis', '', '', '', 'situation', '', '', 'power', '', '', 'glory', 'yes', 'like', 'kane', '', '', '', '', 'legendary', 'business', 'leader', '', '', '', 'tom', 'garner', 'spencer', 'tracy', '', 'man', '', 'rose', '', '', 'bottom', '', '', 'head', '', '', '', 'successful', 'railroad', 'system', '', '', 'country', '', '', '', '', 'two', 'narrators', '', '', 'garners', 'right', 'hand', 'man', 'henry', 'ralph', 'morgan', '', '', 'wife', 'sarah', 'padden', '', 'restricts', '', 'nearly', 'three', 'dimensional', 'view', '', 'get', '', 'times', '', 'kane', '', 'garner', 'henry', '', '', 'narrates', '', 'talking', '', '', 'boss', '', 'friend', '', '', 'respected', '', 'loved', '', 'wife', '', 'like', '', 'voice', '', '', 'skeptical', 'public', '', 'sees', '', '', 'flaws', '', 'henrytypical', 'example', 'although', '', 'worked', '', 'way', '', 'tom', 'becomes', '', '', '', 'antilabor', '', '', 'later', 'years', 'unions', '', 'troublemakers', '', '', '', '', 'care', '', '', 'slowed', '', '', '', 'shenanigans', 'henry', 'describes', 'toms', 'confrontation', '', '', 'union', '', '', 'major', 'walkout', '', '', '', 'preoccupied', '', '', '', 'detriment', '', '', 'home', 'life', '', 'henrys', 'wife', 'reminds', '', '', 'tom', 'used', 'scabs', '', 'violence', '', 'end', '', 'strike', 'apparently', 'blowing', '', '', 'unions', 'headquarters', 'killing', 'many', 'people', '', '', '', 'two', 'views', '', '', 'man', '', 'one', '', 'pure', 'white', '', 'one', '', 'pure', 'blackim', '', 'really', 'knocking', '', 'power', '', '', 'glory', '', '', 'duplicating', 'kanes', 'success', '', 'films', '', 'including', '', '', 'orson', 'welles', '', 'films', '', '', '', 'aware', '', '', 'story', '', 'presented', 'well', 'enough', '', 'hold', 'ones', 'interest', '', '', 'end', '', 'thanks', '', '', 'performances', '', 'tracy', '', 'colleen', 'moore', '', '', 'wife', 'sally', '', 'tragedy', '', '', 'worldly', 'success', '', '', 'pair', '', 'fully', 'brought', 'homewhen', '', 'marry', 'tom', 'wants', '', '', 'well', '', 'part', '', 'give', '', 'wife', '', '', 'family', '', 'benefits', '', 'never', '', '', '', 'america', 'great', 'business', 'success', 'comes', '', '', 'cost', 'tom', 'gets', 'deeply', 'involved', '', 'running', '', 'railroad', 'empire', '', 'expands', '', '', 'improves', '', 'constantly', '', '', 'takes', '', 'away', '', 'home', '', 'much', '', '', 'loses', 'touch', '', 'sally', '', '', 'also', 'notices', 'eve', 'helen', 'vinson', '', 'younger', 'woman', '', 'becomes', '', 'mistress', '', 'sally', 'learns', '', '', 'unfaithful', 'behavior', '', 'destroys', 'hersimilarly', 'tom', '', 'gets', '', 'full', 'shock', '', 'makes', '', '', 'martyr', '', '', 'eyes', '', 'henry', 'eve', 'marries', 'tom', '', 'presents', '', '', '', 'son', '', '', 'turns', '', '', '', 'eves', 'son', '', 'toms', 'son', 'tom', 'jr', 'philip', 'trent', '', 'discovery', '', '', 'incestuous', 'cuckolding', 'causes', 'tom', '', 'shoot', 'himselfthe', 'film', '', '', '', 'total', 'success', '', 'action', 'jumps', '', 'times', 'unconvincingly', 'yet', '', '', 'make', '', 'business', 'seem', 'real', 'note', '', 'scene', '', 'tom', 'tells', '', 'board', '', 'directors', '', '', 'plans', '', 'purchase', '', 'small', 'rival', 'train', 'line', '', '', 'discusses', '', 'use', '', 'debentures', '', 'financing', '', 'plans', 'sturgis', 'came', '', '', 'wealthy', 'background', '', '', 'could', 'bring', '', '', 'type', '', 'detail', '', '', '', 'whole', '', '', '', 'first', 'rate', 'film', '', 'citizen', 'kane', 'perhaps', '', '', 'interest', '', 'movie', 'lovers', '', '', 'attempt', '', 'business', 'realism', '', 'social', 'commentary', '', 'depression', 'america']\n",
            "['average', '', 'surprisingly', 'tame', 'fulci', 'giallo', '', 'means', '', 'still', 'quite', 'bad', '', 'normal', 'standards', '', 'redeemed', '', '', 'solid', 'buildup', '', '', 'nice', 'touches', '', '', '', 'neat', 'time', 'twist', '', '', 'issues', '', 'visions', '', 'clairvoyancethe', 'genres', 'wellknown', 'weaknesses', '', '', 'full', 'gear', 'banal', 'dialogue', 'wooden', 'acting', 'illogical', 'plot', 'points', '', '', 'finale', 'goes', '', 'much', '', 'long', '', '', 'denouement', 'proves', '', '', '', 'rather', 'lame', '', 'shall', '', 'say', 'limp', 'affairfulcis', 'ironic', 'handling', '', 'giallo', 'norms', '', 'amusing', 'though', 'yellow', 'clues', 'wherever', '', 'look3', '', '', '10', 'limping', 'killers']\n",
            "['return', '', '', '36th', 'chamber', '', 'one', '', '', 'classic', 'kungfu', 'movies', '', 'shaw', 'produces', 'back', '', '', '70s', '', '80s', 'whose', 'genre', '', 'equivalent', '', '', 'spaghetti', 'westerns', '', 'hollywood', '', '', 'protagonist', 'gordon', 'liu', '', 'counterpart', '', '', 'westerns', 'clint', 'eastwood', 'digitally', 'remastered', '', '', 'new', 'print', 'made', '', '', 'fantastic', 'film', 'fest', '', '', 'presented', '', 'shaw', 'scope', '', 'like', '', 'good', 'old', 'daysthis', 'film', '', '', 'simple', 'story', '', 'good', 'versus', 'evil', 'told', '', '3', 'acts', '', '', '', 'less', 'sums', '', '', 'narrative', '', 'martial', 'arts', 'films', '', '', 'eraact', 'one', 'sets', '', '', 'premise', 'workers', '', '', 'dyemill', '', '', 'small', 'village', '', 'unhappy', '', '', 'lot', '', '', 'wages', 'cut', '', '20', '', 'incoming', 'manchu', 'gangsters', '', 'cant', '', 'much', '', '', 'exploitation', '', 'none', '', '', '', 'martial', 'arts', 'skilled', '', 'take', '', '', 'gangsters', '', '', 'boss', '', 'first', '', '', '', 'minor', 'success', '', 'getting', 'liu', '', 'impersonate', '', 'highly', 'skilled', 'shaolin', 'monk', 'one', '', '', 'best', 'comedy', 'sequences', '', '', 'rouse', 'got', 'exposed', '', '', 'pushed', '', 'limit', '', 'credibility', '', 'impersonating', 'one', '', 'many', 'timesact', 'two', 'shows', '', 'protagonist', 'wanting', '', 'get', 'back', '', '', 'mob', 'however', 'without', 'real', 'martial', 'arts', '', 'embarks', '', '', 'journey', '', 'shaolin', 'temple', '', 'try', '', 'infiltrate', '', 'learn', 'martial', 'arts', '', '', 'sly', '', '', 'slapstick', 'moments', '', 'finally', 'gets', 'accepted', '', '', 'abbot', '', '', 'impersonated', '', '', 'disappointed', '', '', 'teaching', 'methods', 'kinda', 'like', 'mr', 'miyagis', 'style', '', 'karate', 'kid', '', 'instead', '', 'painting', 'fences', '', 'gets', '', 'erect', 'scaffoldings', '', 'around', '', 'temple', 'nothing', '', 'keep', '', 'good', 'man', '', '', '', 'unwittingly', 'builds', 'strength', 'endurance', '', 'learns', 'kungfu', '', 'unorthodox', 'wayact', 'three', '', '', '', 'fight', 'fest', 'begins', '', 'cheesy', 'sound', 'effects', '', 'obvious', 'noncontact', '', 'film', '', 'given', '', 'maximum', 'impact', 'treatment', '', '', '', 'rather', 'refreshing', 'watching', '', 'fight', 'scenes', '', '', '', 'wide', 'angled', 'shots', '', 'highlight', 'clarity', '', 'detail', '', '', 'sparring', 'partners', '', '', 'use', '', 'slowmotion', '', '', 'showcase', 'stunts', '', 'different', 'angles', '', 'may', 'find', '', 'speed', '', 'fights', '', 'tad', '', 'slow', '', '', 'pause', '', '', 'moves', '', '', 'yuen', 'wo', 'ping', '', '', 'style', '', 'used', 'adnausem', '', 'hollywood', 'flicks', '', 'sure', 'dont', 'make', 'fight', 'scenes', 'like', '', 'used', '', 'return', '', '', '36th', 'chamber', 'gets', '', 'repeat', 'screening', '', 'monday', '', '', 'youre', 'game', '', '', 'nostalgic', 'trip', '', 'memory', 'lane', '', '', '', 'waiting', '']\n",
            "['spoilers', '', '', '', 'real', 'life', '', 'well', '', '', '', 'movies', 'familiar', 'story', '', 'happens', '', 'many', 'young', 'men', '', '', 'put', '', '', 'war', 'zone', '', '', 'gun', '', 'rifle', '', '', 'hands', '', 'case', '', 'young', '', 'innocent', '', 'never', 'handling', '', 'firing', '', 'gun', 'jimmy', 'davis', 'franchot', 'tone', '', '', 'repeated', 'thousands', '', 'times', '', '', 'centuries', '', 'men', 'like', 'jimmy', 'davis', '', 'forced', '', 'take', '', 'arms', '', '', 'countryjimmy', '', '', 'first', 'wanted', '', '', 'kicked', '', '', '', 'us', 'army', '', '', 'encouraged', '', 'stay', '', '', 'belted', '', '', 'mouth', '', '', 'good', 'friend', 'fred', 'p', 'willis', 'spencer', 'tracy', 'ended', '', '', '', 'front', 'lines', '', 'france', '', 'jimmys', 'unit', 'pinned', '', '', '', 'german', 'machine', 'gun', 'nest', '', 'single', 'handedly', 'put', '', '', '', 'commission', 'picking', '', '', 'half', 'dozen', 'german', 'soldiers', '', '', 'safety', '', '', 'nearby', 'church', 'steeple', '', '', '', 'jimmy', 'gunned', '', '', 'last', 'surviving', 'german', '', 'raised', '', 'arms', '', 'surrender', '', '', 'artillery', 'shell', 'hit', '', 'steeple', 'seriously', 'wounding', 'himrecovering', '', '', 'wounds', '', '', 'army', 'hospital', 'jimmy', 'fell', '', 'love', '', 'us', 'army', 'volunteer', 'nurse', 'rose', 'duffy', 'gladys', 'george', 'rose', '', 'really', '', 'love', '', 'jimmys', 'good', 'friend', '', 'happy', 'go', 'lucky', 'fred', 'despite', '', 'obnoxious', 'antics', 'towards', '', '', '', 'fred', '', 'lost', '', '', 'fighting', '', '', 'western', 'front', '', 'rose', 'thinking', '', '', '', 'killed', 'fell', '', 'love', '', 'later', 'married', 'jimmy', '', 'fred', 'unexpectedly', 'showed', '', '', '', 'french', 'town', '', 'jimmy', '', 'fully', 'recovered', '', '', 'wounds', '', 'stationed', '', 'things', 'got', '', 'sticky', '', '', '', '', 'rose', '', '', 'already', 'accepted', 'jimmys', 'proposal', '', 'marriage', '', 'herwith', 'wwi', '', '', 'jimmy', 'marrying', 'rose', 'left', 'fred', 'whos', 'still', '', 'love', '', '', '', 'bitter', '', 'resentful', 'young', 'man', '', '', 'almost', '', 'accident', '', 'fred', 'ran', '', 'jimmy', '', '', 'streets', '', 'new', 'york', 'city', '', 'discovered', '', '', 'shock', '', 'surprise', '', '', 'completely', 'changed', '', '', 'meek', '', 'nonviolent', 'person', '', '', 'knew', '', '', '', 'sent', '', 'war', '', '', 'european', 'western', 'front', 'smug', '', 'sure', '', '', '', '', 'ability', '', 'shoot', '', 'gun', 'jimmy', '', 'become', '', 'top', 'mobster', '', 'new', 'york', 'citys', 'underworld', '', '', '', '', '', 'fred', 'later', 'found', '', '', 'wife', 'rose', '', '', 'idea', '', 'jimmy', '', 'really', 'involved', '', '', 'jimmy', 'telling', '', '', '', 'works', '', '', 'law', 'abiding', '', 'inoffensive', 'insurance', 'adjusterjimmys', 'life', '', 'crime', 'came', 'full', 'circle', '', 'rose', '', '', 'found', '', '', '', 'secret', 'life', 'ratted', '', '', '', '', 'police', '', 'prevent', '', '', 'executing', '', 'valentine', 'day', 'like', 'massacre', '', '', 'gang', 'members', 'dressed', '', 'cops', '', '', 'rival', 'mobsters', '', '', 'trial', 'jimmy', 'came', '', '', 'senses', '', 'admitted', '', 'guilt', 'willing', '', 'face', '', 'music', '', '', '', '', 'three', 'year', 'sentence', '', '', 'get', '', 'life', 'back', 'together', 'spoiler', 'alert', 'hearing', 'rumors', '', 'fellow', 'convicts', '', 'rose', '', '', 'best', 'friend', 'fred', '', '', '', 'affair', 'behind', '', 'back', 'jimmy', 'broke', '', '', 'prison', 'ending', '', '', 'fugitive', '', '', 'law', '', '', 'freds', 'circus', '', '', 'works', '', '', 'manger', '', 'barker', '', 'jimmy', '', 'seeing', '', 'rose', '', 'well', '', 'fred', '', 'true', '', '', '', '', 'like', '', '', 'trial', '', '', 'sudden', 'change', '', 'heart', '', '', 'thought', '', 'going', 'back', '', 'prison', '', '', 'least', 'another', 'ten', 'years', 'added', '', '', '', 'sentence', '', '', '', 'much', '', 'jimmy', '', '', '', '', 'jimmy', 'decided', '', 'end', '', '', '', 'letting', '', 'police', '', '', '', 'tracked', '', '', '', '', 'job', '', '', '', 'didnt', '', '', 'heart', '', '', '', '']\n",
            "['bela', 'lugosi', 'appeared', '', 'several', '', '', 'low', 'budget', 'chillers', '', 'monogram', 'studios', '', '', '1940s', '', '', 'corpse', 'vanishes', '', 'one', '', '', 'better', 'onesbela', 'plays', '', 'mad', 'scientist', '', 'kidnaps', 'young', 'brides', '', 'kills', '', '', '', 'extracts', 'fluid', '', '', 'bodies', '', '', '', 'keep', '', 'ageing', 'wife', 'looking', 'young', '', '', 'reporter', '', '', 'doctor', 'stay', '', 'night', '', '', 'home', '', 'discover', '', '', 'responsible', '', '', 'brides', 'deaths', '', 'following', 'morning', '', 'report', '', 'murders', '', '', 'police', '', '', 'mad', 'scientist', '', 'shot', '', 'drops', 'dead', 'shortly', 'afterwardsyou', '', 'got', 'almost', 'everything', '', '', 'movie', '', 'scientists', 'assistants', 'consist', '', '', 'old', 'hag', '', 'hunchback', '', 'dwarf', '', 'sons', '', 'thunderstorm', '', 'spooky', 'passages', '', 'belas', 'house', 'bela', '', '', 'wife', 'find', '', 'sleep', 'better', '', 'coffins', 'rather', '', 'beds', '', '', 'moviethe', 'corpse', 'vanishes', '', 'worth', '', 'look', 'especially', '', 'bela', 'lugosi', 'fans', 'great', 'funrating', '3', 'stars', '', '', '5']\n",
            "['', 'cannot', 'believe', '', 'enjoyed', '', '', 'much', '', '', '', '', 'anthology', 'stories', '', 'better', '', 'par', '', '', 'linking', 'story', '', '', 'surprise', 'ending', 'hooked', '', 'alot', '', 'familiar', 'faces', '', 'keep', '', 'asking', '', '', '', '', '', 'seen', '', '', 'forget', '', 'running', 'time', 'listed', '', 'new', 'lines', 'tape', '', 'aint', '', '103', 'minutes', 'according', '', '', 'vcr', 'timer', '', 'imdb', 'space', 'maggot', 'douses', '', 'campfire', '', '', '', 'special', 'way', '', 'hikes', '', '', '8']\n",
            "['', '33', 'percent', '', '', 'nations', 'nitwits', '', 'still', 'support', 'w', 'bush', 'would', '', 'well', '', 'see', '', 'movie', '', 'shows', '', 'aftermath', '', '', 'french', 'revolution', '', '', 'terror', '', '1794', '', 'strikingly', 'similar', '', '', 'post', '911', 'sociopolitical', 'landscape', 'maybe', '', '', 'could', 'stop', 'worrying', '', 'saving', 'face', '', 'take', '', 'awhupping', '', 'deserve', '', 'really', '', 'shame', '', '', '', 'politician', 'ruins', '', 'country', '', '', 'voted', '', '', 'cant', '', 'denied', '', 'right', '', 'ever', 'vote', '', 'theyve', 'clearly', 'shown', '', '', '', 'sense', '', 'characterwhat', 'really', 'stands', '', '', '', 'movie', '', '', 'ambiguity', '', '', 'character', '', 'hopelessly', 'doctrinaire', '', 'robespierre', '', 'haunted', 'empty', 'man', '', 'simplistic', 'reductive', 'ideology', 'cant', 'help', '', 'elucidate', '', 'boundaries', '', 'safety', '', 'totalitarianism', 'execution', '', 'murder', 'selfdefense', '', 'patriotism', '', 'legalistic', 'litmus', 'tests', 'aggravate', '', 'hopeless', 'situation', 'hes', 'helped', 'create', 'sound', 'like', '', 'belligerent', 'overprivileged', 'retarded', 'yale', 'cheerleaders', '', 'know', '', 'wojciech', 'pszoniak', 'blows', '', 'slovenly', 'deparidieu', '', '', 'screen', '', 'sympathetic', '', 'robespierres', 'plight', '', '', 'comforting', '', 'know', '', 'shortly', '', '', 'film', 'ends', 'hell', '', '', 'jaw', 'shot', '', '', '', 'sent', '', '', 'guillotine']\n",
            "['', 'someone', '', 'already', 'mentioned', '', '', 'board', '', '', 'difficult', '', 'make', '', 'fake', 'documentary', '', 'requires', 'tremendous', 'skill', 'pacing', 'patience', 'directorial', 'distance', '', 'plausible', 'premise', '', 'narrative', 'flow', '', 'really', 'believable', 'acting', 'aka', 'great', 'acting', '', '', '', '', 'case', '', 'love', 'machine', '', 'starts', '', 'show', '', 'faux', 'hand', '', '', '20minute', 'mark', '', '60', 'minutes', 'left', '', 'watch', '', '', 'viewer', 'starts', '', 'realize', '', '', '', '', '', '', 'taken', '', '', 'downhill', '', 'theredirector', 'gordon', 'eriksen', 'simply', 'peaked', '', 'soon', '', '', '', 'fair', '', 'eriksen', '', 'problems', 'started', 'early', '', '', 'explains', '', '', 'extras', '', 'began', 'wanting', '', '', '', 'real', 'doc', 'couldnt', 'get', 'funding', '', 'settled', '', '', 'cheaper', 'way', '', 'making', '', 'filmthe', 'premise', 'people', '', '', 'secret', 'lives', '', 'posting', '', '', '', 'porn', 'website', '', 'perhaps', '', 'interesting', '', '199798', '', '', 'film', '', 'made', 'eriksen', '', '', 'lot', '', 'tricky', 'stuff', '', 'pushy', 'host', 'handheld', 'cameras', 'zooms', 'grainy', 'blacks', '', 'whites', '', '', 'guess', '', 'elicit', '', 'sense', '', 'authenticity', '', '', '', 'doesnt', 'work', '', 'film', '', 'confusing', '', 'forced', '', '', 'ultimately', 'brings', '', '', '', '', 'believability', '', '', 'actors', '', '', 'pretty', 'awful', 'dialogue']\n",
            "['', 'hills', '', 'eyes', 'ii', '', '', '', 'would', 'expect', '', '', '', '', 'nothing', '', '', 'course', '', '', 'going', '', '', '', 'oscar', 'nominated', 'film', '', '', 'pure', 'entertainment', '', '', '', '', 'lose', '', '', '', '90', 'minutesthe', 'plot', '', 'basically', '', '', 'group', '', 'national', 'guard', 'trainees', '', 'find', '', 'battling', '', '', 'notorious', 'mutated', 'hillbillies', '', '', 'last', 'day', '', 'training', '', '', 'desert', '', '', '', 'fighting', 'back', 'throughout', '', 'whole', 'film', '', 'includes', '', 'lot', '', 'violence', '', '', 'basically', '', 'whole', 'film', '', 'blood', '', 'guts', '', 'constantly', 'flying', 'around', 'throughout', '', 'whole', 'thing', '', 'also', 'yet', 'another', 'graphic', 'rape', 'scene', '', '', 'pointlessly', 'thrown', '', '', 'shock', '', 'audienceid', 'give', '', 'hills', '', 'eyes', 'ii', '4', '', '', '10', '', 'pure', 'entertainment', '', '', '', 'although', 'even', '', '', 'found', '', 'looking', '', '', 'watch', '', '', '', '', '', 'film', 'went', '', '', '', 'began', '', 'drag', 'due', '', '', 'fact', '', 'continued', '', 'try', '', 'shock', '', 'audience', '', 'graphic', 'gore', '', '', 'occasional', 'jump', 'scene', '', '', 'make', 'sure', '', 'audience', 'stays', 'awake', '', 'hills', '', 'eyes', 'ii', '', '', 'decent', 'entertainment', 'something', '', 'pass', 'time', '', 'youre', 'bored', '', 'nothing', 'else410']\n",
            "['', 'laughed', '', '', 'way', '', '', 'rotten', 'movie', '', '', 'unbelievable', '', 'woman', 'leaves', '', 'husband', '', 'many', 'years', '', 'marriage', '', '', 'breakdown', '', 'front', '', '', 'real', 'estate', 'office', '', 'happens', '', 'office', 'manager', 'comes', 'outside', '', 'offers', '', '', 'job', 'hilarious', 'next', 'thing', '', 'know', '', 'two', 'women', '', 'going', '', '', 'yep', 'theyre', 'lesbians', 'nothing', 'rings', 'true', '', '', 'lifetime', '', 'women', '', 'nothing', 'better', '', '', 'movie', 'clunky', 'dialogue', 'like', '', 'dont', 'want', '', 'spend', '', 'rest', '', '', 'life', 'feeling', 'like', '', '', '', 'chance', '', '', 'happy', '', 'didnt', 'take', '', 'doesnt', 'help', 'theres', '', 'wealthy', 'distant', 'mother', '', 'disapproves', '', '', 'daughters', 'new', 'relationship', '', 'sassy', 'black', 'maid', 'unbelievable', '', '', '', 'year', '2003', '', 'film', 'gets', 'made', '', '', 'theres', '', 'sassy', 'black', 'maid', 'hattie', 'mcdaniel', 'must', '', 'turning', '', '', 'grave', '', 'woman', '', '', 'husband', '', 'freaks', '', '', 'wants', 'custody', '', '', 'snotty', 'teenage', 'kids', 'sheesh', '', 'cliche', '', 'left', 'unturned']\n",
            "['', 'spoilersafter', 'hitchcocks', 'successful', 'first', 'american', 'film', 'rebecca', 'based', 'upon', 'daphne', 'dumariers', 'lush', 'novel', '', 'gothic', 'romance', '', 'intrigue', '', 'returned', '', '', '', '', '', 'familiar', 'themes', '', '', 'early', 'british', 'period', 'mistaken', 'identity', '', 'espionage', '', '', 'us', 'settled', '', 'world', 'war', 'ii', '', '', 'large', 'scale', 'war', 'effort', '', 'civilians', 'building', 'planes', 'weaponry', '', '', 'necessary', 'militia', '', 'booming', 'film', 'entertainment', 'business', 'began', 'turning', '', 'paranoid', '', 'often', 'jingoistic', 'thrillers', '', 'war', 'time', 'themes', '', 'thrillers', 'often', 'involved', 'networks', '', 'deceptive', '', 'skilled', 'operators', '', 'work', '', '', 'shadows', 'among', '', 'good', 'law', 'abiding', 'citizens', 'knowing', '', 'director', '', '', 'home', '', '', 'espionage', 'genre', 'producer', 'jack', 'skirball', 'approached', 'hitchcock', '', 'directing', '', 'property', '', 'owned', '', 'dealt', '', 'corruption', 'wartime', 'sabotage', '', '', 'helpless', 'hero', 'thrust', '', '', 'vortex', '', 'coincidence', '', 'mistaken', 'identity', '', 'darker', 'elements', '', '', 'narrative', '', '', 'sharp', 'wit', '', 'literary', 'maven', 'dorothy', 'parker', '', '', 'brief', 'stint', '', 'hollywood', '', 'returning', '', '', 'bohemian', 'roots', '', 'nyc', '', 'coauthored', '', 'script', '', '', 'perfect', 'match', '', 'hitchcocks', 'sensibilitiesthis', 'often', 'neglected', 'film', 'tells', '', 'story', '', '', 'unfortunate', '25', 'year', 'old', 'barry', 'kane', 'robert', 'cummings', '', '', '', 'work', '', '', 'los', 'angeles', 'airplane', 'factory', 'meets', 'new', 'employee', 'frank', 'frye', 'norman', 'lloydd', '', 'moments', 'later', '', 'framed', '', 'committing', 'sabotage', 'fleeing', '', 'authorities', '', 'dont', 'believe', '', 'farfetched', 'story', '', 'meets', 'several', 'characters', '', '', 'way', '', 'soda', 'city', 'utah', '', 'finally', 'new', 'york', 'city', '', 'memorable', 'characters', 'include', '', 'circus', 'caravan', '', '', 'car', 'full', '', 'helpful', 'freaks', '', '', 'popular', 'billboard', 'model', 'patricia', 'martin', 'priscilla', 'lane', '', '', '', 'worst', 'crisis', '', '', 'life', '', 'well', '', 'national', 'security', '', 'falls', 'madly', '', 'love', '', '', 'course', '', '', 'land', '', 'hitchcock', 'patricia', 'kidnapped', '', '', 'supposed', 'saboteur', 'barry', 'falls', '', '', 'captor', 'thus', 'adding', 'romantic', 'tension', '', '', 'mixin', 'good', 'form', '', '', 'outing', 'hitchcock', 'brews', '', 'national', 'network', '', 'demure', 'old', 'ladies', 'average', 'joes', '', 'respectable', 'businessmen', '', 'double', '', 'secret', 'agent', 'terrorists', '', 'harbor', 'criminals', 'pull', 'guns', '', 'detonate', 'bombs', '', 'keep', 'things', 'moving', '', '', 'terrific', 'plot', '', 'takes', '', 'time', 'moving', 'forward', '', '', 'ignited', 'culminates', '', 'one', '', 'hitchcocks', '', 'memorable', 'finales', 'look', '', 'incredibly', 'life', 'like', 'nyc', 'tourist', 'attractions', '', '', '', '', 'recreated', '', 'art', 'directors', '', 'hollywood', 'due', '', '', 'wartime', 'shooting', 'ban', '', 'public', 'attractions', '', 'saboteur', 'may', '', '', 'one', '', 'hitchcocks', '', 'well', 'known', 'films', '', '', 'popular', 'bmovie', '', '', 'certainly', 'solid', '', 'engaging', '', 'plenty', '', 'clever', 'plot', 'twists', '', '', 'usual', 'terrific', 'hitchcock', 'villains', 'remember', '', 'look', '', 'hitchcocks', 'cameo', 'appearance', 'outside', '', 'drug', 'store', '', '', 'second', 'half', '', '', 'film', 'hitchcocks', 'original', 'cameo', 'idea', '', '', 'shot', '', 'fighting', '', 'sign', 'language', '', '', 'deaf', 'wife', '', 'axed', '', '', 'bureau', '', 'standards', '', 'practices', '', '', 'afraid', '', 'offending', '', 'deaf']\n",
            "['', '', 'watched', '', 'dresser', '', 'evening', '', '', 'seen', '', '', '', '', '', 'dozen', 'years', 'agoits', '', '', 'big', 'movie', '', 'doesnt', 'try', '', 'make', '', 'big', 'splash', '', '', 'god', '', 'brilliance', '', '', 'two', 'leads', 'leaves', '', '', '', 'speechless', 'albert', 'finney', '', 'tom', 'courtenay', '', 'nothing', 'less', '', 'amazing', '', '', 'moviethe', 'dresser', '', '', 'story', '', 'sir', '', 'aging', 'shakespearean', 'actor', 'finney', '', '', 'dresser', 'norman', 'courtenay', 'sort', '', '', 'valet', 'putting', '', '', 'production', '', 'king', 'lear', '', '', 'blitz', '', 'london', '', 'world', 'war', 'ii', '', '', 'two', 'men', '', 'dependent', 'upon', '', '', 'sir', '', 'almost', 'helpless', 'without', '', 'aid', '', 'norman', '', 'cajole', 'wheedle', '', 'bully', '', '', 'getting', 'onstage', '', '', '227th', 'performance', '', 'lear', '', 'norman', 'lives', '', 'life', 'vicariously', '', 'sir', 'without', 'sir', '', 'need', '', '', '', 'nothing', '', 'thinks', '', '', 'anywaythis', '', '', 'characterdriven', 'film', '', 'plot', '', 'secondary', '', '', 'interaction', '', '', 'characters', '', '', '', '', 'requires', 'actors', '', '', 'highest', 'caliber', '', 'bring', '', '', 'life', 'finney', '', '47', 'years', 'old', '', 'completely', 'believable', '', '', '', 'old', '', 'sick', 'petulant', 'bullying', '', 'brilliant', 'stage', 'actor', '', 'hisses', '', 'fumes', '', '', 'fellow', 'actors', 'even', '', 'theyre', 'taking', '', 'bows', '', 'courtenay', '', '', 'less', 'convincing', '', '', 'mincing', 'dresser', '', 'must', 'sometimes', 'act', '', '', '', 'mother', '', '', '', 'valet', '', '', 'elderly', 'employer', 'employer', '', 'really', '', 'wrong', 'term', '', 'use', 'though', '', 'although', 'technically', '', 'relationship', '', '', '', 'employer', '', 'employee', '', '', '', 'time', 'sir', '', 'norman', 'act', 'like', 'nothing', '', 'much', '', '', 'old', 'married', 'coupleyes', '', '', 'others', '', '', 'cast', '', '', 'movie', '', '', '', '', 'question', '', '', 'true', 'stars', '', 'finney', 'courtenay', '', '', 'marvelous', 'script', '', 'ronald', 'harwood', '', '', '', '', 'say', '', '', 'arent', '', 'fine', 'performances', '', 'notably', 'eileen', 'atkins', '', '', 'longsuffering', 'stage', 'manager', 'madge', '', '', '', 'wonderful', 'scene', '', 'sir', '', 'madge', 'talk', '', 'old', 'desires', 'old', 'regrets', '', '', 'might', '', 'beenalthough', '', 'doesnt', 'get', 'talked', '', '', 'days', '', '', 'worth', 'remembering', '', '', 'dresser', '', 'nominated', '', 'five', 'academy', 'awards', 'best', 'actor', 'nominations', '', '', 'finney', '', 'courtenay', 'best', 'picture', 'best', 'director', 'peter', 'yates', '', 'best', 'adapted', 'screenplayi', '', 'remembered', '', '', '', '', 'good', 'movie', '', '', 'wasnt', 'prepared', '', '', '', 'completely', 'mesmerized', '', '', '', '', 'beginning', '', 'end', '', '', 'want', '', 'see', '', 'example', '', '', 'great', 'acting', '', '', '', '', '', 'hugely', 'entertained', '', '', '', '', '', 'encourage', '', '', 'see', '', 'dresser']\n",
            "['', 'happened', '', '', '', '', '', 'basically', '', 'solid', '', 'plausible', 'premise', '', '', '', 'decent', '', 'talented', 'cast', '', 'somewhere', '', 'movie', 'loses', '', 'actually', '', 'never', 'really', 'got', 'going', '', '', '', 'little', 'excitement', '', '', 'find', '', '', 'angie', '', '', 'really', 'pregnant', '', 'find', '', '', '', '', '', '', '', '', '', '', 'steve', 'martin', '', '', '', '', 'talented', 'person', '', 'usually', 'brings', '', 'lot', '', '', 'movie', '', 'dreadful', '', '', 'entire', 'character', '', '', 'even', 'close', '', '', 'important', '', '', 'movie', '', '', '', 'make', '', 'longer', '', 'really', 'would', '', 'liked', '', 'see', '', 'interactions', '', '', 'main', 'characters', 'kate', '', 'angie', '', 'maybe', 'try', '', '', '', 'pure', 'comedy', '', 'unfortunately', '', '', '', '', 'maybe', '', 'drama', '', 'comedic', 'elements', '', 'think', '', '', 'movie', '', '', '', 'could', '', '', '', 'funny', 'since', '', 'actresses', '', 'quite', 'funny', '', '', '', 'ways', '', 'sitting', '', '', '', 'think', '', 'numerous', 'scenarios', '', 'would', '', '', '', 'riot']\n",
            "['ive', '', 'watched', 'fingersmith', '', 'im', 'stunned', '', 'see', '', '810', 'average', 'rating', '', '', 'shownot', '', '', '', 'plot', '', 'difficult', '', 'follow', '', '', 'seems', 'character', 'development', '', 'randomly', 'appliedthe', 'actors', '', 'adequate', '', '', '', 'process', '', 'attempting', '', 'create', 'twists', '', 'turns', '', 'characters', '', 'rendered', 'entirely', 'one', 'dimensional', '', '', 'happens', '', 'story', 'really', 'falls', 'flat', '', 'becomes', 'tediousand', '', '', 'case', 'anyone', 'didnt', 'see', '', 'predictable', 'lesbian', 'undertones', '', 'miles', 'way', '', '', 'hammered', 'home', '', '', '', 'banal', 'terms', '', '', 'end', '', '', 'filmthe', 'end', 'scene', '', 'disappointing', '', 'phoned', '', '', 'anyone', '', 'sat', 'back', '', 'went', 'ohhh', '', '', '', 'carpet', 'munchers', '', 'along', 'must', '', '', '', '', '', 'eveningtwo', 'stars', '', '', 'tonsil', 'hockey', '', '', 'earlier', 'scene', '', '', '', 'least', '', 'bit', 'raunchy', 'none', '', '', 'rest', '', '']\n",
            "['', 'lets', 'beginthe', 'movie', '', '', '', 'original', '', 'cronenbergs', 'movies', 'would', 'usually', 'appearmy', 'intention', '', 'see', '', '', 'certainly', 'jjl', '', 'one', '', '', 'favourite', 'actresses', '', '', '', 'lovely', '', 'usual', '', 'cutiei', 'would', '', 'say', '', '', '', 'favourite', 'movie', '', '', 'still', '', 'quite', 'interesting', '', 'entertaining', '', 'follow', '', 'rest', '', '', 'cast', '', '', 'extremely', 'impressive', '', '', '', '', '', 'kind', '', '', 'miscast', 'star', 'array', 'recommend', '', 'confidence']\n",
            "['besides', '', 'boring', '', 'scenes', '', 'oppressive', '', 'dark', '', 'movie', 'tried', '', 'portray', '', 'kind', '', 'moral', '', 'fell', 'flat', '', '', 'message', '', '', '', 'redeeming', 'qualities', '', 'top', '', '', '', 'dont', 'think', '', 'could', 'make', 'librarians', 'look', '', '', 'unglamorous', '', '', '']\n",
            "['', 'unmarried', 'woman', 'named', 'stella', 'bette', 'midler', 'gets', 'pregnant', '', '', 'wealthy', 'man', 'stephen', 'collins', '', 'offers', '', 'marry', '', '', '', '', 'sense', '', 'obligation', '', '', 'turns', '', '', 'flat', '', 'decides', '', 'raise', '', 'kid', '', '', '', 'things', 'go', 'ok', '', '', 'child', 'named', 'jenny', 'trini', 'alvarado', 'becomes', '', 'teenager', '', 'things', 'gradually', '', 'predictably', 'become', 'worseive', 'seen', '', '', 'silent', 'version', '', 'sound', 'version', '', 'stella', 'dallas', 'neither', 'one', 'affected', '', 'much', '', '', 'cry', 'easily', '', '', '', 'wellmade', '', 'dated', 'trying', '', 'remake', '', '', '1990', '', '', '', 'stupid', 'idea', '', 'guess', 'midler', '', 'enough', 'power', '', '', 'incomprehensible', 'success', '', 'beaches', '', 'get', '', 'made', '', 'predictably', 'bombed', '', 'story', '', 'laughable', '', 'dated', '', 'todays', 'standards', 'even', 'though', 'midler', '', 'alvarado', 'give', 'good', 'performances', '', 'film', 'really', 'drags', '', '', '', 'bored', 'silly', '', '', 'end', 'stephen', 'collins', '', 'marsha', 'mason', '', 'good', 'actors', 'dont', 'help', '', 'supporting', 'roles', 'flimsy', '', 'dull', 'reallywho', 'thought', '', 'would', 'work', 'see', '', '1937', 'stanwyck', 'version', 'instead', '', 'give', '', '', '1']\n",
            "['dont', 'torture', '', 'duckling', '', 'one', '', 'fulcis', 'earlier', '', 'honestly', '', 'terms', '', 'storyline', 'better', 'films', '', 'although', '', '', 'typical', 'bloodbath', '', 'fulci', '', 'known', '', '', '', 'still', '', '', 'unique', '', 'enjoyable', 'filmthe', 'story', 'surrounds', '', 'small', 'town', '', '', 'series', '', 'child', 'murders', '', 'occurring', '', '', '', 'colorful', 'characters', 'involved', '', '', 'investigations', 'either', '', 'suspects', '', '', 'helping', '', 'investigation', '', '', '', 'cases', '', 'include', '', 'towns', 'police', 'force', '', 'smalltime', 'reporter', '', 'beautiful', '', 'rich', 'exdrug', 'addict', '', 'young', 'priest', '', '', 'mother', '', 'old', 'man', '', 'practices', 'witchcraft', '', '', 'female', 'protégé', '', 'mentally', 'handicapped', 'townsman', '', '', 'deafmute', 'little', 'girl', '', '', '', 'people', '', 'interwoven', '', '', 'plot', '', 'create', 'several', 'twists', '', 'turns', '', '', 'actual', 'killer', '', 'revealeddont', 'torture', '', 'duckling', '', 'neither', '', 'classical', 'giallo', '', '', 'typical', 'fulci', 'gore', 'film', 'although', '', '', 'contain', 'elements', '', '', '', '', '', '', '', 'oldfashioned', 'murder', 'mystery', '', 'darker', 'subject', 'matter', '', '', '', 'scenes', '', 'graphic', 'violence', 'although', 'nothing', 'nearly', '', 'strong', '', '', '', 'fulcis', 'later', 'works', '', '', '', 'well', 'written', 'film', '', 'lots', '', 'twists', '', 'kept', '', 'guessing', '', '', '', 'end', 'recommended', '', 'giallomurdermystery', 'fans', '', 'anyone', 'looking', '', 'check', '', '', '', 'fulcis', 'nonsplatter', 'films', '', 'dont', 'despair', 'dont', 'torture', 'still', '', '', '', '', 'fair', 'share', '', 'violence', '', 'sleaze', '', 'may', '', 'put', '', '', '', 'subject', '', '', 'child', 'killings', '', 'one', 'main', 'female', 'character', '', '', 'strange', 'habit', '', 'hitting', '', '', 'young', 'boys', '', '', 'also', 'kind', '', 'disconcerting', '', '', '', 'type', '', 'material', 'doesnt', 'bother', '', '', 'definitely', 'give', '', 'one', '', 'look', '8510']\n",
            "['busty', 'beauty', 'stacie', 'randall', 'plays', 'pvc', 'clad', 'badass', 'bitch', 'alexandra', '', 'faithful', 'acolyte', '', 'faust', '', 'evil', 'entity', 'trapped', '', 'hell', 'determined', '', 'free', '', 'master', '', 'malevolent', 'minx', 'breaks', '', '', 'warehouse', '', 'steal', '', 'magical', 'gem', 'vital', '', '', 'success', '', 'whilst', 'conducting', '', 'satanic', 'ritual', '', 'summon', 'faust', '', 'silly', 'mare', 'accidentally', 'enters', '', 'pentagram', '', '', 'drawn', '', '', 'floor', '', 'results', '', '', 'loss', '', '', 'gem', '', '', 'release', '', 'two', 'diminutive', 'trolllike', 'creatures', 'called', 'lite', '', 'darknow', 'alexandra', 'must', 'find', '', 'replacement', 'gem', '', 'isnt', 'going', '', '', 'easy', '', '', '', 'stone', '', '', '', '', 'trick', '', 'worn', 'around', '', 'neck', '', '', 'exlover', 'police', 'detective', 'jonathan', 'graves', 'peter', 'liapis', '', '', 'investigating', '', 'warehouse', 'robbery', '', '', 'knows', '', '', 'well', '', 'evil', 'alexandra', '', 'capable', '', 'meanwhile', 'wisecracking', 'interdimensional', 'halfpints', 'lite', '', 'dark', 'get', '', '', 'sorts', '', 'zany', 'trouble', '', '', 'try', '', 'find', '', 'way', 'back', 'homein', '', 'warped', 'movie', 'world', '', 'jim', 'wynorski', '', 'females', '', 'bigbreasted', 'babes', '', '', 'fashion', 'sense', '', '', 'cheap', 'hooker', 'ghoulies', 'iv', '', '', 'exception', 'every', 'woman', '', '', 'film\\x97whether', '', '', '', 'police', 'captain', '', 'curator', '', 'antiquities', '', '', 'mental', 'patient', '', '', 'asylum\\x97is', 'hot', 'hot', 'hot', '', 'wears', '', '', 'lot', '', '', '', 'fact', '', 'makes', '', 'otherwise', 'totally', 'unwatchable', 'piece', '', 'stv', 'crap', '', '', 'bearablebut', '', 'warned', 'even', 'though', '', 'presence', '', 'seminaked', 'quality', 'crumpet', 'makes', '', 'going', 'slightly', 'easier', '', '', 'still', 'plenty', '', '', 'film', '', 'warrant', '', '', 'labelled', '', '', 'ordeal', '', 'acting', '', 'wooden', '', '', 'dialogue', '', 'painful', '', 'black', 'humour', '', '', 'dvd', 'blurb', 'describes', '', '', '', '', 'funny', '', '', 'knee', '', '', 'knackers', '', '', 'comedic', 'banter', '', 'lite', '', 'dark', '', 'particularly', 'cringeworthy', '', '', 'special', 'effects', '', 'bargain', 'basement', 'consisting', '', 'rubbery', 'creatures', '', 'visual', 'effects', '', 'would', '', 'looked', 'dated', 'ten', 'years', 'earlier310', 'solely', '', '', 'high', 'bimbo', 'quotient']\n",
            "['', 'really', 'like', 'salman', 'kahn', '', '', '', 'really', 'disappointed', '', '', 'seen', '', 'movie', '', 'didnt', '', 'much', '', '', 'plot', '', '', '', '', '', '', '', '', 'appealing', 'salman', 'however', '', 'look', 'good', '', '', 'movie', 'looked', 'young', '', 'refreshed', '', '', 'worth', '', 'price', '', '', 'dvd', '', 'music', '', '', 'bad', '', '', 'quite', 'nice', 'usually', 'indian', 'movies', '', '', 'least', 'two', '', 'three', 'hours', 'long', '', '', '', '', '', 'short', 'movie', '', '', 'indian', 'film', '', 'american', 'actress', '', 'played', '', '', 'movie', '', '', '', 'television', 'hit', 'series', 'heroes', 'ali', 'larter', '', 'acting', '', '', 'lot', '', '', 'desired', 'however', '', '', 'look', 'good', '', '', 'indian', 'dresses', '', '', 'wore', '', '', 'movie', '', '', '', 'lot', '', '', 'desired', '', '', 'hope', 'salman', '', '', 'lot', 'better', '', '', 'next', 'movie', 'thank', '']\n",
            "['im', '', 'sure', '', '', 'producers', 'needed', '', 'trade', '', '', 'name', '', '', 'somewhat', 'successful', 'movie', 'franchise', '', '', 'title', 'suggests', '', '', '', '', 'sequel', '', '', 'first', 'three', 'movieswhich', '', '', '', 'even', 'though', 'marques', 'houston', '', 'appear', '', 'hp3', '', 'played', '', 'totally', 'different', 'character', '', '', 'eight', 'years', 'older', '', '', 'film', 'okayso', 'reid', '', 'martin', 'werent', '', '', 'talented', '', 'couldnt', 'carry', '', 'film', '', '', 'themselvesbut', '', 'trade', '', '', 'hp', 'franchise', 'seems', '', '', '', '', 'could', '', 'made', '', 'sort', '', 'reference', 'albeit', 'minor', '', '', 'earlier', 'movies', 'im', 'sure', 'everyone', '', 'wanted', '', 'see', '', '', 'hoodwinkedinto', 'thinking', '', '', '', 'seeing', '', 'sequelnot', '', 'totally', 'different', 'film', '', '', 'familiar', 'name', '', 'im', 'sorrykym', 'whitley', '', '', 'funny', '', 'could', '', 'hold', '', 'candle', '', '', 'late', 'robin', 'harris', 'ketty', 'lester', '', 'dc', 'curry', '', '', 'earlier', 'films', 'although', 'meagen', 'good', '', 'mari', 'morrow', '', '', 'substantial', 'visual', 'diversioni', '', '', 'give', '', '', 'thumbs', '', '', 'naming', '', 'film', '', '', '', 'last', 'minute', 'would', '', '', 'ok', 'furthermore', '', 'hudlin', 'brothers', '', 'produced', '', 'first', 'three', 'movies', '', '', 'involved', '', '', 'making', '', '', 'film']\n",
            "['', 'film', 'laboured', 'along', '', '', '', '', '', 'predictable', 'story', 'lines', '', 'shallow', 'characters', 'ever', 'seen', '', 'writer', 'obviously', 'bought', '', 'playbook', '', '', 'write', '', 'space', 'disaster', 'movie', '', 'followed', '', 'play', '', 'play', '', 'particular', '', 'stereotypical', 'use', '', 'astronauts', 'talking', '', '', 'loved', 'ones', '', 'outer', 'space', 'putting', '', '', 'brave', 'show', '', '', 'face', '', 'disaster', '', '', 'done', 'time', '', 'time', 'againmax', 'q', 'appears', '', '', '', 'written', '', '', 'hope', '', '', 'producers', 'would', 'throw', '50', 'million', '', '', 'project', '', 'judging', '', '', 'latter', 'half', '', '', 'film', '', 'contained', 'numerous', 'lame', 'attempts', '', 'special', 'effects', '', 'producers', 'could', '', 'muster', '50', 'thousand', '', 'learn', '', '', 'film', '', 'nominated', '', '', 'special', 'visual', 'effects', 'emmy', '', '', 'absolutely', 'gobsmackedi', 'think', '', 'handful', '', 'high', 'school', 'students', '', '', 'pass', '', 'media', 'studies', 'could', '', 'created', '', 'believable', 'effectsand', '', 'plot', 'holes', '', '', 'numerous', '', 'mention', '', '', '', 'pick', 'one', '', '', '', 'example', '', 'im', '', 'nasa', 'expert', '', 'surely', '', 'highly', 'implausible', '', '', 'worker', 'attached', '', '', 'shuttle', 'simulator', 'would', 'suddenly', 'hold', '', 'position', '', 'power', '', '', 'control', 'room', '', 'things', 'start', '', 'go', 'pearshaped', '', '', 'program', 'surely', '', '', 'someone', '', 'experienced', '', 'mission', 'control', '', '', 'program', 'director', 'would', 'call', '', 'rather', '', '', 'twentynine', 'year', 'old', '', '', '', '', '', '', 'control', 'room', 'beforethe', '', 'saving', 'grace', '', '', 'film', '', '', 'work', '', 'bill', 'campbell', '', 'manages', '', 'make', '', 'good', 'attempt', '', 'salvaging', 'something', '', '', '', 'train', 'wreck', '', '', '', 'scripti', 'give', '', 'film', '2', '', '', '10', '', '', 'aboveaverage', 'work', '', 'bill', 'campbell', '', '', 'lead', 'role', 'saving', '', '', '', 'lower', 'mark']\n",
            "['caddyshack', 'two', '', '', 'good', 'movie', '', '', '', 'compared', '', '', 'original', '', 'cant', 'stack', '', 'robert', 'stack', '', '', 'horrible', 'replacement', '', 'ted', 'knight', '', 'jackie', 'mason', '', 'funny', '', 'cant', 'compete', '', 'rodney', 'dangerfield', 'ty', 'webb', '', 'funny', '', '', '', 'character', '', '', 'original', '', '', '', '', 'characters', '', '', 'movie', 'lack', '', 'punch', '', '', 'original', 'henry', 'wilcoxon', '', 'example', 'except', '', '', 'hystericly', 'funny', 'lawyer', 'peter', 'blunt', '', 'played', '', 'randy', 'quaid', 'every', 'line', '', 'says', 'reminds', '', '', '', 'originals', 'humor', 'especially', '', 'scene', '', '', 'office', '', 'dont', 'go', '', '', 'law', 'suits', '', 'motions', '', 'find', '', '', '', 'live', '', 'come', '', '', 'house', '', 'beat', '', '', 'door', '', '', 'fing', 'baseball', 'bat', 'make', '', 'bonfire', '', '', 'chippindalemaybe', 'roast', '', 'golden', 'retriever', 'arff', 'arff', 'arff', '', 'eat', '', '', '', 'im', 'comin', 'upstairs', 'junior', '', 'im', 'grabbing', '', '', '', 'brooks', 'brothers', 'pjs', '', 'cramming', '', 'brand', 'new', 'bmw', '', '', 'tight', '', '', '', '', '', 'understanding', 'offsetting', '', 'small', 'role', 'however', '', 'dan', 'acroyd', '', '', 'obviously', '', 'replacement', '', 'bill', 'murray', '', 'voice', '', 'beyond', 'irritating', '', 'everything', '', '', 'isnt', 'even', 'funny', '', '', 'stupid', 'overall', 'caddyshack', 'ii', '', '', 'good', 'movie', '', '', 'comparison', '', '', 'awesome', 'original', '', '', 'cant', 'cut', '']\n",
            "['honestly', '', 'short', 'film', 'sucks', '', 'dummy', 'used', '', '', 'necro', 'scene', '', 'pretty', 'well', 'made', '', 'still', 'phony', 'enough', 'looking', '', 'ruin', '', 'viewing', 'experience', '', 'unearthed', 'dvd', '', 'crisp', '', 'clear', '', '', 'havent', 'made', '', '', 'mind', '', '', 'helps', '', 'hinders', '', '', '', 'film', '', '', 'little', 'grainy', '', 'might', '', 'added', '', 'creepiness', 'factor', '', '', '', 'going', '', '', '', '', 'idea', '', '', 'film', '', '', 'much', 'hype', 'surrounding', '', '', '', '', 'subject', 'matter', '', '', '', 'honest', '', 'necrophilia', 'scenes', '', 'films', 'like', 'nekromantik', '', 'visitor', 'q', 'among', 'others', '', '', 'shocking', '', '', 'aftermath', '', '', 'talk', '', '', 'film', '', '', 'loneliness', '', '', '', 'manner', '', 'deep', 'philosophy', '', 'bull', '', '', '', 'expensive', 'beautifully', 'filmed', 'turd', '', '', '', 'shocking', '', '', '', 'disgusting', '', '', 'insist', '', 'viewing', '', 'rent', '', '', 'give', '', '', '3', '', '', 'fact', '', '', 'many', 'people', 'make', 'explicit', 'movies', '', 'necrophilia', '', '', 'definitely', '', '', 'bigger', 'selection', '', 'us', 'sickos', '', 'filming', '', 'good', '', '', '', '', '', 'gore', '', 'watching', '', 'rubbery', 'looking', 'doll', 'get', 'cut', 'open', '', 'considered', 'gore', '', '', '', '', 'absolutely', 'nothing', 'going', '', '', 'overhyped', 'mess', '', '', '', 'hand', 'genesis', 'cerdas', 'sequel', '', 'aftermath', '', 'available', '', '', 'double', 'feature', 'released', '', 'unearthed', 'films', '', '', 'absolute', 'masterpiece', '', '', 'short', 'film', 'really', 'showing', '', '', 'good', 'director', 'cerda', 'really', '', '', 'given', '', 'right', 'material', 'although', '', 'dont', 'care', '', 'aftermath', '', '', 'genesis', '', '', 'well', 'made', '', '', '', 'forgive', 'cerda', '', 'definitely', 'keep', '', 'eye', '', '', '', '', '', 'future']\n",
            "['', 'thought', '', 'mukhsin', '', '', 'wonderfully', 'written', '', '', '', '', 'entertainment', 'theres', 'tonnes', '', 'subtle', 'messages', '', '', 'think', 'yasmin', '', 'trying', '', 'bring', 'across', '', 'yes', '', 'might', '', 'confusing', '', '', '', 'youespecially', '', '', 'didnt', 'watch', 'sepet', 'andor', 'gubra', '', '76', 'timesi', 'bet', 'u', 'noticed', '', '', 'use', 'characters', '', '', 'two', 'movies', '', 'right', '', 'really', 'ironic', '', '', 'characters', 'relate', 'like', '', 'bossy', 'neighbour', '', '', 'prostitute', '', 'gubra', '', '', 'chick', '', '', 'snooker', 'pad', 'turns', '', '', '', '', 'religious', '', 'wife', '', '', 'pious', 'man', '', '', 'future', '', '', 'absolutely', 'love', '', 'voiceovers', '', 'crude', 'yet', 'awakeningly', 'fresh', 'like', '', '', 'took', '', 'shot', '', '', 'rumah', 'tumpangan', 'gamin', 'signboard', '', '', '', 'suddenly', 'mukhsins', 'voice', 'saying', 'bismillahhirrahmannirrahim', '', 'scene', '', '', 'climbed', '', 'treeit', 'captured', 'malaysians', 'attitudeand', '', '', 'mild', 'way', 'sniggering', '', '', 'pathetic', '', '', 'portrayed', '', '', 'character', '', 'example', 'even', '', 'kids', '', '', 'really', 'sharp', 'tonguedcomplete', '', '', 'shrill', 'annoying', 'voice', '', 'simply', 'bad', 'mouth', 'ppl', '', 'movie', 'long', '', '', '', '', '', '', '', 'busybody', '', 'talk', '', 'ppl', '', 'ur', '', 'life', 'isnt', 'sorted', '', '', '', '', 'say', '', '', 'movie', 'totally', 'reached', '', 'expectation', '', '', 'exceeded', '', '', 'kept', '', 'glued', '', '', 'screen', '', 'couldnt', 'even', 'take', '', 'eyes', '', '', '', 'even', '', 'make', '', '', '', 'cinema', 'ha', 'ha']\n",
            "['', '', '', '', 'golf', 'fan', '', '', 'means', '', 'may', '26', '', '1030', 'pm', '', 'movie', 'started', '', '', 'scene', '', '', 'late', '1800s', 'old', 'movies', '', 'like', '', '', 'golf', 'however', 'within', '', 'first', 'scene', '', 'young', 'boy', 'harry', 'vardon', '', 'awaken', '', '', 'voices', '', 'men', '', 'goes', 'outside', '', 'inquire', '', '', '', '', '', '', 'told', '', '', 'going', '', 'build', '', 'golf', 'something', '', '', '', 'turned', '', 'television', '', '', 'something', 'stirred', '', '', '', '', 'back', '', '', 'movie', '', 'excellent', '', '', 'see', '', 'young', 'boy', '', '', 'man', 'professional', 'golf', 'player', '', '', 'haunted', '', 'visions', '', '', 'childhood', '', '', 'meet', '', 'true', 'focus', '', '', 'movie', 'francis', '', '', 'decisions', '', 'makes', '', 'golf', '', 'meet', '', 'mother', '', 'father', '', 'want', '', 'protect', '', '', '', 'class', 'thing', '', '', '', 'obvious', '', '', 'period', '', '', '', 'little', 'eddie', 'lowery', '', 'caddy', '', 'encouraging', 'words', '', 'little', 'pushes', '', '', 'instrumental', '', 'francis', 'winning', 'dont', 'want', '', 'give', 'away', '', 'much', '', '', '', '', '2', '', '', '', 'super', 'please', 'see', '', 'movie']\n",
            "['upon', 'viewing', 'tobe', 'hoopers', 'gem', 'crocodile', '', '2000', '', 'developed', '', 'great', 'interest', '', '', 'collegecrocodile', 'niche', '', '', 'exploitationmonster', 'genre', '', 'look', 'forward', '', '', 'wayward', 'producer', '', 'follow', '', '', 'several', 'sequels', '', '', 'delightful', 'bonbons', '', 'camp', 'goodness', '', '', 'ed', 'wood', 'could', 'bring', '', 'subtle', 'sense', '', 'flair', '', 'dignity', '', '', 'remarkable', 'scripts', '', 'ed', 'writing', '', 'scripts', '', '', 'room', 'full', '', 'monkees', 'creating', 'crocodile', 'special', 'effects', '', '', 'computer', '', 'wed', 'need', 'would', '', '', 'cast', '', 'crocky', 'fodder', '', 'russ', 'meyer', 'breasts', '', 'ren', 'hoek', 'pectoral', 'implantswhile', 'tobe', 'hoopers', 'crocky', 'opus', 'referenced', '', '', 'movies', 'blood', 'surf', 'chose', '', 'dish', '', '', 'bunch', '', 'aging', 'themes', '', '', 'chum', 'bucket', '', '', 'movies', 'see', '', '', '', 'look', 'past', '', 'revenge', '', '', 'nerds', 'sequel', 'sets', '', 'find', '', 'allusionshomagesripoffs', '', 'jaws', 'temple', '', 'doom', 'indiana', 'jones', 'last', 'crusade', '', 'convent', 'godzilla', '2000', '', '', 'james', 'bond', 'movie', 'also', 'try', '', 'find', '', 'readyfortv', 'fade', '', '', 'editor', 'gave', '', '', 'making', 'sense', '', '', 'stocki', '', 'disappointed', '', 'crock', 'didnt', 'get', '', 'try', '', '', 'sotto', 'voce', 'tenor', '', '', 'soliloquy', '', 'environmentalismor', 'crocky', 'appreciation', '', '', 'quasicaptain', 'ahab', '', '', 'story', '', 'get', '', 'tour', 'de', 'force', 'speach', 'perhaps', '', '', 'coming', 'years', 'well', 'see', '', 'crock', 'galloping', '', '', '', 'shootout', '', '', 'golden', 'sunset', '', 'hopefully', '', 'monkey', '', 'flush', '', 'crocky', '', '', 'toilet', '', '', 'international', 'space', 'station', '', 'midgets', '', 'enjoy', '', 'exploitative', 'waltz', '', 'zerog', 'monkeymidgetcrocodile', 'bloodshedallinall', '', 'lack', '', '', 'whammy', 'bar', '', '', 'surf', 'music', 'irked', '']\n",
            "['', 'tries', '', '', '', 'epic', 'adventure', '', '', 'century', '', '', '', 'cast', 'like', 'shô', 'kasugi', 'christopher', 'lee', '', 'johnrhys', 'davies', '', 'really', '', '', 'perfect', 'badventure', '', '', 'time', '', 'actually', '', '', 'pretty', 'fun', 'swashbuckling', 'adventure', '', 'even', '', '', 'flaws', 'captures', '', 'interest', '', 'must', '', 'felt', '', '', 'biggest', 'movie', 'ever', '', '', 'people', '', 'made', '', 'even', '', '', 'made', '', '', '90s', '', 'doesnt', '', '', 'modern', 'feel', '', '', '', '', '', 'feeling', '', '', 'old', 'errol', 'flynn', 'movie', '', 'big', 'adventure', 'movie', '', '', '', 'big', 'thing', '', 'hollywood', '', 'im', 'afraid', '', '', 'feeling', '', '', '', 'never', '', '', '', '', '', 'old', 'movies', '', '', '', '', '', 'hand', '', '', '', 'real', 'feeling', '', '', 'cant', 'hate', '', '', 'think', '', '', 'okay', 'adventure', 'movie', '', '', 'really', 'love', '', 'soundtrack', 'damn', '', 'want', '', 'theme', 'song']\n",
            "['', 'last', 'hard', 'men', 'finds', 'james', 'coburn', '', 'outlaw', '', '', 'long', 'sentence', 'breaking', 'free', '', '', 'chain', 'gang', '', '', '', '', 'friends', 'head', '', '', 'mexican', 'border', '', 'jail', '', 'safety', '', '', 'dont', '', 'coburn', '', '', 'mission', '', 'revenge', '', 'kill', '', 'peace', 'officer', '', 'brought', '', '', '', '', '', 'process', 'killed', '', 'womanthat', 'peace', 'officer', '', 'charlton', 'heston', '', '', '', 'retired', '', '', 'knows', '', 'coburn', '', '', '', '', 'explains', '', '', '', 'daughter', 'barbara', 'hershey', 'coburn', '', 'holed', '', '', '', 'shack', '', '', 'involved', '', '', 'waco', 'like', 'standoff', '', 'indian', 'woman', '', 'killed', '', '', 'hail', '', 'bullets', 'fired', '', '', 'something', 'hes', 'proud', '', '', '', '', 'collateral', 'casualty', '', '', 'manhuntlest', '', 'feel', 'sorry', '', 'coburn', '', 'lets', 'us', 'know', 'full', 'well', '', '', 'evil', 'man', '', 'truly', '', 'heston', '', '', 'usual', 'stalwart', 'hero', '', '', 'acting', 'honors', '', '', 'last', 'hard', 'men', 'go', '', 'james', 'coburn', '', 'blows', 'everyone', 'else', '', '', 'screen', '', 'hes', '', 'coburn', 'gets', '', 'bright', 'idea', '', 'making', 'sure', 'heston', 'trails', '', '', 'kidnapping', 'hershey', '', 'taking', '', '', '', 'indian', 'reservation', '', '', 'white', 'authorities', 'cant', 'touch', '', '', 'knows', '', 'heston', '', '', 'make', '', 'personal', 'thencoburns', 'gang', 'includes', 'morgan', 'paull', 'thalmus', 'rasulala', 'john', 'quade', 'larry', 'wilcox', '', 'jorge', 'rivero', 'heston', '', 'chris', 'mitchum', 'along', '', '', '', 'soninlaw', '', 'bethe', 'last', 'hard', 'men', '', 'one', 'nasty', '', 'brutal', 'western', 'andrew', 'mclaglen', 'directed', '', '', 'im', 'thinking', '', 'may', '', '', '', 'project', 'originally', 'intended', '', 'sam', 'peckinpaugh', '', 'sure', 'shows', '', 'lot', '', '', 'influence', '', '', 'liberal', 'use', '', 'slow', 'motion', '', 'accentuate', '', 'violence', '', '', '', '', '', 'lot', '', '', 'little', 'peckinpaugh', 'lite', '', 'last', 'hard', 'men', '', '', 'film']\n",
            "['maybe', '', '', '', 'title', '', '', 'trailer', 'certainly', '', '', 'interview', '', '', 'dvd', '', '', '', '', 'director', '', '', 'keeps', 'saying', 'hi', 'kids', '', '', 'camera', 'like', '', 'buffoon', '', '', '', 'expectations', '', 'entrails', '', '', 'virgin', '', '', '', 'least', '', 'bit', '', 'sleazy', 'fun', '', '', 'good', 'sex', 'scenes', '', 'brutal', 'bloody', 'killings', '', '', 'weird', 'japanese', 'penetrator', 'turns', '', '', 'way', '', 'sleazy', '', '', '', 'good', '', 'bad', '', 'whatever', 'theres', '', 'problem', '', 'one', '', 'see', '', 'also', '', '', 'italian', 'sexploitation', 'flick', 'porno', 'holocaust', 'similar', '', '', '', 'many', 'respects', '', '', '', 'balance', '', '', 'sex', '', 'violence', '', 'much', 'sex', '', '', '', 'turn', '', '', 'prototypical', 'porno', '', '', 'even', '', 'much', 'production', 'quality', '', 'comparison', '', '', 'professional', 'porno', 'movies', '', '', '', 'killing', 'scenes', '', '', '', '', '', 'least', '', 'little', 'tack', '', 'maybe', '', '', 'smidgen', '', 'ingenuity', '', 'creating', '', 'creaturekillerwhatever', 'entrails', '', '', 'virgin', '', 'neither', '', 'safe', '', 'say', '', '', 'pretty', 'soulless', 'movie', 'even', '', 'isnt', 'one', '', '', '', 'worst', 'ever', 'made', '', '', '', '', 'horndog', 'japanese', 'fetishists', '', 'get', '', '', 'girls', '', 'trouble', '', 'men', '', '', '', '', 'brains', '', '', '', 'headsin', '', 'case', '', 'given', '', 'photo', 'team', '', '', 'guys', '', 'taking', '', 'shots', '', '', 'girls', 'nothing', '', 'salacious', '', '', '', 'way', '', '', 'dense', 'fog', '', 'stay', '', '', '', 'house', 'one', 'night', '', '', 'picked', '', 'one', '', 'one', '', '', 'murderer', '', 'hes', 'credited', 'first', '', '', 'director', 'kazuo', 'gaira', 'komizu', 'decides', '', '', '', 'put', '', '', 'quota', '', 'random', 'sex', 'scenes', 'early', '', '', 'get', 'spliced', '', '', 'phoned', '', 'take', '', 'pick', 'clips', '', 'one', '', '', 'photographers', '', 'sex', '', 'one', '', '', '', '', 'girls', 'elsewhere', '', 'looks', 'like', '', '', 'another', 'movie', '', '', 'settled', '', '', 'house', 'theres', '', 'wrestling', 'scene', 'thats', 'poorly', 'choreographed', '', 'shot', 'yeah', '', 'really', 'need', '', 'see', '', '', '', '', '', '', '', '', 'rape', '', 'killings', 'first', '', 'rape', '', '', 'photographers', '', 'promise', '', 'girls', '', 'jobs', '', '', 'time', '', '', 'murderer', '', 'like', 'damatos', 'creature', '', 'simply', 'covered', '', 'mud', '', 'given', '', 'stupid', 'facial', '', '', '', '', 'unknown', 'reason', 'kills', '', 'men', 'andor', 'rapes', '', 'women', 'one', '', 'onenow', '', 'latter', '', '', 'taken', '', '', '', '', 'considered', '', 'highlights', '', '', 'movie', '', '', 'like', 'saying', 'however', '', '', 'croûtons', '', '', 'best', 'part', '', '', 'wretchedly', 'tasting', 'salad', '', 'eyegouging', 'scene', '', 'spike', 'thrown', 'like', '', 'olympic', 'event', '', 'scene', 'actually', '', 'kind', '', 'cool', '', 'finally', '', 'entrailing', '', '', 'overly', 'sexcrazed', 'girl', 'whose', 'inconsequential', 'name', '', 'cant', 'remember', 'even', '', 'becomes', 'disappointing', '', '', '', '', 'correct', '', '', 'title', '', 'top', '', '', '', 'sex', 'scenes', '', 'become', 'tedious', '', 'gaira', '', '', 'indulgence', '', 'longtakeswithoutcutaways', '', 'everything', '', '', 'japanese', 'censors', '', 'blurred', 'anyway', '', 'dubbed', '', '', '', 'actors', 'youd', 'think', '', '', 'seem', '', '', 'enjoying', '', 'enough', 'hence', '', 'need', '', 'let', '', 'speak', '', '', '', '', 'overall', 'feeling', '', 'entrails', '', '', 'virgin', '', '', '', '', 'lumpy', 'one', '', '', '', '', '', '', 'gawked', '', '', 'without', '', 'shred', '', 'suspense', '', 'true', 'horror', 'watch', '', '', 'last', 'girl', 'left', 'alive', '', 'virgin', '', '', 'picture', 'tries', '', 'stop', '', 'murderer', '', 'getting', '', '', '', 'lasts', 'five', 'minutes', '', '', 'keeps', 'throwing', 'sticks', '', '', '', '', 'want', '', '', '', 'done', '', '', '', '', 'hate', 'women', 'mantra', '', 'ease', '', '', '', 'rid', 'altogether']\n",
            "['', '', 'scenes', '', 'actually', 'attempt', '', 'depiction', '', 'revolutionary', 'struggle', 'resemble', '', 'hirsute', 'boy', 'scout', 'troop', 'meandering', 'tentatively', '', 'swimming', 'holes', '', 'sharif', '', 'please', 'god', 'palance', 'try', '', 'hand', '', 'fiery', 'oratory', '', 'sound', 'like', 'kurtz', 'swallowing', '', 'bug', '', 'displays', '', 'strategic', 'brilliance', 'incorporate', '', 'map', '', 'cuba', 'replete', '', 'smiling', 'fishies', '', '', 'ocean', '', '', 'positively', 'vaudevillian', 'hypothesis', '', '', '', 'bay', '', 'pigs', 'came', '', 'pass', '', '', '', 'leave', 'us', '', 'one', 'comical', 'dentistry', 'scene', '', 'surfeit', '', 'uppity', 'hollywood', 'peasants', '', 'address', '', 'camera', '', 'though', '', '', '', 'moving', 'train', '', '', '', 'kicks', '', 'passel', '', 'homoeroticism', '', '', '', 'limited', '', 'castros', 'manic', '', 'unremitting', 'cigarfellatio', 'never', 'trust', '', 'medved', '', 'even', '', 'busted', 'clock', '', 'right', 'twice', '', 'day', '', '', '', 'historically', 'awful', 'movie']\n",
            "['', 'film', 'took', '', '', 'surprise', '', 'make', '', '', 'habit', '', 'finding', '', '', 'little', '', 'possible', '', 'films', '', 'attending', '', 'trailers', '', 'reviews', 'provide', 'spoiler', '', 'spoiler', '', '', 'knew', 'upon', 'entering', '', 'theater', '', '', '', '', '', 'documentary', '', '', 'long', 'married', 'couple', '', '', 'imdb', 'readers', 'gave', '', '', '78', 'rotten', 'tomatoes', 'users', 'ranked', '', '', '79', '', '', 'critics', 'averaged', '', 'amazing', '82', '', 'anything', '', 'underrated', '', 'little', 'gemfilmmaker', 'doug', 'block', 'decided', '', 'record', '', 'parents', '', 'posterity', '', '', '', 'beginning', '', '', 'film', '', '', 'treated', '', '', 'requisite', 'interviews', '', '', 'parents', 'outspoken', 'mother', 'mina', '', 'less', '', 'forthcoming', 'dad', 'mike', '', 'immediately', 'found', '', 'couple', 'interesting', '', '', '', 'idea', '', '', 'filmmaker', 'mike', 'minas', 'son', 'doug', '', 'going', '', 'take', 'us', '', '', 'matter', '', 'fact', '', 'doubt', '', 'doug', '', 'knew', '', '', '', 'going', '', 'thislife', 'takes', 'unexpected', 'twists', '', 'turns', '', '', 'beautifully', 'expressive', 'film', 'follows', '', 'journey', '', '', 'difficult', '', 'verbalize', '', '', 'moved', '', '', '', '', 'story', '', '', 'unique', 'way', '', '', '', '', 'told', 'absolutely', 'riveting', '', 'beginning', '', 'end', '', '', 'really', '', '', 'mustsee', 'even', '', '', 'arent', '', 'fan', '', '', 'documentary', 'genre', '', 'film', '', 'make', '', 'think', '', '', '', 'life', '', 'might', 'even', 'evoke', 'memories', '', '', 'thought', '', 'long', 'forgotten', '51', 'birch', 'street', '', 'one', '', '', 'rare', 'filmgoing', 'experiences', '', 'makes', '', 'deep', 'impression', '', 'never', 'leaves', '', '', 'best', 'news', '', '', '', '', 'hbo', '', '', 'hand', '', '', 'production', '', 'instead', '', 'playing', '', '', 'limited', 'art', 'house', 'audience', 'eventually', 'millions', '', 'people', '', '', '', 'chance', '', 'view', '', 'incredible', 'piece', '', 'work', 'bravo']\n",
            "['stephen', 'hawkings', '', '', 'genius', '', '', '', 'king', '', 'geniuses', 'watching', '', 'movie', 'makes', '', 'feel', 'dumb', '', '', '', 'great', 'movie', '', 'highly', 'entertaining', '', '', '', 'intriguing', '', 'movie', 'centers', 'around', 'wheelchair', 'bound', 'stephen', 'hawkings', '', 'man', '', 'makes', 'einstein', 'look', 'average', '', '', 'theories', '', 'scientific', 'discoveries', '', '', 'universe', 'time', '', 'galaxy', '', 'black', 'holes', 'everyone', '', 'sometime', '', 'another', '', '', 'really', 'intense', 'high', 'comes', '', '', 'moment', '', '', 'think', 'theyv', 'got', '', 'universe', '', '', 'cosmos', 'figured', '', '', '', 'swear', '', 'soon', '', '', 'sober', '', 'theyll', 'write', '', '', '', 'well', '', '', '', 'man', '', 'actually', 'held', '', 'feeling', '', '', '', 'six', 'hours', '', '', '', 'man', '', 'despite', 'suffering', '', 'lou', 'gehrigs', 'disease', '', 'become', '', 'greatest', 'mind', '', 'world', '', 'yet', 'seen', 'watch', '', '', 'listen', '', '', '', '', '', 'formulated', 'theories', '', 'black', 'holes', 'awesome', '', 'wont', '', '', '', '', '', 'see', '']\n",
            "['', 'story', '', '', '', 'psychic', 'woman', 'tory', '', 'returns', '', '', 'hometown', '', 'begins', 'reliving', '', 'traumatic', 'childhood', 'past', '', 'death', '', '', 'childhood', 'friend', '', 'abusive', 'father', 'tory', 'discovers', '', '', 'friend', '', '', '', 'first', '', '', 'string', '', 'murders', '', '', 'still', 'occurring', '', '', 'psychic', 'powers', 'help', 'solve', '', 'crimes', '', 'stop', '', 'continuing', 'murders', '', 'really', 'dont', 'need', '', 'find', '', '', 'oh', '', 'god', '', '', '', '', '', '', 'bad', '', 'know', '', '', 'nora', 'roberts', 'fans', '', 'flock', '', '', 'movie', '', 'give', '', 'tons', '', '10s', '', '', 'rest', '', 'us', '', 'see', '', 'imdb', 'score', '', '6', '', 'actually', 'think', '', 'movie', '', 'worth', 'watching', '', '', '', '', 'fooled', '', 'ending', '', 'predictable', '', 'acting', 'terrible', 'dont', 'even', 'get', '', 'started', '', '', 'southern', 'accents', 'yall', '', '', 'story', '', 'trite', '', 'rememberyou', '', 'warned']\n",
            "['oh', 'god', '', 'must', '', 'seen', '', '', '', '', '', '11', '', 'twelve', 'dont', 'ask', '', '', 'may', '', '', 'young', '', '', 'wasnt', 'stupid', 'anyone', 'could', 'see', '', '', '', '', 'bad', 'movie', 'nasty', 'gross', 'unscary', '', '', 'silly', 'ive', 'seen', '', 'impressive', 'effects', '', 'disneyland', 'ive', 'seen', 'better', 'performances', '', '', 'school', 'play', '', 'ive', 'seen', '', 'convincing', 'crocodiles', '', '', 'zoo', '', '', '', 'nothing', '', 'sit', '', '', 'water', 'ignoring', '', 'children', 'tapping', '', '', 'glassthe', 'story', '', 'set', '', 'northern', 'australia', '', 'handful', '', 'ambitious', 'young', 'people', '', 'trying', '', '', 'new', 'water', 'sport', 'surfing', '', 'shark', 'filled', 'waters', '', 'soon', 'becomes', 'evident', '', 'something', '', 'dangerous', '', '', '', 'water', '', '', 'learn', '', '', 'get', '', 'help', '', '', 'grizzly', 'middle', 'aged', 'fisherman', '', 'wants', '', 'kill', '', 'animal', '', 'avenge', '', 'eating', '', '', 'familyi', 'think', '', '', 'seen', 'every', 'crocodile', 'film', 'made', '', '', 'last', 'fifteen', 'years', '', 'best', '', '', '', 'lake', 'placid', '', '', 'worse', '', '', '', '', 'sequel', 'blood', 'surf', 'would', '', '', '', '', 'second', 'worst', 'croc', 'flick', '', 'think', '', 'primeval', '', 'crocodile', 'tailing', 'closely', 'behindthe', 'australian', 'saltwater', 'crododile', '', 'one', '', '', '', 'dangerous', 'creatures', '', '', 'resulting', '', '', '', '', 'hundred', 'injuries', '', 'deaths', 'every', 'year', 'movies', 'like', 'blood', 'surf', 'however', 'ruin', '', '', '', 'ferocious', 'image', '', '', '', 'creature', '', '', 'good', 'hour', '', '', 'half', '', '', 'viewers', 'life', 'unless', '', 'really', 'want', '', 'see', '', 'avoid', 'blood', 'surf']\n",
            "['fate', 'leads', 'walter', 'sparrow', '', 'come', '', 'possession', '', '', 'mysterious', 'novel', '', '', 'eerie', 'similarities', '', 'connections', '', '', 'life', '', 'based', 'around', '', 'number', '23', '', '', 'story', 'unfolds', '', 'real', 'life', '', 'fiction', 'sparrow', 'must', 'figure', '', '', 'connection', '', '', 'book', '', '', '', 'story', '', 'eventually', 'endthe', 'number', '23', 'offers', '', 'intriguing', 'premise', '', '', 'undone', '', '', 'weak', 'execution', '', 'film', '', 'failed', '', 'many', 'different', 'levels', '', '', 'pretty', 'disappointing', '', '', 'held', '', 'much', 'potential', '', 'screenplay', '', 'probably', '', 'worst', 'part', '', '', '', '', 'filled', '', 'silly', 'sequences', '', 'laughable', 'dialog', '', '', 'killed', '', 'mood', '', '', 'movie', '', 'seemed', 'like', '', 'screenwriter', '', '', 'good', 'idea', '', '', 'didnt', 'know', '', '', 'develop', '', '', 'stretch', '', '', 'ninety', 'minute', 'running', 'time', '', 'second', 'half', '', '', 'film', '', 'running', 'low', '', 'ideas', '', 'twist', '', 'pretty', 'obvious', '', '', 'ending', '', 'awfuljoel', 'schumacher', '', 'responsible', '', 'one', '', '', 'worst', 'movies', 'ever', '', '', '', 'redeem', '', '', 'little', '', 'phone', 'booth', '', '', '', '', 'films', '', '', 'number', '23', 'reminds', '', '', 'hes', 'still', 'capable', '', 'making', '', 'stinker', '', '', '', 'movie', 'drenched', '', 'style', '', '', '', 'cant', 'get', '', 'good', 'focus', '', 'moves', '', 'film', '', '', 'clunky', '', 'slow', 'pace', '', 'switches', '', 'reality', '', 'whats', 'actually', 'happening', '', '', 'book', '', 'quickly', 'got', 'annoying', '', 'actual', 'book', '', '', 'film', 'thats', 'titled', '', 'number', '23', '', '', 'awful', 'detective', 'story', '', '', 'audience', 'gets', 'stuck', 'listening', '', 'carrey', 'narrate', '', '', '', 'bored', '', '', 'tears', '', 'carrey', '', 'finally', 'done', '', 'book', '', 'get', 'stuck', 'watching', '', 'run', 'around', 'trying', '', 'solve', '', 'mystery', '', '', 'point', '', 'audience', '', 'lost', 'interest', '', '', '', '', 'real', 'tension', '', 'impatiently', 'wait', '', '', 'movie', '', 'reach', '', 'horrible', 'ending', '', 'unconvincing', 'explanation', '', 'celebrating', '', 'film', '', 'finally', 'finishedthe', 'acting', '', 'mostly', 'average', '', 'pretty', 'forgettable', 'jim', 'carrey', '', 'clearly', '', 'sleepwalking', '', '', 'performance', '', '', 'didnt', 'even', 'seem', '', '', 'trying', '', '', 'either', 'completely', '', '', 'top', '', '', 'scenes', '', '', '', 'wooden', '', 'narration', '', '', 'complete', 'bore', '', 'listen', '', '', '', 'put', '', 'life', 'inside', '', 'character', 'virginia', 'madsen', '', '', 'best', '', 'could', '', '', 'limited', 'role', '', '', 'needs', '', 'pick', 'better', 'scripts', 'logan', 'lerman', '', 'pretty', 'bland', '', '', 'danny', 'huston', 'overall', '', 'number', '23', '', '', 'awful', 'thriller', '', 'offered', '', 'laughs', '', 'suspense', '', 'thrills', 'rating', '310']\n",
            "['', 'brought', '', 'film', '', '', 'joke', '', '', 'friend', '', 'could', '', '', '', 'worst', 'joke', '', 'play', '', 'film', '', 'barely', 'watchable', '', '', 'acting', '', 'dire', '', 'worst', 'child', 'actor', 'ever', 'used', '', 'hasslehoff', 'giving', '', 'substandard', 'performance', '', 'plot', '', 'disgraceful', '', '', 'points', '', '', '', 'bored', '', '', 'wondering', '', '', 'hell', '', 'going', '', '', 'tries', '', '', 'gruesome', '', 'places', '', '', '', 'laughablejust', 'terrible']\n",
            "['', '', 'probably', '', 'worst', 'movie', '', '', 'ever', 'seen', '', '', 'life', '', '', 'stupid', '', '', '', 'plot', '', '', 'special', 'affects', '', 'ridiculous', '', '', '', 'never', 'seen', '', 'bad', 'acting', '', '', 'life', '', '', 'good', 'part', '', '', 'movie', '', '', '', 'hot', 'guysespecially', 'drew', 'fuller', '', 'dont', 'know', '', '', 'people', '', 'thinking', '', '', 'made', '', 'movie', '', 'didnt', 'even', 'want', '', 'finish', '', 'whole', 'thing', '', '', 'get', '', '', 'point', '', '', 'movie', '', '', 'guys', '', '', '', 'bed', 'touching', '', '', 'mean', '', '', 'like', '', 'kind', '', 'sick', '', 'twisted', 'kiddy', 'porn', '', 'would', 'advise', 'anyone', '', '', 'heard', '', '', 'movie', '', '', 'interested', '', 'seeing', '', '', '', 'forget', '', '', '', 'find', 'another', 'movie', '', 'watch', '', '', '', 'disappointed', '', 'whole', 'movie', '', '', 'complete', 'waste', '', 'time', '', '', 'opinion']\n",
            "['', '', '', 'typical', 'steele', 'novel', 'production', '', '', 'two', 'people', '', '', 'undergone', '', 'sort', '', 'tragedy', 'manage', '', 'get', 'together', 'despite', '', 'odds', '', 'wouldnt', 'call', '', '', 'spoiler', '', 'anyone', '', '', 'read', '', 'steele', 'novel', 'knows', '', '', '', 'end', '', '', 'dont', 'want', '', 'know', 'much', '', '', 'plot', 'dont', 'keep', 'readinggilberts', 'character', 'ophelia', '', '', 'woman', '', 'french', 'decent', '', '', 'lost', '', 'husband', '', 'son', '', '', 'accident', 'gilbert', 'needs', '', 'stop', '', 'films', '', '', '', 'required', '', '', '', 'accent', '', '', 'otherwise', '', 'good', 'actress', 'cannot', 'realistically', 'pull', '', '', 'kind', '', 'accent', 'brad', 'johnson', 'also', '', 'excellent', 'actor', '', 'matt', '', '', 'recovering', '', '', 'rather', 'nasty', 'divorce', '', '', 'gentle', 'convincing', '', 'compelling', '', '', 'rolethe', 'two', 'meet', '', '', 'beach', '', '', 'daughter', 'pip', '', 'initially', 'ophelia', 'accuses', 'matt', '', '', '', 'child', 'molester', '', '', '', 'talked', 'art', '', '', 'kid', '', '', '', 'become', 'friends', '', '', 'episode', '', '', '', 'couple', 'falls', '', 'lovethe', 'chemistry', '', '', 'two', 'leads', '', '', 'great', 'even', 'though', '', 'talent', '', '', 'two', 'people', '', '', '', '', 'opinion', '', 'question', '', '', '', 'best', '', 'could', '', '', 'predictable', 'plot', '', '', 'script', '', 'borders', '', 'stereotypical', 'two', 'people', 'meet', 'tragedy', 'bigger', 'tragedy', '', 'secret', '', 'revealed', 'another', 'tragedy', '', '', '', 'get', 'together', '', 'wish', '', '', '', '', '', '', '', '', '', '', '', '', '', 'nutshelli', 'wanted', 'mindless', 'entertainment', '', '', 'got', '', '', '', '', 'regard', '', '', 'genre', '', 'romantic', 'films', '', 'one', 'fails', '', '', 'memorable', '', 'secret', 'affair', '', 'janine', 'turner', '', 'far', 'superior', '', '', 'steele', 'book', '', '', '', '', 'steeles', 'earlier', 'books', 'turned', '', 'film']\n",
            "['oh', 'noes', 'one', '', '', 'attack', '', '', 'japanese', 'ghost', 'girl', 'movies', '', 'dont', 'even', 'remember', '', 'many', 'ive', 'seen', 'maybe', '', 'sells', '', '', '', '', '', 'scary', '', '', '', 'japanese', 'horror', 'movies', '', '', '', '', 'similar', 'since', '', 'first', 'one', '', '', 'also', '', 'pulling', '', '', 'kid', '', '', 'seen', '', 'pulled', '', 'scene', '', 'many', 'times', '', '', 'many', 'horror', 'movies', 'cellphone', 'scene', '', 'also', 'nothing', 'new', '', 'dramaticness', '', '', 'guy', 'getting', 'hit', '', '', 'train', 'kinda', 'sucked', '', 'mean', '', 'lacked', '', 'dramaticness', 'ok', '', '', '', 'kids', '1416', '', 'listen', '', 'japanese', 'rock', '', 'think', '', '', '', 'unique', 'well', 'let', '', 'tell', '', 'theres', '', 'million', '', '', '', '', '', 'one', '', '', '310', 'ive', 'seen', 'worse', '', '', 'wont', '', 'missing', 'anything', '', '', 'seeing', '']\n",
            "['nicholas', 'walker', '', 'paul', '', 'local', 'town', 'reverand', 'whos', 'married', '', 'martha', 'ally', 'sheedy', '', 'also', '', '', 'habitual', 'womanizer', '', 'decides', '', 'fake', '', '', 'death', '', 'run', 'away', '', '', 'current', 'affair', 'veronica', 'dara', 'tomanovich', 'however', '', '', '', '', 'gets', '', 'bout', '', 'amnesia', 'hence', '', 'name', '', '', 'film', 'sally', 'kirkland', '', 'also', '', 'hand', '', '', 'crazy', 'old', 'coot', '', 'pines', '', '', 'good', 'reverand', '', '', 'shades', '', 'misery', 'type', '', 'way', '', 'sad', '', 'see', '', 'pretty', 'good', 'cast', 'wasted', 'like', '', '', '', 'least', 'bit', 'john', 'savage', '', '', 'horridly', 'forgettable', 'role', '', '', 'shoddy', 'private', 'investigator', '', '', 'film', 'billed', '', '', 'black', 'comedy', 'one', '', '', 'bring', '', 'elements', '', 'said', 'movie', '', '', '', 'bring', '', 'former', '', 'spades', '', 'sadly', 'contains', 'none', '', '', 'latter', 'furthermore', '', 'cant', 'emphasize', '', '', '', '', 'characters', '', '', 'thus', '', 'absolutely', '', 'vested', 'interest', '', '', 'technically', '', '', 'alltogether', 'bad', 'movie', '', '', 'extremely', 'forgettable', 'oneeye', 'candy', 'dara', 'tomanovich', 'gets', 'topless', 'sally', 'kirkland', 'also', 'shows', '', 'skin', '', 'grade', 'c', '', '', 'saw', '', 'showtime', 'showcase']\n",
            "['hollywood', 'movie', 'industry', '', '', 'laziest', 'one', '', '', 'entire', 'world', '', '', 'needs', '', 'single', 'hit', '', 'flood', 'theaters', '', '', '', 'old', 'crap', 'reinvented', '', '', '', '', 'take', 'superheroes', '', 'example', '', '', 'xman', '', 'spiderman', '', '', 'daredevil', 'elektra', 'ghost', 'rider', '', 'hulk', 'japanese', 'horror', 'remakes', '', 'even', 'worst', '', '', 'took', '', 'ring', '', '', 'pitchperfect', 'mostly', '', '', 'mr', 'gore', 'verbinsky', '', 'bring', '', 'ton', '', 'lookalike', 'creepywoman', 'based', 'horrors', 'eg', '', 'ring', '2', '', 'eye', 'dark', 'water', '', '', 'fine', '', 'pointless', '', '', 'grudgesthe', 'first', 'grudge', 'wasnt', 'entirely', 'bad', '', '', 'scary', '', '', '', 'way', '', '', '', 'one', 'could', 'expect', '', '', 'plus', '', 'plot', '', '', 'brains', 'mixing', 'narratives', 'grudge', '2', '', 'exactly', 'like', '', 'previous', '', 'could', '', '', 'good', 'thing', '', 'hey', '', 'boy', 'men', '', 'black', 'ii', '', '', '', 'nice', 'thing', '', 'xerox', '', 'entire', 'screenplay', '', '', 'change', '', 'villain', '', '', 'grudge', '2', '', 'critic', 'goes', '', '', 'waytired', 'scares', 'bad', 'acting', 'except', '', 'amber', 'tamblyn', '', 'clichés', '', '', '', 'place', 'three', 'stories', 'take', 'place', '', 'different', 'places', '', 'time', '', '', 'aubrey', 'tamblyn', 'investigating', '', 'drove', '', 'sister', 'karen', 'sarah', 'michelle', 'gellar', '', 'death', 'allison', 'arielle', 'kebbel', '', '', 'taken', '', 'colleagues', '', 'visit', '', 'house', '', '', 'incident', 'depicted', '', '', 'first', 'movie', 'took', 'place', '', 'finally', '', 'american', 'family', '', 'witness', 'strange', 'stuff', 'happening', '', '', 'apartment', 'next', 'door', 'glad', '', 'say', '', '', 'mean', '', '', 'everything', '', 'tied', '', '', '', 'end', '', 'one', 'must', '', 'rely', '', '', 'end', '', 'make', '', 'good', 'picture', '', 'everything', 'else', '', 'simply', 'tiresome', '', 'dullthe', 'chills', '', '', '', '', '', 'girl', 'alone', '', '', 'lockers', 'someone', '', 'shouldnt', 'enter', '', 'house', 'others', '', 'dig', '', 'deep', 'meanwhile', 'ghosts', 'keep', 'killing', '', 'killing', '', 'killing', '', 'seems', 'even', '', 'deadlier', '', 'ten', 'world', 'wars', '', '', 'ebola', 'epidemic', 'hey', 'doesnt', '', 'seem', '', 'like', 'another', 'bad', 'japanese', 'remake', 'something', 'called', 'pulse', 'yeah', 'day', '', 'day', '', 'getting', 'easier', '', 'hold', '', 'grudge', '', 'hollywood', 'bullshits']\n",
            "['', 'periscope', '', '', '', '', 'library', 'since', '', 'first', 'arrived', '', 'vhs', 'since', '', '', '', 'acquired', '', 'dvd', '', '', 'digital', '', 'cinema', 'nowit', '', '', 'quirky', 'flick', '', '', '', 'go', 'militarily', 'overboard', '', 'either', 'pro', '', 'con', '', '', 'first', '', 'foremost', '', 'comedy', '', '', '', 'vehicle', '', '', 'main', 'characters', '', '', 'quite', 'surprised', '', '', 'sequel', '', 'never', '', 'offeredthe', 'movie', '', 'gained', '', 'following', '', 'borders', '', '', 'cult', 'obsession', 'even', 'among', '', '', 'young', '', 'became', 'aware', '', '', '', 'visiting', '', 'uss', 'drum', '', 'mobile', 'alabama', '', '2002', '', 'group', '', 'cub', 'scouts', '', 'grandson', 'among', '', '', '', 'taken', '', '', 'roles', '', '', 'movie', '', 'planned', '', 'relive', '', '', '', 'overnighter', '', 'boardit', '', '', 'fun', 'romp', '', 'makes', '', 'proud', '', '', '', 'navy', '', 'hollywood', '', '', 'rare', 'companythanks', '', 'kelsey', 'grammar', 'lauren', 'holly', '', 'rob', 'schneider', '', 'making', '', 'could', '', '', '', 'otherwise', 'unremarkable', 'movie', '', 'great', 'entertainment']\n",
            "['', '', 'came', '', '', '', 'youve', 'already', 'seen', '', 'film', '', '', 'curious', '', 'others', '', '', 'say', '', 'iti', 'feel', '', '', '', 'really', '', '', '', 'profusely', 'apologize', '', '', 'canadian', '', 'thats', '', '', '', '', '', 'film', 'ever', '', '', 'cross', '', 'eyes', '', '', '', '', 'moment', '', 'hear', '', '', '', 'cure', '', '', 'retinal', 'bleeding', 'reported', '', '', 'every', 'dozen', 'casesi', 'like', 'everyone', 'else', 'rented', '', 'movie', 'believing', '', '', '', '', 'stupid', 'bmovie', 'ripoff', '', 'blade', '', 'thought', 'sure', '', 'could', 'use', '', 'good', 'laugh', '', '', 'stupid', 'movie', 'ill', 'give', '', 'creators', '', '', 'film', 'one', 'positive', 'comment', '', '', 'creation', 'thanks', '', 'removing', '', 'rec', 'xxxxxx', '', '', 'bottom', 'righthand', 'corner', '', '', 'screen', '', '', 'see', '', '', 'would', '', '', '', 'distraction', '', 'seeing', '', 'movieand', '', '', 'record', '', 'saw', '', 'movie', '', '', '', 'watch', '', '', 'dialogue', '', 'incoherent', '', '', '', '', 'scenes', 'took', 'place', '', '', 'grandmothers', 'trailer', '', 'swear', '', 'godyou', 'know', '', 'im', '', 'writing', 'anymore', '', '', '', '', '', 'painful']\n",
            "['deanna', 'durbin', 'nan', 'grey', '', 'barbara', 'read', '', 'three', 'smart', 'girls', '', '', 'universal', 'film', '', '1936', '', 'introduces', 'deanna', 'durbin', '', 'film', 'audiences', '', 'also', 'stars', 'ray', 'milland', 'mischa', 'auer', 'charles', 'winninger', 'john', 'king', 'binnie', 'barnes', '', 'alice', 'brady', '', '', 'sweet', 'story', '', 'three', 'young', 'women', '', 'living', '', 'switzerland', '', '', 'divorced', 'mother', '', 'hear', '', 'father', 'winninger', '', 'marrying', '', '', '', 'seen', '', '', '10', 'years', '', 'knowing', '', 'mother', 'still', 'loves', '', '', 'board', '', 'ship', '', 'america', '', '', 'help', '', '', 'housekeepernanny', 'determined', '', 'stop', '', 'wedding', 'realizing', '', '', 'intended', 'called', 'precious', 'barnes', '', 'nothing', '', '', 'golddigger', 'aided', '', 'abetted', '', '', 'mother', 'brady', '', 'arrange', '', '', '', '', 'introduced', '', '', 'wealthy', 'count', '', '', 'arranged', '', '', 'fathers', 'accountant', 'king', '', 'man', '', 'chooses', '', '', 'fulltime', 'drunk', 'auer', '', '', 'girls', 'mistake', '', '', '', 'actual', 'wealthy', 'count', 'milland', '', '', 'messthis', '', '', 'delightful', 'film', '', 'cloying', '', 'overly', 'sugary', '', '', '', '', 'nice', 'performances', 'particularly', '', 'auer', 'milland', 'barnes', '', 'brady', '', 'young', 'women', '', 'pretty', '', '', '', 'good', 'work', '', 'emphasis', '', 'course', '', '', 'young', 'durbin', '', '', '', 'natural', 'actress', '', '', 'beautifullytrained', 'singer', '', 'fact', '', 'voice', '', '', 'youngster', '', 'much', '', 'even', '', '', 'would', '', '', '', 'adult', '', '', '', 'trouble', '', '', 'high', 'notes', '', '', '', 'later', '', '', '', 'put', '', 'much', 'weight', '', '', 'middle', 'voice', '', 'sings', '', 'delightful', 'il', 'bacio', '', '', 'police', 'stationone', '', '', 'nicest', 'things', '', '', 'film', '', '', 'see', '', 'father', 'played', '', 'charles', 'winninger', '', 'want', '', 'children', 'around', '', '', 'sees', '', '', 'gets', '', 'know', '', 'barnes', '', '', 'golddigger', 'isnt', '', '', 'young', '', '', 'girls', 'mother', 'looks', 'way', '', '', '', '', 'inference', 'probably', '', '', 'older', 'man', 'seeking', '', 'youth', '', '', 'younger', '', 'glamorous', 'woman', '', 'fact', '', 'finds', '', 'youth', '', '', 'seeking', '', '', 'daughtersuniversal', 'gives', 'durbin', '', 'big', 'star', 'buildup', '', '', '', '', 'final', 'shot', '', '', 'movie', 'ray', 'milland', '', '', 'point', '', 'still', 'paying', '', 'dues', '', '', '', 'probably', '', '', 'surprise', 'even', '', 'film', 'fans', '', 'young', '', 'attractive', '', 'isvery', 'entertaining', '', '', 'course', '', 'led', '', '', 'sequel', '', 'big', 'stardom', '', 'deanna']\n",
            "['', 'anyone', '', 'wondering', '', '', 'one', 'makes', 'movies', 'like', '', 'used', '', '', 'conversation', 'character', '', '', 'simple', 'theme', '', 'friendship', 'struggling', '', 'evolve', '', 'something', 'new', 'better', '', 'different', '', 'folks', 'need', '', 'take', '', '', 'film', '', 'see', 'top', 'notch', 'writing', 'directing', '', 'acting', '', 'melds', '', '', 'wonderful', 'evening', '', 'observation', '', '', 'things', 'used', '', '', '', 'italy', '', 'england', '', 'days', '', 'times', 'funneled', '', '', 'terrific', 'comedy', '', 'entertainment', 'made', '', '1992', '', 'alfred', 'molina', 'joan', 'plowright', 'polly', 'walker', 'josie', 'lawrence', 'jim', 'broadbent', 'miranda', 'richardson', '', 'michael', 'kitchens', '', '', 'major', 'roles', '', '', 'brush', 'stroke', 'direction', '', 'mike', 'newell', '', 'actors', 'accomplish', 'vividly', 'memorable', 'performances', '', '', 'photographed', '', '', 'sublimely', 'subtle', 'painters', 'eye', 'reminiscent', '', '', 'theatrical', 'bedroom', 'farce', '', '', 'turn', '', '', 'century', '', 'film', 'might', '', 'called', '', 'friendship', 'farce', '', 'becomes', '', 'worthwhile', 'experience', '', '', 'growth', '', '', 'romantic', 'nature', 'within', '', 'character', '', '', 'viewer', '', '', 'artistic', 'telegram', '', '', 'importance', '', 'caring', '', '', 'around', 'us']\n",
            "['', 'watched', '', 'series', '', '', 'curiositywanting', '', 'see', '', '', 'could', 'possibly', '', '', '', '', 'modern', 'technologyout', '', 'cecil', 'b', 'demilles', 'classic', 'epic', '', '1956', 'starring', 'charleton', 'hestonyul', 'brenner', '', 'sir', 'cedric', 'hardwicke', '', 'course', '', '', 'let', '', 'yes', '', '', '', '', 'biblical', 'characters', 'correct', '', '', 'didnt', 'give', 'us', '', '', '', 'spectacular', 'theatrical', 'scenes', '', 'held', '', 'interest', 'throughout', '', 'first', 'movie', '', '', 'going', '', '', '', 'miniseries', '', '', '', '', '', 'rivoting', 'scenes', '', 'burning', 'bush', 'parting', '', 'red', 'seadrowning', 'pharohs', 'armies', 'building', 'sethis', 'pyramids', 'could', '', '', 'done', '', 'todays', 'technology', '', '', 'scale', '', 'blockbuster', 'movies', '', '', 'lord', '', '', 'rings', '', '', 'matrix', 'obviously', '', 'didnt', 'want', '', 'leave', '', 'lasting', 'impression', '', 'faith', '', 'sacrifice', '', '', 'much', 'needed', '', '', 'trouble', 'times']\n",
            "['daniel', 'daylewis', '', '', '', 'versatile', 'actor', 'alive', 'english', 'aristocratic', 'snob', '', '', 'room', '', '', 'view', 'passionate', 'irish', 'thief', '', '', '', 'name', '', '', 'father', '', 'impudent', 'violent', 'butcher', '', 'gangs', '', 'new', 'york', '', '', 'performance', 'ten', 'times', 'stronger', '', 'adrian', 'brodys', '', '', 'pianist', '', '', '', 'outrageous', 'cristy', 'brown', '', 'cerebral', 'palsy', '', '', 'left', 'foot', '', '', 'name', '', '', '', 'roles', '', 'influence', 'eachother', '', '', '', 'seperate', '', 'utterly', 'unique', '', 'changes', 'completely', '', '', 'character', '', 'takes', '', '', 'im', 'beginning', '', 'believe', '', '', '', 'act', '', 'anything', 'anythingas', 'cristy', 'brown', '', '', 'stunning', '', '', '', 'ridicule', '', 'character', '', '', '', '', 'pity', '', 'character', '', 'difficult', 'achievement', '', 'cristy', 'brown', 'comes', '', 'life', '', 'smart', 'man', '', 'outrageous', 'man', 'humanthis', 'movie', 'despite', 'small', 'scenetransition', 'faults', '', '', 'like', '', '', 'inspiration', 'yes', '', 'predictable', '', '', '', 'stupidly', 'sentimental', '', '', 'laughed', '', 'cried', '', '', 'single', 'moment', '', 'cheese', 'proof', '', '', 'isnt', '', 'hollywood', 'moviemy', 'favourite', 'scene', '', '', 'scene', '', '', 'restaurant', '', 'cristy', '', 'discussing', 'painters', '', 'eileen', 'peter', '', '', 'friends', 'heres', '', 'daniel', 'daylewis', 'reaches', '', 'acting', 'climax', 'ill', 'kick', '', '', '', '', 'part', '', '', 'anatomy', 'thats', 'animated', 'wheel', '', '', 'cripple', '', '', 'performance', 'never', 'slows', '', 'never', 'falters', '', '', 'beautiful', 'simply', '', '', '', 'lot', '', 'screen', 'time', '', '', 'watch', '', '', '', '', '', 'never', 'get', 'tired', '', 'cristys', 'perspicacious', 'eyes', 'twitching', '', 'guttural', 'speechesa', 'mustsee', 'fo', 'sho', 'yo']\n",
            "['', 'guess', 'would', '', '', '', 'originally', 'going', '', '', '', 'least', 'two', 'parts', '', 'thus', '', 'least', '', 'quarter', 'longer', '', 'otherwise', '', '', 'one', 'explain', '', 'confused', 'abbreviated', 'storyline', '', '', 'never', 'completely', 'lost', '', '', '', 'often', 'partially', 'lost', '', 'usually', 'unclear', '', 'character', 'motivation', '', 'movie', 'feels', '', 'though', 'joining', 'plot', 'points', '', 'dropped', '', 'squeeze', '', '', '', 'time', 'slotif', '', '', 'longer', '', 'might', 'make', '', 'sense', '', '', 'still', 'wouldnt', '', 'much', 'good', '', 'movies', '', 'interesting', 'idea', '', '', '', 'war', '', 'zeus', '', 'hera', '', '', '', 'war', '', '', 'male', '', 'female', '', '', 'movie', 'drops', '', 'ball', '', '', 'making', 'heras', 'followers', 'fairly', 'horrible', '', '', '', 'clear', '', '', 'zeus', 'followers', '', '', 'believe', '', 'movie', '', 'also', 'interesting', '', '', 'dont', 'see', '', 'gods', '', 'theres', '', 'real', 'certainty', '', '', 'exist', '', '', 'got', '', 'couple', '', 'intriguing', 'ideas', '', '', 'doesnt', '', 'anything', 'useful', '', 'thembad', 'dialog', 'cardboard', 'characters', '', 'one', 'interesting', 'scene', 'involving', 'hercules', '', '', 'three', 'antagonistic', 'sons', '', 'unwatchable', '', 'also', '', 'worth', 'watching']\n",
            "['well', '', 'like', '', 'watch', 'bad', 'horror', 'bmovies', 'cause', '', 'think', '', 'interesting', '', 'see', 'stupidity', '', 'unability', '', 'creators', '', 'shoot', 'seriously', 'good', 'movie', '', 'always', 'compare', '', 'movies', '', '', 'example', '', 'spielbergs', 'works', '', 'againandagain', 'dont', 'understand', '', 'huge', 'difference', '', '', '', 'see', '', 'like', 'ed', 'woods', 'movies', 'cause', '', '', 'inept', '', '', 'funny', '', 'people', '', 'chilling', '', '', 'funny', '', '', '', 'even', 'interesting', '', 'extremely', 'boring', 'horror', 'movie', 'without', 'anything', '', 'makes', 'even', 'bad', 'movies', 'watchable', 'theres', '', 'acting', '', 'screenplay', '', 'direction', '', 'thrills', '', '', 'even', 'blood', '', 'extremely', 'inept', 'amateurish', 'film', '', 'definitely', '', 'worst', 'movie', '', '', 'ever', 'seen', '', '', '', 'seen', '', 'lot', '', 'worst', 'movies', 'believe', '', '', 'warned', '', '110']\n",
            "['', '', '', 'worst', 'movie', '', '', 'ever', 'seen', '', 'well', '', '', 'worst', '', '', '', 'probably', 'ever', 'see', '', 'see', '', 'need', '', 'rehash', '', '', '', 'others', '', 'said', 'previously', '', '', 'forewarnedthis', '', '', 'one', '', '', 'bad', 'movies', '', 'think', '', 'want', '', 'watch', '', '', 'want', '', '', 'able', '', 'make', 'fun', '', '', '', '', 'plain', 'bad', 'bad', 'bad', 'bad', 'badthis', 'movie', '', '', 'equivalent', '', '', '', 'pet', 'rock', '', '', 'friend', '', 'wait', '', 'wait', '', 'wait', '', 'wait', '', 'wait', '', 'wait', '', 'wait', '', 'wait', '', 'something', '', 'happen', 'unfortunately', '', 'never', '', '', 'least', '', '', 'pet', 'rock', '', 'knew', '', '', '', 'getting', '', 'lions', 'gate', 'completely', 'deceives', '', '', 'bombshell', 'nothis', '', '', 'disaster', '', 'watching', '', 'film', '', 'would', 'swear', 'george', 'w', 'bush', '', '', 'hands', '', '', '', 'making', '', '', 'film', 'yes', '', '', 'idioticstay', 'away', 'unless', '', 'course', '', '', 'want', '', 'watch', '', 'worst', 'movie', '', '', 'time', '', 'probably', '', 'lions', 'gate', 'figured', '', 'would', 'make', '', 'money', '', '', 'piece', '', 'tripe']\n",
            "['', '', '', '', 'mario', 'fan', '', '', 'long', '', '', '', 'remember', '', '', '', 'fond', 'memories', '', 'playing', 'super', 'mario', 'world', '', '', 'kid', '', 'game', '', 'brought', 'back', 'many', '', '', 'memories', '', 'adding', 'something', 'new', 'super', 'mario', 'galaxy', '', '', 'latest', 'installment', '', '', 'amazing', 'mario', 'franchise', '', '', 'much', '', 'different', '', '', 'game', '', '', '', 'mario', '', '', '', 'still', 'keeping', 'intact', '', 'greatest', 'elements', '', 'mario', '', 'first', 'noticeable', 'difference', '', '', '', 'story', 'takes', 'place', '', 'spacethe', 'story', 'begins', 'much', 'like', '', '', 'mario', 'game', 'mario', 'receives', '', 'letter', '', 'princess', 'peach', 'inviting', '', '', '', 'celebration', '', '', 'castle', '', '', 'mushroom', 'kingdom', 'upon', 'arriving', '', 'peachs', 'castle', 'mario', 'finds', 'bowser', '', '', 'son', 'bowser', 'jr', 'attacking', '', 'castle', '', '', 'airships', 'bowser', 'kidnaps', 'princess', 'peach', '', '', 'lifts', '', 'castle', '', '', 'space', '', '', 'midst', '', '', 'castle', '', 'lifted', '', 'space', 'mario', 'falls', '', '', 'lands', '', '', 'unknown', 'planet', 'mario', '', 'found', '', '', 'talking', 'star', 'named', 'luma', '', '', 'taken', 'back', '', '', 'lumas', 'home', '', 'floating', 'space', 'station', '', 'mario', 'meets', 'many', '', 'lumas', '', 'also', 'meets', '', 'leader', '', 'woman', 'named', 'rosalina', 'rosalina', 'tells', 'mario', '', 'bowser', '', 'taken', 'away', '', 'space', 'stations', 'power', 'stars', '', 'scattered', '', 'across', '', 'universe', '', '', '', '', 'mario', '', 'help', '', 'lumas', 'find', '', '', 'save', 'peach', 'thus', '', 'adventure', 'beginsthe', 'way', '', 'play', '', 'game', '', '', 'flying', '', '', 'space', 'station', '', '', 'galaxies', '', 'galaxy', 'consists', '', 'multiple', 'planets', '', 'mario', 'travels', 'amongst', '', 'levels', 'via', '', 'shooting', 'stars', '', 'retrieve', '', 'power', 'stars', 'mario', '', '', 'many', 'times', 'walk', '', '', 'way', 'around', 'planets', 'without', 'losing', 'gravity', '', 'planets', '', 'small', '', 'others', '', 'big', 'many', 'planets', '', 'similar', '', 'classic', 'mario', 'environments', '', 'best', 'thing', '', '', 'game', '', '', 'controls', '', '', '', 'stuff', 'like', 'jumping', '', '', '', 'still', '', '', '', '', 'wiimote', '', 'used', '', 'many', 'unique', 'ways', '', '', 'game', '', 'shake', '', 'remote', 'mario', '', 'perform', '', 'spin', '', '', 'used', '', '', 'primary', 'attack', '', '', 'game', '', '', '', '', 'well', 'activate', '', 'shooting', 'stars', '', '', 'also', 'point', '', 'remote', '', '', 'screen', '', 'use', '', 'pointer', '', 'fire', 'star', 'bits', '', 'enemies', '', 'objects', '', '', 'environment', '', '', '', '', 'graphics', '', '', '', 'far', '', 'best', 'graphics', '', '', 'wii', '', '', '', '', 'hard', '', 'describe', '', 'great', '', 'game', 'looks', '', 'could', 'probably', 'almost', 'say', '', 'looks', '', 'good', '', '', '360', 'gamesmy', '', 'minor', 'gripes', '', '', '', 'going', 'upside', '', 'effect', 'takes', '', 'getting', 'used', '', '', 'also', '', 'story', '', 'pretty', 'weak', '', 'worst', 'part', '', '', '', 'lose', '', '', '', 'lives', '', '', 'turn', '', '', 'game', '', 'matter', '', 'many', '', '', '', '', 'last', 'quit', '', 'restart', '', '4', 'lives', 'still', '', 'minor', 'problems', 'aside', '', '', 'superb', 'game', '', '', 'highly', 'entertaining', '', '', '', 'challenging', '', '', '', 'type', '', 'game', '', 'weve', '', 'waiting', '', '', '', 'wiia', 'perfect', '10', '', '', '10']\n"
          ]
        }
      ]
    },
    {
      "cell_type": "code",
      "source": [
        "df['review'].head()"
      ],
      "metadata": {
        "id": "_MwU7BVVUBcF",
        "colab": {
          "base_uri": "https://localhost:8080/",
          "height": 241
        },
        "outputId": "b77154c5-860c-4649-c5b6-1151f9292898"
      },
      "execution_count": null,
      "outputs": [
        {
          "output_type": "execute_result",
          "data": {
            "text/plain": [
              "0    one    reviewers  mentioned   watching  1 oz e...\n",
              "1     wonderful little production  filming techniqu...\n",
              "2     thought    wonderful way  spend time    hot s...\n",
              "3    basically theres  family   little boy jake thi...\n",
              "4    petter matteis love   time  money   visually s...\n",
              "Name: review, dtype: object"
            ],
            "text/html": [
              "<div>\n",
              "<style scoped>\n",
              "    .dataframe tbody tr th:only-of-type {\n",
              "        vertical-align: middle;\n",
              "    }\n",
              "\n",
              "    .dataframe tbody tr th {\n",
              "        vertical-align: top;\n",
              "    }\n",
              "\n",
              "    .dataframe thead th {\n",
              "        text-align: right;\n",
              "    }\n",
              "</style>\n",
              "<table border=\"1\" class=\"dataframe\">\n",
              "  <thead>\n",
              "    <tr style=\"text-align: right;\">\n",
              "      <th></th>\n",
              "      <th>review</th>\n",
              "    </tr>\n",
              "  </thead>\n",
              "  <tbody>\n",
              "    <tr>\n",
              "      <th>0</th>\n",
              "      <td>one    reviewers  mentioned   watching  1 oz e...</td>\n",
              "    </tr>\n",
              "    <tr>\n",
              "      <th>1</th>\n",
              "      <td>wonderful little production  filming techniqu...</td>\n",
              "    </tr>\n",
              "    <tr>\n",
              "      <th>2</th>\n",
              "      <td>thought    wonderful way  spend time    hot s...</td>\n",
              "    </tr>\n",
              "    <tr>\n",
              "      <th>3</th>\n",
              "      <td>basically theres  family   little boy jake thi...</td>\n",
              "    </tr>\n",
              "    <tr>\n",
              "      <th>4</th>\n",
              "      <td>petter matteis love   time  money   visually s...</td>\n",
              "    </tr>\n",
              "  </tbody>\n",
              "</table>\n",
              "</div><br><label><b>dtype:</b> object</label>"
            ]
          },
          "metadata": {},
          "execution_count": 133
        }
      ]
    },
    {
      "cell_type": "code",
      "source": [
        "df['review'][0]"
      ],
      "metadata": {
        "id": "PZ9OBXOoUBfB",
        "colab": {
          "base_uri": "https://localhost:8080/",
          "height": 140
        },
        "outputId": "2b8adfec-5bdc-4c76-a650-71d11e767192"
      },
      "execution_count": null,
      "outputs": [
        {
          "output_type": "execute_result",
          "data": {
            "text/plain": [
              "'one    reviewers  mentioned   watching  1 oz episode youll  hooked   right    exactly  happened  methe first thing  struck   oz   brutality  unflinching scenes  violence  set  right   word go trust      show   faint hearted  timid  show pulls  punches  regards  drugs sex  violence   hardcore   classic use   wordit  called oz     nickname given   oswald maximum security state penitentary  focuses mainly  emerald city  experimental section   prison    cells  glass fronts  face inwards  privacy   high   agenda em city  home  manyaryans muslims gangstas latinos christians italians irish  moreso scuffles death stares dodgy dealings  shady agreements  never far awayi would say  main appeal   show  due   fact   goes   shows wouldnt dare forget pretty pictures painted  mainstream audiences forget charm forget romanceoz doesnt mess around  first episode  ever saw struck    nasty   surreal  couldnt say   ready      watched   developed  taste  oz  got accustomed   high levels  graphic violence   violence  injustice crooked guards wholl  sold    nickel inmates wholl kill  order  get away   well mannered middle class inmates  turned  prison bitches due   lack  street skills  prison experience watching oz  may become comfortable    uncomfortable viewingthats    get  touch   darker side'"
            ],
            "application/vnd.google.colaboratory.intrinsic+json": {
              "type": "string"
            }
          },
          "metadata": {},
          "execution_count": 134
        }
      ]
    },
    {
      "cell_type": "markdown",
      "source": [
        "# Removing Emojis\n"
      ],
      "metadata": {
        "id": "f9iDYQyavJp7"
      }
    },
    {
      "cell_type": "code",
      "source": [
        "import re\n",
        "def remove_emojis(text):\n",
        "  emoji_pattern = re.compile(\"[\"\n",
        "    u\"\\U0001F600-\\U0001F64F\"  # emoticons\n",
        "    u\"\\U0001F300-\\U0001F5FF\"  # symbols & pictographs\n",
        "    u\"\\U0001F680-\\U0001F6FF\"  # transport & map symbols\n",
        "    u\"\\U0001F1E0-\\U0001F1FF\"\n",
        "    u\"\\U00002702-\\U000027B0\"\n",
        "    u\"\\U000024C2-\\U0001F251\"\n",
        "    u\"\\U0001f926-\\U0001f937\"\n",
        "    u'\\U00010000-\\U0010ffff'\n",
        "    u\"\\u200d\"\n",
        "    u\"\\u2640-\\u2642\"\n",
        "    u\"\\u2600-\\u2B55\"\n",
        "    u\"\\u23cf\"\n",
        "    u\"\\u23e9\"\n",
        "    u\"\\u231a\"\n",
        "    u\"\\u3030\"\n",
        "    u\"\\ufe0f\"\n",
        "    \"]+\", flags=re.UNICODE)\n",
        "  return emoji_pattern.sub(r'', text)\n",
        "\n"
      ],
      "metadata": {
        "id": "l_YNVz2OUBko"
      },
      "execution_count": null,
      "outputs": []
    },
    {
      "cell_type": "code",
      "source": [
        "text = \"I love icecream ❤ hey hello 🌻 yes ✨ good🫂\""
      ],
      "metadata": {
        "id": "OJp4dmBsytZJ"
      },
      "execution_count": null,
      "outputs": []
    },
    {
      "cell_type": "code",
      "source": [
        "print(remove_emojis(text))"
      ],
      "metadata": {
        "colab": {
          "base_uri": "https://localhost:8080/"
        },
        "id": "Npu0pPpGytbh",
        "outputId": "46e96297-e93a-47b0-b955-2e0bc3ff83e2"
      },
      "execution_count": null,
      "outputs": [
        {
          "output_type": "stream",
          "name": "stdout",
          "text": [
            "I love icecream  hey hello  yes  good\n"
          ]
        }
      ]
    },
    {
      "cell_type": "code",
      "source": [
        "# Giving meaning to the emojis rather than deleting them\n",
        "# DEMOJISING"
      ],
      "metadata": {
        "id": "QJdIdKQzytdq"
      },
      "execution_count": null,
      "outputs": []
    },
    {
      "cell_type": "code",
      "source": [
        "!pip install emoji"
      ],
      "metadata": {
        "colab": {
          "base_uri": "https://localhost:8080/"
        },
        "id": "6d2ZYXoZytgF",
        "outputId": "14275e49-e9ec-4dae-aa98-4e692cb4f2ac"
      },
      "execution_count": null,
      "outputs": [
        {
          "output_type": "stream",
          "name": "stdout",
          "text": [
            "Collecting emoji\n",
            "  Downloading emoji-2.14.1-py3-none-any.whl.metadata (5.7 kB)\n",
            "Downloading emoji-2.14.1-py3-none-any.whl (590 kB)\n",
            "\u001b[?25l   \u001b[90m━━━━━━━━━━━━━━━━━━━━━━━━━━━━━━━━━━━━━━━━\u001b[0m \u001b[32m0.0/590.6 kB\u001b[0m \u001b[31m?\u001b[0m eta \u001b[36m-:--:--\u001b[0m\r\u001b[2K   \u001b[91m━━━━━━━━━━━\u001b[0m\u001b[90m╺\u001b[0m\u001b[90m━━━━━━━━━━━━━━━━━━━━━━━━━━━━\u001b[0m \u001b[32m163.8/590.6 kB\u001b[0m \u001b[31m4.6 MB/s\u001b[0m eta \u001b[36m0:00:01\u001b[0m\r\u001b[2K   \u001b[91m━━━━━━━━━━━━━━━━━━━━━━━━━━━━━━━━━━━━━━━\u001b[0m\u001b[91m╸\u001b[0m \u001b[32m583.7/590.6 kB\u001b[0m \u001b[31m10.3 MB/s\u001b[0m eta \u001b[36m0:00:01\u001b[0m\r\u001b[2K   \u001b[90m━━━━━━━━━━━━━━━━━━━━━━━━━━━━━━━━━━━━━━━━\u001b[0m \u001b[32m590.6/590.6 kB\u001b[0m \u001b[31m8.2 MB/s\u001b[0m eta \u001b[36m0:00:00\u001b[0m\n",
            "\u001b[?25hInstalling collected packages: emoji\n",
            "Successfully installed emoji-2.14.1\n"
          ]
        }
      ]
    },
    {
      "cell_type": "code",
      "source": [
        "import emoji"
      ],
      "metadata": {
        "id": "lK_fcQNOytiK"
      },
      "execution_count": null,
      "outputs": []
    },
    {
      "cell_type": "code",
      "source": [
        "text1=\"I love icecream 😋\"\n",
        "text2 =\"Sunflower is my favorite flower 🌻\"\n",
        "text3=\"He is a good developer 👨‍💻👨\""
      ],
      "metadata": {
        "id": "psAZRY0aytko"
      },
      "execution_count": null,
      "outputs": []
    },
    {
      "cell_type": "code",
      "source": [
        "print(emoji.demojize(text1))\n",
        "print(emoji.demojize(text2))\n",
        "print(emoji.demojize(text3))"
      ],
      "metadata": {
        "colab": {
          "base_uri": "https://localhost:8080/"
        },
        "id": "vjslJeDRytm_",
        "outputId": "27ab2e8d-1893-4933-d7d2-7a32741ee363"
      },
      "execution_count": null,
      "outputs": [
        {
          "output_type": "stream",
          "name": "stdout",
          "text": [
            "I love icecream :face_savoring_food:\n",
            "Sunflower is my favorite flower :sunflower:\n",
            "He is a good developer :man_technologist::man:\n"
          ]
        }
      ]
    },
    {
      "cell_type": "markdown",
      "source": [
        "# Tokenization"
      ],
      "metadata": {
        "id": "1mHhgdMFFCwk"
      }
    },
    {
      "cell_type": "markdown",
      "source": [
        "# 1.Using split()"
      ],
      "metadata": {
        "id": "lsiKevTnFKoj"
      }
    },
    {
      "cell_type": "code",
      "source": [
        "# Word Level Tokenization\n",
        "\n",
        "sent1=\"Augnes is a kind person\"\n",
        "sent1.split()"
      ],
      "metadata": {
        "colab": {
          "base_uri": "https://localhost:8080/"
        },
        "id": "04MmF7uKytpO",
        "outputId": "e9d4ed32-3387-48af-e95a-fa07a84e4116"
      },
      "execution_count": null,
      "outputs": [
        {
          "output_type": "execute_result",
          "data": {
            "text/plain": [
              "['Augnes', 'is', 'a', 'kind', 'person']"
            ]
          },
          "metadata": {},
          "execution_count": 143
        }
      ]
    },
    {
      "cell_type": "code",
      "source": [
        "# Sentense level Tokenization\n",
        "\n",
        "sent2=\"Augnes is a kind person.Augnes is a good person\"\n",
        "sent2.split('.')"
      ],
      "metadata": {
        "colab": {
          "base_uri": "https://localhost:8080/"
        },
        "id": "2IApB-BCytrt",
        "outputId": "8d7cd965-18f0-4ed5-e176-b6ce5aa24142"
      },
      "execution_count": null,
      "outputs": [
        {
          "output_type": "execute_result",
          "data": {
            "text/plain": [
              "['Augnes is a kind person', 'Augnes is a good person']"
            ]
          },
          "metadata": {},
          "execution_count": 144
        }
      ]
    },
    {
      "cell_type": "markdown",
      "source": [
        "# 2. Using Regular expression"
      ],
      "metadata": {
        "id": "Iv18KI-VHhdS"
      }
    },
    {
      "cell_type": "code",
      "source": [
        "# Word Level Tokenization\n",
        "\n",
        "import re\n",
        "sent3=\"I am going to Delhi\"\n",
        "tokens=re.findall(\"['\\w']+\", sent3)\n",
        "tokens"
      ],
      "metadata": {
        "colab": {
          "base_uri": "https://localhost:8080/"
        },
        "id": "7RK8nfH0ytwq",
        "outputId": "e6aa74cf-2517-4511-d464-915177852548"
      },
      "execution_count": null,
      "outputs": [
        {
          "output_type": "execute_result",
          "data": {
            "text/plain": [
              "['I', 'am', 'going', 'to', 'Delhi']"
            ]
          },
          "metadata": {},
          "execution_count": 145
        }
      ]
    },
    {
      "cell_type": "code",
      "source": [
        "# Sentence Level Tokenization\n",
        "\n",
        "import re\n",
        "sent4=\"I am going to Delhi.I will stay there for 3 days.Let's hope the trip to be great\"\n",
        "sentences=re.compile('[.!?] ').split(sent4)\n",
        "sentences"
      ],
      "metadata": {
        "colab": {
          "base_uri": "https://localhost:8080/"
        },
        "id": "T_kMKsoKytzV",
        "outputId": "b3eedc7c-5434-4def-d3a4-27aecd87efbc"
      },
      "execution_count": null,
      "outputs": [
        {
          "output_type": "execute_result",
          "data": {
            "text/plain": [
              "[\"I am going to Delhi.I will stay there for 3 days.Let's hope the trip to be great\"]"
            ]
          },
          "metadata": {},
          "execution_count": 146
        }
      ]
    },
    {
      "cell_type": "markdown",
      "source": [
        "# 3. Using NLTK"
      ],
      "metadata": {
        "id": "SzzbBjGYI2R6"
      }
    },
    {
      "cell_type": "code",
      "source": [],
      "metadata": {
        "id": "n1JpanVfyt18"
      },
      "execution_count": null,
      "outputs": []
    },
    {
      "cell_type": "code",
      "source": [],
      "metadata": {
        "id": "eOditdhfyt4e"
      },
      "execution_count": null,
      "outputs": []
    },
    {
      "cell_type": "code",
      "source": [],
      "metadata": {
        "id": "6vg1V0kEyt7G"
      },
      "execution_count": null,
      "outputs": []
    },
    {
      "cell_type": "code",
      "source": [],
      "metadata": {
        "id": "SCAe8tG7yt9a"
      },
      "execution_count": null,
      "outputs": []
    },
    {
      "cell_type": "code",
      "source": [],
      "metadata": {
        "id": "T2cQhQdIyt_w"
      },
      "execution_count": null,
      "outputs": []
    },
    {
      "cell_type": "code",
      "source": [],
      "metadata": {
        "id": "IUY71GqDyuB1"
      },
      "execution_count": null,
      "outputs": []
    },
    {
      "cell_type": "code",
      "source": [],
      "metadata": {
        "id": "QoX2KE3PyuEZ"
      },
      "execution_count": null,
      "outputs": []
    },
    {
      "cell_type": "code",
      "source": [],
      "metadata": {
        "id": "ZBq85EIbyuHI"
      },
      "execution_count": null,
      "outputs": []
    },
    {
      "cell_type": "code",
      "source": [],
      "metadata": {
        "id": "Yj1hpDaayuJ9"
      },
      "execution_count": null,
      "outputs": []
    },
    {
      "cell_type": "code",
      "source": [],
      "metadata": {
        "id": "ww-aDfhdyuMV"
      },
      "execution_count": null,
      "outputs": []
    },
    {
      "cell_type": "code",
      "source": [],
      "metadata": {
        "id": "pUnAWgi9yuPK"
      },
      "execution_count": null,
      "outputs": []
    },
    {
      "cell_type": "code",
      "source": [],
      "metadata": {
        "id": "T2scNMUKyuRX"
      },
      "execution_count": null,
      "outputs": []
    },
    {
      "cell_type": "code",
      "source": [],
      "metadata": {
        "id": "ZRxlTNI8yuT4"
      },
      "execution_count": null,
      "outputs": []
    },
    {
      "cell_type": "code",
      "source": [],
      "metadata": {
        "id": "JeKjUIbPyuWi"
      },
      "execution_count": null,
      "outputs": []
    },
    {
      "cell_type": "code",
      "source": [],
      "metadata": {
        "id": "DjAu68TOyuY-"
      },
      "execution_count": null,
      "outputs": []
    },
    {
      "cell_type": "code",
      "source": [],
      "metadata": {
        "id": "K5jT0TITyubh"
      },
      "execution_count": null,
      "outputs": []
    },
    {
      "cell_type": "code",
      "source": [],
      "metadata": {
        "id": "RdgNrqWtyueK"
      },
      "execution_count": null,
      "outputs": []
    },
    {
      "cell_type": "code",
      "source": [],
      "metadata": {
        "id": "rke6i8siyug3"
      },
      "execution_count": null,
      "outputs": []
    },
    {
      "cell_type": "code",
      "source": [],
      "metadata": {
        "id": "z1YTEaKiyujL"
      },
      "execution_count": null,
      "outputs": []
    },
    {
      "cell_type": "code",
      "source": [],
      "metadata": {
        "id": "Suz9VOF8yulm"
      },
      "execution_count": null,
      "outputs": []
    },
    {
      "cell_type": "code",
      "source": [],
      "metadata": {
        "id": "HIkyteIlyuoh"
      },
      "execution_count": null,
      "outputs": []
    },
    {
      "cell_type": "code",
      "source": [],
      "metadata": {
        "id": "8Q9IrgvGyuq2"
      },
      "execution_count": null,
      "outputs": []
    },
    {
      "cell_type": "code",
      "source": [],
      "metadata": {
        "id": "i5SfBTfkyuty"
      },
      "execution_count": null,
      "outputs": []
    },
    {
      "cell_type": "code",
      "source": [],
      "metadata": {
        "id": "DR7Z4VJnyuwh"
      },
      "execution_count": null,
      "outputs": []
    },
    {
      "cell_type": "code",
      "source": [],
      "metadata": {
        "id": "l0tMNukhyuzS"
      },
      "execution_count": null,
      "outputs": []
    },
    {
      "cell_type": "code",
      "source": [],
      "metadata": {
        "id": "t9DfahJwyu2U"
      },
      "execution_count": null,
      "outputs": []
    },
    {
      "cell_type": "code",
      "source": [],
      "metadata": {
        "id": "Fs5sKJByyu4i"
      },
      "execution_count": null,
      "outputs": []
    },
    {
      "cell_type": "code",
      "source": [],
      "metadata": {
        "id": "l3G5pS1byu6w"
      },
      "execution_count": null,
      "outputs": []
    },
    {
      "cell_type": "code",
      "source": [],
      "metadata": {
        "id": "w6DbDIBIyu9M"
      },
      "execution_count": null,
      "outputs": []
    },
    {
      "cell_type": "code",
      "source": [],
      "metadata": {
        "id": "mNaBEa7HyvAS"
      },
      "execution_count": null,
      "outputs": []
    },
    {
      "cell_type": "code",
      "source": [],
      "metadata": {
        "id": "-iKpxi71yvDI"
      },
      "execution_count": null,
      "outputs": []
    },
    {
      "cell_type": "code",
      "source": [],
      "metadata": {
        "id": "ibJ-x-QHyvFs"
      },
      "execution_count": null,
      "outputs": []
    },
    {
      "cell_type": "code",
      "source": [],
      "metadata": {
        "id": "waPPd5cCyvIW"
      },
      "execution_count": null,
      "outputs": []
    },
    {
      "cell_type": "code",
      "source": [],
      "metadata": {
        "id": "2suB91ZVyvLL"
      },
      "execution_count": null,
      "outputs": []
    },
    {
      "cell_type": "code",
      "source": [],
      "metadata": {
        "id": "4qDnC8M-yvOO"
      },
      "execution_count": null,
      "outputs": []
    },
    {
      "cell_type": "code",
      "source": [],
      "metadata": {
        "id": "JCBTahAtyvRS"
      },
      "execution_count": null,
      "outputs": []
    },
    {
      "cell_type": "code",
      "source": [],
      "metadata": {
        "id": "34tdC3_FyvTu"
      },
      "execution_count": null,
      "outputs": []
    },
    {
      "cell_type": "code",
      "source": [],
      "metadata": {
        "id": "ILG55AegyvWu"
      },
      "execution_count": null,
      "outputs": []
    },
    {
      "cell_type": "code",
      "source": [],
      "metadata": {
        "id": "dynyOp5MyvZJ"
      },
      "execution_count": null,
      "outputs": []
    },
    {
      "cell_type": "code",
      "source": [],
      "metadata": {
        "id": "eydFkv5LyvcZ"
      },
      "execution_count": null,
      "outputs": []
    },
    {
      "cell_type": "code",
      "source": [],
      "metadata": {
        "id": "OaJGPlV8yvfd"
      },
      "execution_count": null,
      "outputs": []
    },
    {
      "cell_type": "code",
      "source": [],
      "metadata": {
        "id": "CQMupGdeyviZ"
      },
      "execution_count": null,
      "outputs": []
    },
    {
      "cell_type": "code",
      "source": [],
      "metadata": {
        "id": "XjH0JglOyvlU"
      },
      "execution_count": null,
      "outputs": []
    },
    {
      "cell_type": "code",
      "source": [],
      "metadata": {
        "id": "hu-IIoGAyvoW"
      },
      "execution_count": null,
      "outputs": []
    },
    {
      "cell_type": "code",
      "source": [],
      "metadata": {
        "id": "Zmcxx0m_yvro"
      },
      "execution_count": null,
      "outputs": []
    },
    {
      "cell_type": "code",
      "source": [],
      "metadata": {
        "id": "DKPG9fvYyvt_"
      },
      "execution_count": null,
      "outputs": []
    },
    {
      "cell_type": "code",
      "source": [],
      "metadata": {
        "id": "Al9wpdWHyvw0"
      },
      "execution_count": null,
      "outputs": []
    },
    {
      "cell_type": "code",
      "source": [],
      "metadata": {
        "id": "C0DYd_9Kyvzb"
      },
      "execution_count": null,
      "outputs": []
    },
    {
      "cell_type": "code",
      "source": [],
      "metadata": {
        "id": "Xu5oohrdyv13"
      },
      "execution_count": null,
      "outputs": []
    },
    {
      "cell_type": "code",
      "source": [],
      "metadata": {
        "id": "KnLCweMPyv4h"
      },
      "execution_count": null,
      "outputs": []
    },
    {
      "cell_type": "code",
      "source": [],
      "metadata": {
        "id": "FfDFIw17yv7G"
      },
      "execution_count": null,
      "outputs": []
    },
    {
      "cell_type": "code",
      "source": [],
      "metadata": {
        "id": "s97UMWn-yv95"
      },
      "execution_count": null,
      "outputs": []
    },
    {
      "cell_type": "code",
      "source": [],
      "metadata": {
        "id": "RcnR9R5lywAZ"
      },
      "execution_count": null,
      "outputs": []
    },
    {
      "cell_type": "code",
      "source": [],
      "metadata": {
        "id": "3nyHZVwJywDE"
      },
      "execution_count": null,
      "outputs": []
    },
    {
      "cell_type": "code",
      "source": [],
      "metadata": {
        "id": "8MJ1-2P0ywFj"
      },
      "execution_count": null,
      "outputs": []
    },
    {
      "cell_type": "code",
      "source": [],
      "metadata": {
        "id": "LvKX-BblywH8"
      },
      "execution_count": null,
      "outputs": []
    },
    {
      "cell_type": "code",
      "source": [],
      "metadata": {
        "id": "Fx7APSQ6ywKr"
      },
      "execution_count": null,
      "outputs": []
    },
    {
      "cell_type": "code",
      "source": [],
      "metadata": {
        "id": "IRCqsAa8ywNK"
      },
      "execution_count": null,
      "outputs": []
    },
    {
      "cell_type": "code",
      "source": [],
      "metadata": {
        "id": "iOt5fWcrywPc"
      },
      "execution_count": null,
      "outputs": []
    },
    {
      "cell_type": "code",
      "source": [],
      "metadata": {
        "id": "9DrO93hIywSJ"
      },
      "execution_count": null,
      "outputs": []
    },
    {
      "cell_type": "code",
      "source": [],
      "metadata": {
        "id": "l9KHXnZLywUh"
      },
      "execution_count": null,
      "outputs": []
    },
    {
      "cell_type": "code",
      "source": [],
      "metadata": {
        "id": "uWwyXVqCywW4"
      },
      "execution_count": null,
      "outputs": []
    },
    {
      "cell_type": "code",
      "source": [],
      "metadata": {
        "id": "Vc4j2CD2ywac"
      },
      "execution_count": null,
      "outputs": []
    },
    {
      "cell_type": "code",
      "source": [],
      "metadata": {
        "id": "mTBCV8prywcw"
      },
      "execution_count": null,
      "outputs": []
    },
    {
      "cell_type": "code",
      "source": [],
      "metadata": {
        "id": "hP34u2QIywfs"
      },
      "execution_count": null,
      "outputs": []
    },
    {
      "cell_type": "code",
      "source": [],
      "metadata": {
        "id": "QRkKzM-9ywiJ"
      },
      "execution_count": null,
      "outputs": []
    },
    {
      "cell_type": "code",
      "source": [],
      "metadata": {
        "id": "heibSBDkywk_"
      },
      "execution_count": null,
      "outputs": []
    },
    {
      "cell_type": "code",
      "source": [],
      "metadata": {
        "id": "vUHNZoXYywoB"
      },
      "execution_count": null,
      "outputs": []
    },
    {
      "cell_type": "code",
      "source": [],
      "metadata": {
        "id": "D-xSNM4Kywrc"
      },
      "execution_count": null,
      "outputs": []
    },
    {
      "cell_type": "code",
      "source": [],
      "metadata": {
        "id": "ahEByG5Cywts"
      },
      "execution_count": null,
      "outputs": []
    },
    {
      "cell_type": "code",
      "source": [],
      "metadata": {
        "id": "d-ck-nQMywxI"
      },
      "execution_count": null,
      "outputs": []
    },
    {
      "cell_type": "code",
      "source": [],
      "metadata": {
        "id": "hoSZ8QHYyw21"
      },
      "execution_count": null,
      "outputs": []
    },
    {
      "cell_type": "code",
      "source": [],
      "metadata": {
        "id": "dpQGsob1yw52"
      },
      "execution_count": null,
      "outputs": []
    },
    {
      "cell_type": "code",
      "source": [],
      "metadata": {
        "id": "j-eEzvqWyw83"
      },
      "execution_count": null,
      "outputs": []
    },
    {
      "cell_type": "code",
      "source": [],
      "metadata": {
        "id": "D0QbcsVByw_2"
      },
      "execution_count": null,
      "outputs": []
    },
    {
      "cell_type": "code",
      "source": [],
      "metadata": {
        "id": "5ysYj9bfyxCJ"
      },
      "execution_count": null,
      "outputs": []
    },
    {
      "cell_type": "code",
      "source": [],
      "metadata": {
        "id": "rtLf4J_fyxEw"
      },
      "execution_count": null,
      "outputs": []
    },
    {
      "cell_type": "code",
      "source": [],
      "metadata": {
        "id": "7Xec9jjqyxHh"
      },
      "execution_count": null,
      "outputs": []
    },
    {
      "cell_type": "code",
      "source": [],
      "metadata": {
        "id": "OVP_G6yeyxJ2"
      },
      "execution_count": null,
      "outputs": []
    },
    {
      "cell_type": "code",
      "source": [],
      "metadata": {
        "id": "yRcCcDCUyxMD"
      },
      "execution_count": null,
      "outputs": []
    },
    {
      "cell_type": "code",
      "source": [],
      "metadata": {
        "id": "xphoDOZpyxPu"
      },
      "execution_count": null,
      "outputs": []
    }
  ],
  "metadata": {
    "colab": {
      "provenance": [],
      "include_colab_link": true
    },
    "kernelspec": {
      "display_name": "Python 3",
      "name": "python3"
    }
  },
  "nbformat": 4,
  "nbformat_minor": 0
}